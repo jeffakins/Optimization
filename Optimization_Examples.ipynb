{
 "cells": [
  {
   "cell_type": "markdown",
   "id": "25cc9039",
   "metadata": {},
   "source": [
    "## Optimization Using SciPy"
   ]
  },
  {
   "cell_type": "code",
   "execution_count": 35,
   "id": "48292c41",
   "metadata": {},
   "outputs": [],
   "source": [
    "import pandas as pd\n",
    "import numpy as np\n",
    "from scipy.optimize import minimize\n",
    "import plotly.graph_objects as go\n",
    "import math"
   ]
  },
  {
   "cell_type": "markdown",
   "id": "978ae90d",
   "metadata": {},
   "source": [
    "### Non Linear Example"
   ]
  },
  {
   "cell_type": "code",
   "execution_count": 202,
   "id": "26327c92",
   "metadata": {},
   "outputs": [],
   "source": [
    "x = np.arange(.5, 2, .1)"
   ]
  },
  {
   "cell_type": "code",
   "execution_count": 203,
   "id": "e7cbd873",
   "metadata": {},
   "outputs": [],
   "source": [
    "def f(x):\n",
    "    '''Needs to be in the form of x[0]...x[n]'''\n",
    "    y = (x[0] - 1)**2 + (x[1] -2.5)**2\n",
    "    return y"
   ]
  },
  {
   "cell_type": "code",
   "execution_count": 204,
   "id": "9bbd046d",
   "metadata": {},
   "outputs": [],
   "source": [
    "def g(a, b):\n",
    "    '''Needs to be in the form of x[0]...x[n]'''\n",
    "    y = (a - 1)**2 + (b - 2.5)**2\n",
    "    return y"
   ]
  },
  {
   "cell_type": "code",
   "execution_count": 205,
   "id": "106c40e4",
   "metadata": {},
   "outputs": [],
   "source": [
    "fun = lambda x: (x[0] - 1)**2 + (x[1] - 2.5)**2"
   ]
  },
  {
   "cell_type": "code",
   "execution_count": 206,
   "id": "a8c0c418",
   "metadata": {},
   "outputs": [],
   "source": [
    "cons = ({'type': 'ineq', 'fun': lambda x:  x[0] - 2 * x[1] + 2},\n",
    "        {'type': 'ineq', 'fun': lambda x: -x[0] - 2 * x[1] + 6},\n",
    "        {'type': 'ineq', 'fun': lambda x: -x[0] + 2 * x[1] + 2})"
   ]
  },
  {
   "cell_type": "code",
   "execution_count": 207,
   "id": "c482cb7e",
   "metadata": {},
   "outputs": [],
   "source": [
    "bnds = ((0, None), (0, None))"
   ]
  },
  {
   "cell_type": "code",
   "execution_count": 217,
   "id": "1af61daf",
   "metadata": {},
   "outputs": [],
   "source": [
    "res = minimize(fun, (2, 2), \n",
    "               method='SLSQP', \n",
    "               bounds=bnds, \n",
    "               constraints=cons)"
   ]
  },
  {
   "cell_type": "code",
   "execution_count": 218,
   "id": "3bb6b89a",
   "metadata": {},
   "outputs": [
    {
     "data": {
      "text/plain": [
       "array([1.4, 1.7])"
      ]
     },
     "execution_count": 218,
     "metadata": {},
     "output_type": "execute_result"
    }
   ],
   "source": [
    "res.x"
   ]
  },
  {
   "cell_type": "code",
   "execution_count": 219,
   "id": "40ee72a9",
   "metadata": {},
   "outputs": [],
   "source": [
    "z1=[]\n",
    "z2=[]\n",
    "z3=[]\n",
    "z4=[]\n",
    "x_plot = []\n",
    "y_plot = []\n",
    "\n",
    "for m in x:\n",
    "    for n in x:\n",
    "        x_plot.append(m)\n",
    "        y_plot.append(n)\n",
    "        z1.append(g(m, n))\n",
    "        z2.append(m - 2 * n + 2)\n",
    "        z3.append(-m - 2 * n + 6)\n",
    "        z4.append(-m + 2 * n + 2)"
   ]
  },
  {
   "cell_type": "code",
   "execution_count": 220,
   "id": "191948bc",
   "metadata": {},
   "outputs": [
    {
     "data": {
      "text/plain": [
       "225"
      ]
     },
     "execution_count": 220,
     "metadata": {},
     "output_type": "execute_result"
    }
   ],
   "source": [
    "len(z4)"
   ]
  },
  {
   "cell_type": "code",
   "execution_count": 221,
   "id": "f5b8d6c1",
   "metadata": {
    "scrolled": true
   },
   "outputs": [
    {
     "data": {
      "text/html": [
       "<div>\n",
       "<style scoped>\n",
       "    .dataframe tbody tr th:only-of-type {\n",
       "        vertical-align: middle;\n",
       "    }\n",
       "\n",
       "    .dataframe tbody tr th {\n",
       "        vertical-align: top;\n",
       "    }\n",
       "\n",
       "    .dataframe thead th {\n",
       "        text-align: right;\n",
       "    }\n",
       "</style>\n",
       "<table border=\"1\" class=\"dataframe\">\n",
       "  <thead>\n",
       "    <tr style=\"text-align: right;\">\n",
       "      <th></th>\n",
       "      <th>x</th>\n",
       "      <th>y</th>\n",
       "      <th>func</th>\n",
       "      <th>cons1</th>\n",
       "      <th>cons3</th>\n",
       "      <th>cons4</th>\n",
       "    </tr>\n",
       "  </thead>\n",
       "  <tbody>\n",
       "    <tr>\n",
       "      <th>89</th>\n",
       "      <td>1.0</td>\n",
       "      <td>1.9</td>\n",
       "      <td>0.36</td>\n",
       "      <td>-0.8</td>\n",
       "      <td>1.2</td>\n",
       "      <td>4.8</td>\n",
       "    </tr>\n",
       "    <tr>\n",
       "      <th>104</th>\n",
       "      <td>1.1</td>\n",
       "      <td>1.9</td>\n",
       "      <td>0.37</td>\n",
       "      <td>-0.7</td>\n",
       "      <td>1.1</td>\n",
       "      <td>4.7</td>\n",
       "    </tr>\n",
       "    <tr>\n",
       "      <th>74</th>\n",
       "      <td>0.9</td>\n",
       "      <td>1.9</td>\n",
       "      <td>0.37</td>\n",
       "      <td>-0.9</td>\n",
       "      <td>1.3</td>\n",
       "      <td>4.9</td>\n",
       "    </tr>\n",
       "    <tr>\n",
       "      <th>119</th>\n",
       "      <td>1.2</td>\n",
       "      <td>1.9</td>\n",
       "      <td>0.40</td>\n",
       "      <td>-0.6</td>\n",
       "      <td>1.0</td>\n",
       "      <td>4.6</td>\n",
       "    </tr>\n",
       "    <tr>\n",
       "      <th>59</th>\n",
       "      <td>0.8</td>\n",
       "      <td>1.9</td>\n",
       "      <td>0.40</td>\n",
       "      <td>-1.0</td>\n",
       "      <td>1.4</td>\n",
       "      <td>5.0</td>\n",
       "    </tr>\n",
       "    <tr>\n",
       "      <th>134</th>\n",
       "      <td>1.3</td>\n",
       "      <td>1.9</td>\n",
       "      <td>0.45</td>\n",
       "      <td>-0.5</td>\n",
       "      <td>0.9</td>\n",
       "      <td>4.5</td>\n",
       "    </tr>\n",
       "    <tr>\n",
       "      <th>44</th>\n",
       "      <td>0.7</td>\n",
       "      <td>1.9</td>\n",
       "      <td>0.45</td>\n",
       "      <td>-1.1</td>\n",
       "      <td>1.5</td>\n",
       "      <td>5.1</td>\n",
       "    </tr>\n",
       "    <tr>\n",
       "      <th>88</th>\n",
       "      <td>1.0</td>\n",
       "      <td>1.8</td>\n",
       "      <td>0.49</td>\n",
       "      <td>-0.6</td>\n",
       "      <td>1.4</td>\n",
       "      <td>4.6</td>\n",
       "    </tr>\n",
       "    <tr>\n",
       "      <th>103</th>\n",
       "      <td>1.1</td>\n",
       "      <td>1.8</td>\n",
       "      <td>0.50</td>\n",
       "      <td>-0.5</td>\n",
       "      <td>1.3</td>\n",
       "      <td>4.5</td>\n",
       "    </tr>\n",
       "    <tr>\n",
       "      <th>73</th>\n",
       "      <td>0.9</td>\n",
       "      <td>1.8</td>\n",
       "      <td>0.50</td>\n",
       "      <td>-0.7</td>\n",
       "      <td>1.5</td>\n",
       "      <td>4.7</td>\n",
       "    </tr>\n",
       "    <tr>\n",
       "      <th>149</th>\n",
       "      <td>1.4</td>\n",
       "      <td>1.9</td>\n",
       "      <td>0.52</td>\n",
       "      <td>-0.4</td>\n",
       "      <td>0.8</td>\n",
       "      <td>4.4</td>\n",
       "    </tr>\n",
       "    <tr>\n",
       "      <th>29</th>\n",
       "      <td>0.6</td>\n",
       "      <td>1.9</td>\n",
       "      <td>0.52</td>\n",
       "      <td>-1.2</td>\n",
       "      <td>1.6</td>\n",
       "      <td>5.2</td>\n",
       "    </tr>\n",
       "    <tr>\n",
       "      <th>118</th>\n",
       "      <td>1.2</td>\n",
       "      <td>1.8</td>\n",
       "      <td>0.53</td>\n",
       "      <td>-0.4</td>\n",
       "      <td>1.2</td>\n",
       "      <td>4.4</td>\n",
       "    </tr>\n",
       "    <tr>\n",
       "      <th>58</th>\n",
       "      <td>0.8</td>\n",
       "      <td>1.8</td>\n",
       "      <td>0.53</td>\n",
       "      <td>-0.8</td>\n",
       "      <td>1.6</td>\n",
       "      <td>4.8</td>\n",
       "    </tr>\n",
       "    <tr>\n",
       "      <th>133</th>\n",
       "      <td>1.3</td>\n",
       "      <td>1.8</td>\n",
       "      <td>0.58</td>\n",
       "      <td>-0.3</td>\n",
       "      <td>1.1</td>\n",
       "      <td>4.3</td>\n",
       "    </tr>\n",
       "    <tr>\n",
       "      <th>43</th>\n",
       "      <td>0.7</td>\n",
       "      <td>1.8</td>\n",
       "      <td>0.58</td>\n",
       "      <td>-0.9</td>\n",
       "      <td>1.7</td>\n",
       "      <td>4.9</td>\n",
       "    </tr>\n",
       "    <tr>\n",
       "      <th>164</th>\n",
       "      <td>1.5</td>\n",
       "      <td>1.9</td>\n",
       "      <td>0.61</td>\n",
       "      <td>-0.3</td>\n",
       "      <td>0.7</td>\n",
       "      <td>4.3</td>\n",
       "    </tr>\n",
       "    <tr>\n",
       "      <th>14</th>\n",
       "      <td>0.5</td>\n",
       "      <td>1.9</td>\n",
       "      <td>0.61</td>\n",
       "      <td>-1.3</td>\n",
       "      <td>1.7</td>\n",
       "      <td>5.3</td>\n",
       "    </tr>\n",
       "    <tr>\n",
       "      <th>87</th>\n",
       "      <td>1.0</td>\n",
       "      <td>1.7</td>\n",
       "      <td>0.64</td>\n",
       "      <td>-0.4</td>\n",
       "      <td>1.6</td>\n",
       "      <td>4.4</td>\n",
       "    </tr>\n",
       "    <tr>\n",
       "      <th>148</th>\n",
       "      <td>1.4</td>\n",
       "      <td>1.8</td>\n",
       "      <td>0.65</td>\n",
       "      <td>-0.2</td>\n",
       "      <td>1.0</td>\n",
       "      <td>4.2</td>\n",
       "    </tr>\n",
       "    <tr>\n",
       "      <th>28</th>\n",
       "      <td>0.6</td>\n",
       "      <td>1.8</td>\n",
       "      <td>0.65</td>\n",
       "      <td>-1.0</td>\n",
       "      <td>1.8</td>\n",
       "      <td>5.0</td>\n",
       "    </tr>\n",
       "    <tr>\n",
       "      <th>72</th>\n",
       "      <td>0.9</td>\n",
       "      <td>1.7</td>\n",
       "      <td>0.65</td>\n",
       "      <td>-0.5</td>\n",
       "      <td>1.7</td>\n",
       "      <td>4.5</td>\n",
       "    </tr>\n",
       "    <tr>\n",
       "      <th>102</th>\n",
       "      <td>1.1</td>\n",
       "      <td>1.7</td>\n",
       "      <td>0.65</td>\n",
       "      <td>-0.3</td>\n",
       "      <td>1.5</td>\n",
       "      <td>4.3</td>\n",
       "    </tr>\n",
       "    <tr>\n",
       "      <th>117</th>\n",
       "      <td>1.2</td>\n",
       "      <td>1.7</td>\n",
       "      <td>0.68</td>\n",
       "      <td>-0.2</td>\n",
       "      <td>1.4</td>\n",
       "      <td>4.2</td>\n",
       "    </tr>\n",
       "    <tr>\n",
       "      <th>57</th>\n",
       "      <td>0.8</td>\n",
       "      <td>1.7</td>\n",
       "      <td>0.68</td>\n",
       "      <td>-0.6</td>\n",
       "      <td>1.8</td>\n",
       "      <td>4.6</td>\n",
       "    </tr>\n",
       "    <tr>\n",
       "      <th>179</th>\n",
       "      <td>1.6</td>\n",
       "      <td>1.9</td>\n",
       "      <td>0.72</td>\n",
       "      <td>-0.2</td>\n",
       "      <td>0.6</td>\n",
       "      <td>4.2</td>\n",
       "    </tr>\n",
       "    <tr>\n",
       "      <th>132</th>\n",
       "      <td>1.3</td>\n",
       "      <td>1.7</td>\n",
       "      <td>0.73</td>\n",
       "      <td>-0.1</td>\n",
       "      <td>1.3</td>\n",
       "      <td>4.1</td>\n",
       "    </tr>\n",
       "    <tr>\n",
       "      <th>42</th>\n",
       "      <td>0.7</td>\n",
       "      <td>1.7</td>\n",
       "      <td>0.73</td>\n",
       "      <td>-0.7</td>\n",
       "      <td>1.9</td>\n",
       "      <td>4.7</td>\n",
       "    </tr>\n",
       "    <tr>\n",
       "      <th>163</th>\n",
       "      <td>1.5</td>\n",
       "      <td>1.8</td>\n",
       "      <td>0.74</td>\n",
       "      <td>-0.1</td>\n",
       "      <td>0.9</td>\n",
       "      <td>4.1</td>\n",
       "    </tr>\n",
       "    <tr>\n",
       "      <th>13</th>\n",
       "      <td>0.5</td>\n",
       "      <td>1.8</td>\n",
       "      <td>0.74</td>\n",
       "      <td>-1.1</td>\n",
       "      <td>1.9</td>\n",
       "      <td>5.1</td>\n",
       "    </tr>\n",
       "    <tr>\n",
       "      <th>147</th>\n",
       "      <td>1.4</td>\n",
       "      <td>1.7</td>\n",
       "      <td>0.80</td>\n",
       "      <td>0.0</td>\n",
       "      <td>1.2</td>\n",
       "      <td>4.0</td>\n",
       "    </tr>\n",
       "    <tr>\n",
       "      <th>27</th>\n",
       "      <td>0.6</td>\n",
       "      <td>1.7</td>\n",
       "      <td>0.80</td>\n",
       "      <td>-0.8</td>\n",
       "      <td>2.0</td>\n",
       "      <td>4.8</td>\n",
       "    </tr>\n",
       "    <tr>\n",
       "      <th>86</th>\n",
       "      <td>1.0</td>\n",
       "      <td>1.6</td>\n",
       "      <td>0.81</td>\n",
       "      <td>-0.2</td>\n",
       "      <td>1.8</td>\n",
       "      <td>4.2</td>\n",
       "    </tr>\n",
       "    <tr>\n",
       "      <th>71</th>\n",
       "      <td>0.9</td>\n",
       "      <td>1.6</td>\n",
       "      <td>0.82</td>\n",
       "      <td>-0.3</td>\n",
       "      <td>1.9</td>\n",
       "      <td>4.3</td>\n",
       "    </tr>\n",
       "    <tr>\n",
       "      <th>101</th>\n",
       "      <td>1.1</td>\n",
       "      <td>1.6</td>\n",
       "      <td>0.82</td>\n",
       "      <td>-0.1</td>\n",
       "      <td>1.7</td>\n",
       "      <td>4.1</td>\n",
       "    </tr>\n",
       "    <tr>\n",
       "      <th>178</th>\n",
       "      <td>1.6</td>\n",
       "      <td>1.8</td>\n",
       "      <td>0.85</td>\n",
       "      <td>0.0</td>\n",
       "      <td>0.8</td>\n",
       "      <td>4.0</td>\n",
       "    </tr>\n",
       "    <tr>\n",
       "      <th>194</th>\n",
       "      <td>1.7</td>\n",
       "      <td>1.9</td>\n",
       "      <td>0.85</td>\n",
       "      <td>-0.1</td>\n",
       "      <td>0.5</td>\n",
       "      <td>4.1</td>\n",
       "    </tr>\n",
       "    <tr>\n",
       "      <th>116</th>\n",
       "      <td>1.2</td>\n",
       "      <td>1.6</td>\n",
       "      <td>0.85</td>\n",
       "      <td>0.0</td>\n",
       "      <td>1.6</td>\n",
       "      <td>4.0</td>\n",
       "    </tr>\n",
       "    <tr>\n",
       "      <th>56</th>\n",
       "      <td>0.8</td>\n",
       "      <td>1.6</td>\n",
       "      <td>0.85</td>\n",
       "      <td>-0.4</td>\n",
       "      <td>2.0</td>\n",
       "      <td>4.4</td>\n",
       "    </tr>\n",
       "    <tr>\n",
       "      <th>162</th>\n",
       "      <td>1.5</td>\n",
       "      <td>1.7</td>\n",
       "      <td>0.89</td>\n",
       "      <td>0.1</td>\n",
       "      <td>1.1</td>\n",
       "      <td>3.9</td>\n",
       "    </tr>\n",
       "    <tr>\n",
       "      <th>12</th>\n",
       "      <td>0.5</td>\n",
       "      <td>1.7</td>\n",
       "      <td>0.89</td>\n",
       "      <td>-0.9</td>\n",
       "      <td>2.1</td>\n",
       "      <td>4.9</td>\n",
       "    </tr>\n",
       "    <tr>\n",
       "      <th>131</th>\n",
       "      <td>1.3</td>\n",
       "      <td>1.6</td>\n",
       "      <td>0.90</td>\n",
       "      <td>0.1</td>\n",
       "      <td>1.5</td>\n",
       "      <td>3.9</td>\n",
       "    </tr>\n",
       "    <tr>\n",
       "      <th>41</th>\n",
       "      <td>0.7</td>\n",
       "      <td>1.6</td>\n",
       "      <td>0.90</td>\n",
       "      <td>-0.5</td>\n",
       "      <td>2.1</td>\n",
       "      <td>4.5</td>\n",
       "    </tr>\n",
       "    <tr>\n",
       "      <th>146</th>\n",
       "      <td>1.4</td>\n",
       "      <td>1.6</td>\n",
       "      <td>0.97</td>\n",
       "      <td>0.2</td>\n",
       "      <td>1.4</td>\n",
       "      <td>3.8</td>\n",
       "    </tr>\n",
       "    <tr>\n",
       "      <th>26</th>\n",
       "      <td>0.6</td>\n",
       "      <td>1.6</td>\n",
       "      <td>0.97</td>\n",
       "      <td>-0.6</td>\n",
       "      <td>2.2</td>\n",
       "      <td>4.6</td>\n",
       "    </tr>\n",
       "    <tr>\n",
       "      <th>193</th>\n",
       "      <td>1.7</td>\n",
       "      <td>1.8</td>\n",
       "      <td>0.98</td>\n",
       "      <td>0.1</td>\n",
       "      <td>0.7</td>\n",
       "      <td>3.9</td>\n",
       "    </tr>\n",
       "    <tr>\n",
       "      <th>209</th>\n",
       "      <td>1.8</td>\n",
       "      <td>1.9</td>\n",
       "      <td>1.00</td>\n",
       "      <td>0.0</td>\n",
       "      <td>0.4</td>\n",
       "      <td>4.0</td>\n",
       "    </tr>\n",
       "    <tr>\n",
       "      <th>177</th>\n",
       "      <td>1.6</td>\n",
       "      <td>1.7</td>\n",
       "      <td>1.00</td>\n",
       "      <td>0.2</td>\n",
       "      <td>1.0</td>\n",
       "      <td>3.8</td>\n",
       "    </tr>\n",
       "    <tr>\n",
       "      <th>85</th>\n",
       "      <td>1.0</td>\n",
       "      <td>1.5</td>\n",
       "      <td>1.00</td>\n",
       "      <td>0.0</td>\n",
       "      <td>2.0</td>\n",
       "      <td>4.0</td>\n",
       "    </tr>\n",
       "    <tr>\n",
       "      <th>70</th>\n",
       "      <td>0.9</td>\n",
       "      <td>1.5</td>\n",
       "      <td>1.01</td>\n",
       "      <td>-0.1</td>\n",
       "      <td>2.1</td>\n",
       "      <td>4.1</td>\n",
       "    </tr>\n",
       "    <tr>\n",
       "      <th>100</th>\n",
       "      <td>1.1</td>\n",
       "      <td>1.5</td>\n",
       "      <td>1.01</td>\n",
       "      <td>0.1</td>\n",
       "      <td>1.9</td>\n",
       "      <td>3.9</td>\n",
       "    </tr>\n",
       "    <tr>\n",
       "      <th>115</th>\n",
       "      <td>1.2</td>\n",
       "      <td>1.5</td>\n",
       "      <td>1.04</td>\n",
       "      <td>0.2</td>\n",
       "      <td>1.8</td>\n",
       "      <td>3.8</td>\n",
       "    </tr>\n",
       "    <tr>\n",
       "      <th>55</th>\n",
       "      <td>0.8</td>\n",
       "      <td>1.5</td>\n",
       "      <td>1.04</td>\n",
       "      <td>-0.2</td>\n",
       "      <td>2.2</td>\n",
       "      <td>4.2</td>\n",
       "    </tr>\n",
       "    <tr>\n",
       "      <th>11</th>\n",
       "      <td>0.5</td>\n",
       "      <td>1.6</td>\n",
       "      <td>1.06</td>\n",
       "      <td>-0.7</td>\n",
       "      <td>2.3</td>\n",
       "      <td>4.7</td>\n",
       "    </tr>\n",
       "    <tr>\n",
       "      <th>161</th>\n",
       "      <td>1.5</td>\n",
       "      <td>1.6</td>\n",
       "      <td>1.06</td>\n",
       "      <td>0.3</td>\n",
       "      <td>1.3</td>\n",
       "      <td>3.7</td>\n",
       "    </tr>\n",
       "    <tr>\n",
       "      <th>130</th>\n",
       "      <td>1.3</td>\n",
       "      <td>1.5</td>\n",
       "      <td>1.09</td>\n",
       "      <td>0.3</td>\n",
       "      <td>1.7</td>\n",
       "      <td>3.7</td>\n",
       "    </tr>\n",
       "    <tr>\n",
       "      <th>40</th>\n",
       "      <td>0.7</td>\n",
       "      <td>1.5</td>\n",
       "      <td>1.09</td>\n",
       "      <td>-0.3</td>\n",
       "      <td>2.3</td>\n",
       "      <td>4.3</td>\n",
       "    </tr>\n",
       "    <tr>\n",
       "      <th>208</th>\n",
       "      <td>1.8</td>\n",
       "      <td>1.8</td>\n",
       "      <td>1.13</td>\n",
       "      <td>0.2</td>\n",
       "      <td>0.6</td>\n",
       "      <td>3.8</td>\n",
       "    </tr>\n",
       "    <tr>\n",
       "      <th>192</th>\n",
       "      <td>1.7</td>\n",
       "      <td>1.7</td>\n",
       "      <td>1.13</td>\n",
       "      <td>0.3</td>\n",
       "      <td>0.9</td>\n",
       "      <td>3.7</td>\n",
       "    </tr>\n",
       "    <tr>\n",
       "      <th>145</th>\n",
       "      <td>1.4</td>\n",
       "      <td>1.5</td>\n",
       "      <td>1.16</td>\n",
       "      <td>0.4</td>\n",
       "      <td>1.6</td>\n",
       "      <td>3.6</td>\n",
       "    </tr>\n",
       "    <tr>\n",
       "      <th>25</th>\n",
       "      <td>0.6</td>\n",
       "      <td>1.5</td>\n",
       "      <td>1.16</td>\n",
       "      <td>-0.4</td>\n",
       "      <td>2.4</td>\n",
       "      <td>4.4</td>\n",
       "    </tr>\n",
       "    <tr>\n",
       "      <th>224</th>\n",
       "      <td>1.9</td>\n",
       "      <td>1.9</td>\n",
       "      <td>1.17</td>\n",
       "      <td>0.1</td>\n",
       "      <td>0.3</td>\n",
       "      <td>3.9</td>\n",
       "    </tr>\n",
       "    <tr>\n",
       "      <th>176</th>\n",
       "      <td>1.6</td>\n",
       "      <td>1.6</td>\n",
       "      <td>1.17</td>\n",
       "      <td>0.4</td>\n",
       "      <td>1.2</td>\n",
       "      <td>3.6</td>\n",
       "    </tr>\n",
       "    <tr>\n",
       "      <th>84</th>\n",
       "      <td>1.0</td>\n",
       "      <td>1.4</td>\n",
       "      <td>1.21</td>\n",
       "      <td>0.2</td>\n",
       "      <td>2.2</td>\n",
       "      <td>3.8</td>\n",
       "    </tr>\n",
       "    <tr>\n",
       "      <th>99</th>\n",
       "      <td>1.1</td>\n",
       "      <td>1.4</td>\n",
       "      <td>1.22</td>\n",
       "      <td>0.3</td>\n",
       "      <td>2.1</td>\n",
       "      <td>3.7</td>\n",
       "    </tr>\n",
       "    <tr>\n",
       "      <th>69</th>\n",
       "      <td>0.9</td>\n",
       "      <td>1.4</td>\n",
       "      <td>1.22</td>\n",
       "      <td>0.1</td>\n",
       "      <td>2.3</td>\n",
       "      <td>3.9</td>\n",
       "    </tr>\n",
       "    <tr>\n",
       "      <th>114</th>\n",
       "      <td>1.2</td>\n",
       "      <td>1.4</td>\n",
       "      <td>1.25</td>\n",
       "      <td>0.4</td>\n",
       "      <td>2.0</td>\n",
       "      <td>3.6</td>\n",
       "    </tr>\n",
       "    <tr>\n",
       "      <th>160</th>\n",
       "      <td>1.5</td>\n",
       "      <td>1.5</td>\n",
       "      <td>1.25</td>\n",
       "      <td>0.5</td>\n",
       "      <td>1.5</td>\n",
       "      <td>3.5</td>\n",
       "    </tr>\n",
       "    <tr>\n",
       "      <th>54</th>\n",
       "      <td>0.8</td>\n",
       "      <td>1.4</td>\n",
       "      <td>1.25</td>\n",
       "      <td>0.0</td>\n",
       "      <td>2.4</td>\n",
       "      <td>4.0</td>\n",
       "    </tr>\n",
       "    <tr>\n",
       "      <th>10</th>\n",
       "      <td>0.5</td>\n",
       "      <td>1.5</td>\n",
       "      <td>1.25</td>\n",
       "      <td>-0.5</td>\n",
       "      <td>2.5</td>\n",
       "      <td>4.5</td>\n",
       "    </tr>\n",
       "    <tr>\n",
       "      <th>207</th>\n",
       "      <td>1.8</td>\n",
       "      <td>1.7</td>\n",
       "      <td>1.28</td>\n",
       "      <td>0.4</td>\n",
       "      <td>0.8</td>\n",
       "      <td>3.6</td>\n",
       "    </tr>\n",
       "    <tr>\n",
       "      <th>223</th>\n",
       "      <td>1.9</td>\n",
       "      <td>1.8</td>\n",
       "      <td>1.30</td>\n",
       "      <td>0.3</td>\n",
       "      <td>0.5</td>\n",
       "      <td>3.7</td>\n",
       "    </tr>\n",
       "    <tr>\n",
       "      <th>129</th>\n",
       "      <td>1.3</td>\n",
       "      <td>1.4</td>\n",
       "      <td>1.30</td>\n",
       "      <td>0.5</td>\n",
       "      <td>1.9</td>\n",
       "      <td>3.5</td>\n",
       "    </tr>\n",
       "    <tr>\n",
       "      <th>39</th>\n",
       "      <td>0.7</td>\n",
       "      <td>1.4</td>\n",
       "      <td>1.30</td>\n",
       "      <td>-0.1</td>\n",
       "      <td>2.5</td>\n",
       "      <td>4.1</td>\n",
       "    </tr>\n",
       "    <tr>\n",
       "      <th>191</th>\n",
       "      <td>1.7</td>\n",
       "      <td>1.6</td>\n",
       "      <td>1.30</td>\n",
       "      <td>0.5</td>\n",
       "      <td>1.1</td>\n",
       "      <td>3.5</td>\n",
       "    </tr>\n",
       "    <tr>\n",
       "      <th>175</th>\n",
       "      <td>1.6</td>\n",
       "      <td>1.5</td>\n",
       "      <td>1.36</td>\n",
       "      <td>0.6</td>\n",
       "      <td>1.4</td>\n",
       "      <td>3.4</td>\n",
       "    </tr>\n",
       "    <tr>\n",
       "      <th>144</th>\n",
       "      <td>1.4</td>\n",
       "      <td>1.4</td>\n",
       "      <td>1.37</td>\n",
       "      <td>0.6</td>\n",
       "      <td>1.8</td>\n",
       "      <td>3.4</td>\n",
       "    </tr>\n",
       "    <tr>\n",
       "      <th>24</th>\n",
       "      <td>0.6</td>\n",
       "      <td>1.4</td>\n",
       "      <td>1.37</td>\n",
       "      <td>-0.2</td>\n",
       "      <td>2.6</td>\n",
       "      <td>4.2</td>\n",
       "    </tr>\n",
       "    <tr>\n",
       "      <th>83</th>\n",
       "      <td>1.0</td>\n",
       "      <td>1.3</td>\n",
       "      <td>1.44</td>\n",
       "      <td>0.4</td>\n",
       "      <td>2.4</td>\n",
       "      <td>3.6</td>\n",
       "    </tr>\n",
       "    <tr>\n",
       "      <th>222</th>\n",
       "      <td>1.9</td>\n",
       "      <td>1.7</td>\n",
       "      <td>1.45</td>\n",
       "      <td>0.5</td>\n",
       "      <td>0.7</td>\n",
       "      <td>3.5</td>\n",
       "    </tr>\n",
       "    <tr>\n",
       "      <th>206</th>\n",
       "      <td>1.8</td>\n",
       "      <td>1.6</td>\n",
       "      <td>1.45</td>\n",
       "      <td>0.6</td>\n",
       "      <td>1.0</td>\n",
       "      <td>3.4</td>\n",
       "    </tr>\n",
       "    <tr>\n",
       "      <th>98</th>\n",
       "      <td>1.1</td>\n",
       "      <td>1.3</td>\n",
       "      <td>1.45</td>\n",
       "      <td>0.5</td>\n",
       "      <td>2.3</td>\n",
       "      <td>3.5</td>\n",
       "    </tr>\n",
       "    <tr>\n",
       "      <th>68</th>\n",
       "      <td>0.9</td>\n",
       "      <td>1.3</td>\n",
       "      <td>1.45</td>\n",
       "      <td>0.3</td>\n",
       "      <td>2.5</td>\n",
       "      <td>3.7</td>\n",
       "    </tr>\n",
       "    <tr>\n",
       "      <th>159</th>\n",
       "      <td>1.5</td>\n",
       "      <td>1.4</td>\n",
       "      <td>1.46</td>\n",
       "      <td>0.7</td>\n",
       "      <td>1.7</td>\n",
       "      <td>3.3</td>\n",
       "    </tr>\n",
       "    <tr>\n",
       "      <th>9</th>\n",
       "      <td>0.5</td>\n",
       "      <td>1.4</td>\n",
       "      <td>1.46</td>\n",
       "      <td>-0.3</td>\n",
       "      <td>2.7</td>\n",
       "      <td>4.3</td>\n",
       "    </tr>\n",
       "    <tr>\n",
       "      <th>113</th>\n",
       "      <td>1.2</td>\n",
       "      <td>1.3</td>\n",
       "      <td>1.48</td>\n",
       "      <td>0.6</td>\n",
       "      <td>2.2</td>\n",
       "      <td>3.4</td>\n",
       "    </tr>\n",
       "    <tr>\n",
       "      <th>53</th>\n",
       "      <td>0.8</td>\n",
       "      <td>1.3</td>\n",
       "      <td>1.48</td>\n",
       "      <td>0.2</td>\n",
       "      <td>2.6</td>\n",
       "      <td>3.8</td>\n",
       "    </tr>\n",
       "    <tr>\n",
       "      <th>190</th>\n",
       "      <td>1.7</td>\n",
       "      <td>1.5</td>\n",
       "      <td>1.49</td>\n",
       "      <td>0.7</td>\n",
       "      <td>1.3</td>\n",
       "      <td>3.3</td>\n",
       "    </tr>\n",
       "    <tr>\n",
       "      <th>128</th>\n",
       "      <td>1.3</td>\n",
       "      <td>1.3</td>\n",
       "      <td>1.53</td>\n",
       "      <td>0.7</td>\n",
       "      <td>2.1</td>\n",
       "      <td>3.3</td>\n",
       "    </tr>\n",
       "    <tr>\n",
       "      <th>38</th>\n",
       "      <td>0.7</td>\n",
       "      <td>1.3</td>\n",
       "      <td>1.53</td>\n",
       "      <td>0.1</td>\n",
       "      <td>2.7</td>\n",
       "      <td>3.9</td>\n",
       "    </tr>\n",
       "    <tr>\n",
       "      <th>174</th>\n",
       "      <td>1.6</td>\n",
       "      <td>1.4</td>\n",
       "      <td>1.57</td>\n",
       "      <td>0.8</td>\n",
       "      <td>1.6</td>\n",
       "      <td>3.2</td>\n",
       "    </tr>\n",
       "    <tr>\n",
       "      <th>143</th>\n",
       "      <td>1.4</td>\n",
       "      <td>1.3</td>\n",
       "      <td>1.60</td>\n",
       "      <td>0.8</td>\n",
       "      <td>2.0</td>\n",
       "      <td>3.2</td>\n",
       "    </tr>\n",
       "    <tr>\n",
       "      <th>23</th>\n",
       "      <td>0.6</td>\n",
       "      <td>1.3</td>\n",
       "      <td>1.60</td>\n",
       "      <td>0.0</td>\n",
       "      <td>2.8</td>\n",
       "      <td>4.0</td>\n",
       "    </tr>\n",
       "    <tr>\n",
       "      <th>221</th>\n",
       "      <td>1.9</td>\n",
       "      <td>1.6</td>\n",
       "      <td>1.62</td>\n",
       "      <td>0.7</td>\n",
       "      <td>0.9</td>\n",
       "      <td>3.3</td>\n",
       "    </tr>\n",
       "    <tr>\n",
       "      <th>205</th>\n",
       "      <td>1.8</td>\n",
       "      <td>1.5</td>\n",
       "      <td>1.64</td>\n",
       "      <td>0.8</td>\n",
       "      <td>1.2</td>\n",
       "      <td>3.2</td>\n",
       "    </tr>\n",
       "    <tr>\n",
       "      <th>158</th>\n",
       "      <td>1.5</td>\n",
       "      <td>1.3</td>\n",
       "      <td>1.69</td>\n",
       "      <td>0.9</td>\n",
       "      <td>1.9</td>\n",
       "      <td>3.1</td>\n",
       "    </tr>\n",
       "    <tr>\n",
       "      <th>8</th>\n",
       "      <td>0.5</td>\n",
       "      <td>1.3</td>\n",
       "      <td>1.69</td>\n",
       "      <td>-0.1</td>\n",
       "      <td>2.9</td>\n",
       "      <td>4.1</td>\n",
       "    </tr>\n",
       "    <tr>\n",
       "      <th>82</th>\n",
       "      <td>1.0</td>\n",
       "      <td>1.2</td>\n",
       "      <td>1.69</td>\n",
       "      <td>0.6</td>\n",
       "      <td>2.6</td>\n",
       "      <td>3.4</td>\n",
       "    </tr>\n",
       "    <tr>\n",
       "      <th>189</th>\n",
       "      <td>1.7</td>\n",
       "      <td>1.4</td>\n",
       "      <td>1.70</td>\n",
       "      <td>0.9</td>\n",
       "      <td>1.5</td>\n",
       "      <td>3.1</td>\n",
       "    </tr>\n",
       "    <tr>\n",
       "      <th>67</th>\n",
       "      <td>0.9</td>\n",
       "      <td>1.2</td>\n",
       "      <td>1.70</td>\n",
       "      <td>0.5</td>\n",
       "      <td>2.7</td>\n",
       "      <td>3.5</td>\n",
       "    </tr>\n",
       "    <tr>\n",
       "      <th>97</th>\n",
       "      <td>1.1</td>\n",
       "      <td>1.2</td>\n",
       "      <td>1.70</td>\n",
       "      <td>0.7</td>\n",
       "      <td>2.5</td>\n",
       "      <td>3.3</td>\n",
       "    </tr>\n",
       "    <tr>\n",
       "      <th>112</th>\n",
       "      <td>1.2</td>\n",
       "      <td>1.2</td>\n",
       "      <td>1.73</td>\n",
       "      <td>0.8</td>\n",
       "      <td>2.4</td>\n",
       "      <td>3.2</td>\n",
       "    </tr>\n",
       "    <tr>\n",
       "      <th>52</th>\n",
       "      <td>0.8</td>\n",
       "      <td>1.2</td>\n",
       "      <td>1.73</td>\n",
       "      <td>0.4</td>\n",
       "      <td>2.8</td>\n",
       "      <td>3.6</td>\n",
       "    </tr>\n",
       "    <tr>\n",
       "      <th>127</th>\n",
       "      <td>1.3</td>\n",
       "      <td>1.2</td>\n",
       "      <td>1.78</td>\n",
       "      <td>0.9</td>\n",
       "      <td>2.3</td>\n",
       "      <td>3.1</td>\n",
       "    </tr>\n",
       "    <tr>\n",
       "      <th>37</th>\n",
       "      <td>0.7</td>\n",
       "      <td>1.2</td>\n",
       "      <td>1.78</td>\n",
       "      <td>0.3</td>\n",
       "      <td>2.9</td>\n",
       "      <td>3.7</td>\n",
       "    </tr>\n",
       "    <tr>\n",
       "      <th>173</th>\n",
       "      <td>1.6</td>\n",
       "      <td>1.3</td>\n",
       "      <td>1.80</td>\n",
       "      <td>1.0</td>\n",
       "      <td>1.8</td>\n",
       "      <td>3.0</td>\n",
       "    </tr>\n",
       "    <tr>\n",
       "      <th>220</th>\n",
       "      <td>1.9</td>\n",
       "      <td>1.5</td>\n",
       "      <td>1.81</td>\n",
       "      <td>0.9</td>\n",
       "      <td>1.1</td>\n",
       "      <td>3.1</td>\n",
       "    </tr>\n",
       "    <tr>\n",
       "      <th>204</th>\n",
       "      <td>1.8</td>\n",
       "      <td>1.4</td>\n",
       "      <td>1.85</td>\n",
       "      <td>1.0</td>\n",
       "      <td>1.4</td>\n",
       "      <td>3.0</td>\n",
       "    </tr>\n",
       "    <tr>\n",
       "      <th>142</th>\n",
       "      <td>1.4</td>\n",
       "      <td>1.2</td>\n",
       "      <td>1.85</td>\n",
       "      <td>1.0</td>\n",
       "      <td>2.2</td>\n",
       "      <td>3.0</td>\n",
       "    </tr>\n",
       "    <tr>\n",
       "      <th>22</th>\n",
       "      <td>0.6</td>\n",
       "      <td>1.2</td>\n",
       "      <td>1.85</td>\n",
       "      <td>0.2</td>\n",
       "      <td>3.0</td>\n",
       "      <td>3.8</td>\n",
       "    </tr>\n",
       "    <tr>\n",
       "      <th>188</th>\n",
       "      <td>1.7</td>\n",
       "      <td>1.3</td>\n",
       "      <td>1.93</td>\n",
       "      <td>1.1</td>\n",
       "      <td>1.7</td>\n",
       "      <td>2.9</td>\n",
       "    </tr>\n",
       "    <tr>\n",
       "      <th>157</th>\n",
       "      <td>1.5</td>\n",
       "      <td>1.2</td>\n",
       "      <td>1.94</td>\n",
       "      <td>1.1</td>\n",
       "      <td>2.1</td>\n",
       "      <td>2.9</td>\n",
       "    </tr>\n",
       "    <tr>\n",
       "      <th>7</th>\n",
       "      <td>0.5</td>\n",
       "      <td>1.2</td>\n",
       "      <td>1.94</td>\n",
       "      <td>0.1</td>\n",
       "      <td>3.1</td>\n",
       "      <td>3.9</td>\n",
       "    </tr>\n",
       "    <tr>\n",
       "      <th>81</th>\n",
       "      <td>1.0</td>\n",
       "      <td>1.1</td>\n",
       "      <td>1.96</td>\n",
       "      <td>0.8</td>\n",
       "      <td>2.8</td>\n",
       "      <td>3.2</td>\n",
       "    </tr>\n",
       "    <tr>\n",
       "      <th>66</th>\n",
       "      <td>0.9</td>\n",
       "      <td>1.1</td>\n",
       "      <td>1.97</td>\n",
       "      <td>0.7</td>\n",
       "      <td>2.9</td>\n",
       "      <td>3.3</td>\n",
       "    </tr>\n",
       "    <tr>\n",
       "      <th>96</th>\n",
       "      <td>1.1</td>\n",
       "      <td>1.1</td>\n",
       "      <td>1.97</td>\n",
       "      <td>0.9</td>\n",
       "      <td>2.7</td>\n",
       "      <td>3.1</td>\n",
       "    </tr>\n",
       "    <tr>\n",
       "      <th>111</th>\n",
       "      <td>1.2</td>\n",
       "      <td>1.1</td>\n",
       "      <td>2.00</td>\n",
       "      <td>1.0</td>\n",
       "      <td>2.6</td>\n",
       "      <td>3.0</td>\n",
       "    </tr>\n",
       "    <tr>\n",
       "      <th>51</th>\n",
       "      <td>0.8</td>\n",
       "      <td>1.1</td>\n",
       "      <td>2.00</td>\n",
       "      <td>0.6</td>\n",
       "      <td>3.0</td>\n",
       "      <td>3.4</td>\n",
       "    </tr>\n",
       "    <tr>\n",
       "      <th>219</th>\n",
       "      <td>1.9</td>\n",
       "      <td>1.4</td>\n",
       "      <td>2.02</td>\n",
       "      <td>1.1</td>\n",
       "      <td>1.3</td>\n",
       "      <td>2.9</td>\n",
       "    </tr>\n",
       "    <tr>\n",
       "      <th>36</th>\n",
       "      <td>0.7</td>\n",
       "      <td>1.1</td>\n",
       "      <td>2.05</td>\n",
       "      <td>0.5</td>\n",
       "      <td>3.1</td>\n",
       "      <td>3.5</td>\n",
       "    </tr>\n",
       "    <tr>\n",
       "      <th>126</th>\n",
       "      <td>1.3</td>\n",
       "      <td>1.1</td>\n",
       "      <td>2.05</td>\n",
       "      <td>1.1</td>\n",
       "      <td>2.5</td>\n",
       "      <td>2.9</td>\n",
       "    </tr>\n",
       "    <tr>\n",
       "      <th>172</th>\n",
       "      <td>1.6</td>\n",
       "      <td>1.2</td>\n",
       "      <td>2.05</td>\n",
       "      <td>1.2</td>\n",
       "      <td>2.0</td>\n",
       "      <td>2.8</td>\n",
       "    </tr>\n",
       "    <tr>\n",
       "      <th>203</th>\n",
       "      <td>1.8</td>\n",
       "      <td>1.3</td>\n",
       "      <td>2.08</td>\n",
       "      <td>1.2</td>\n",
       "      <td>1.6</td>\n",
       "      <td>2.8</td>\n",
       "    </tr>\n",
       "    <tr>\n",
       "      <th>141</th>\n",
       "      <td>1.4</td>\n",
       "      <td>1.1</td>\n",
       "      <td>2.12</td>\n",
       "      <td>1.2</td>\n",
       "      <td>2.4</td>\n",
       "      <td>2.8</td>\n",
       "    </tr>\n",
       "    <tr>\n",
       "      <th>21</th>\n",
       "      <td>0.6</td>\n",
       "      <td>1.1</td>\n",
       "      <td>2.12</td>\n",
       "      <td>0.4</td>\n",
       "      <td>3.2</td>\n",
       "      <td>3.6</td>\n",
       "    </tr>\n",
       "    <tr>\n",
       "      <th>187</th>\n",
       "      <td>1.7</td>\n",
       "      <td>1.2</td>\n",
       "      <td>2.18</td>\n",
       "      <td>1.3</td>\n",
       "      <td>1.9</td>\n",
       "      <td>2.7</td>\n",
       "    </tr>\n",
       "    <tr>\n",
       "      <th>156</th>\n",
       "      <td>1.5</td>\n",
       "      <td>1.1</td>\n",
       "      <td>2.21</td>\n",
       "      <td>1.3</td>\n",
       "      <td>2.3</td>\n",
       "      <td>2.7</td>\n",
       "    </tr>\n",
       "    <tr>\n",
       "      <th>6</th>\n",
       "      <td>0.5</td>\n",
       "      <td>1.1</td>\n",
       "      <td>2.21</td>\n",
       "      <td>0.3</td>\n",
       "      <td>3.3</td>\n",
       "      <td>3.7</td>\n",
       "    </tr>\n",
       "    <tr>\n",
       "      <th>80</th>\n",
       "      <td>1.0</td>\n",
       "      <td>1.0</td>\n",
       "      <td>2.25</td>\n",
       "      <td>1.0</td>\n",
       "      <td>3.0</td>\n",
       "      <td>3.0</td>\n",
       "    </tr>\n",
       "    <tr>\n",
       "      <th>218</th>\n",
       "      <td>1.9</td>\n",
       "      <td>1.3</td>\n",
       "      <td>2.25</td>\n",
       "      <td>1.3</td>\n",
       "      <td>1.5</td>\n",
       "      <td>2.7</td>\n",
       "    </tr>\n",
       "    <tr>\n",
       "      <th>95</th>\n",
       "      <td>1.1</td>\n",
       "      <td>1.0</td>\n",
       "      <td>2.26</td>\n",
       "      <td>1.1</td>\n",
       "      <td>2.9</td>\n",
       "      <td>2.9</td>\n",
       "    </tr>\n",
       "    <tr>\n",
       "      <th>65</th>\n",
       "      <td>0.9</td>\n",
       "      <td>1.0</td>\n",
       "      <td>2.26</td>\n",
       "      <td>0.9</td>\n",
       "      <td>3.1</td>\n",
       "      <td>3.1</td>\n",
       "    </tr>\n",
       "    <tr>\n",
       "      <th>50</th>\n",
       "      <td>0.8</td>\n",
       "      <td>1.0</td>\n",
       "      <td>2.29</td>\n",
       "      <td>0.8</td>\n",
       "      <td>3.2</td>\n",
       "      <td>3.2</td>\n",
       "    </tr>\n",
       "    <tr>\n",
       "      <th>110</th>\n",
       "      <td>1.2</td>\n",
       "      <td>1.0</td>\n",
       "      <td>2.29</td>\n",
       "      <td>1.2</td>\n",
       "      <td>2.8</td>\n",
       "      <td>2.8</td>\n",
       "    </tr>\n",
       "    <tr>\n",
       "      <th>171</th>\n",
       "      <td>1.6</td>\n",
       "      <td>1.1</td>\n",
       "      <td>2.32</td>\n",
       "      <td>1.4</td>\n",
       "      <td>2.2</td>\n",
       "      <td>2.6</td>\n",
       "    </tr>\n",
       "    <tr>\n",
       "      <th>202</th>\n",
       "      <td>1.8</td>\n",
       "      <td>1.2</td>\n",
       "      <td>2.33</td>\n",
       "      <td>1.4</td>\n",
       "      <td>1.8</td>\n",
       "      <td>2.6</td>\n",
       "    </tr>\n",
       "    <tr>\n",
       "      <th>35</th>\n",
       "      <td>0.7</td>\n",
       "      <td>1.0</td>\n",
       "      <td>2.34</td>\n",
       "      <td>0.7</td>\n",
       "      <td>3.3</td>\n",
       "      <td>3.3</td>\n",
       "    </tr>\n",
       "    <tr>\n",
       "      <th>125</th>\n",
       "      <td>1.3</td>\n",
       "      <td>1.0</td>\n",
       "      <td>2.34</td>\n",
       "      <td>1.3</td>\n",
       "      <td>2.7</td>\n",
       "      <td>2.7</td>\n",
       "    </tr>\n",
       "    <tr>\n",
       "      <th>140</th>\n",
       "      <td>1.4</td>\n",
       "      <td>1.0</td>\n",
       "      <td>2.41</td>\n",
       "      <td>1.4</td>\n",
       "      <td>2.6</td>\n",
       "      <td>2.6</td>\n",
       "    </tr>\n",
       "    <tr>\n",
       "      <th>20</th>\n",
       "      <td>0.6</td>\n",
       "      <td>1.0</td>\n",
       "      <td>2.41</td>\n",
       "      <td>0.6</td>\n",
       "      <td>3.4</td>\n",
       "      <td>3.4</td>\n",
       "    </tr>\n",
       "    <tr>\n",
       "      <th>186</th>\n",
       "      <td>1.7</td>\n",
       "      <td>1.1</td>\n",
       "      <td>2.45</td>\n",
       "      <td>1.5</td>\n",
       "      <td>2.1</td>\n",
       "      <td>2.5</td>\n",
       "    </tr>\n",
       "    <tr>\n",
       "      <th>155</th>\n",
       "      <td>1.5</td>\n",
       "      <td>1.0</td>\n",
       "      <td>2.50</td>\n",
       "      <td>1.5</td>\n",
       "      <td>2.5</td>\n",
       "      <td>2.5</td>\n",
       "    </tr>\n",
       "    <tr>\n",
       "      <th>5</th>\n",
       "      <td>0.5</td>\n",
       "      <td>1.0</td>\n",
       "      <td>2.50</td>\n",
       "      <td>0.5</td>\n",
       "      <td>3.5</td>\n",
       "      <td>3.5</td>\n",
       "    </tr>\n",
       "    <tr>\n",
       "      <th>217</th>\n",
       "      <td>1.9</td>\n",
       "      <td>1.2</td>\n",
       "      <td>2.50</td>\n",
       "      <td>1.5</td>\n",
       "      <td>1.7</td>\n",
       "      <td>2.5</td>\n",
       "    </tr>\n",
       "    <tr>\n",
       "      <th>79</th>\n",
       "      <td>1.0</td>\n",
       "      <td>0.9</td>\n",
       "      <td>2.56</td>\n",
       "      <td>1.2</td>\n",
       "      <td>3.2</td>\n",
       "      <td>2.8</td>\n",
       "    </tr>\n",
       "    <tr>\n",
       "      <th>94</th>\n",
       "      <td>1.1</td>\n",
       "      <td>0.9</td>\n",
       "      <td>2.57</td>\n",
       "      <td>1.3</td>\n",
       "      <td>3.1</td>\n",
       "      <td>2.7</td>\n",
       "    </tr>\n",
       "    <tr>\n",
       "      <th>64</th>\n",
       "      <td>0.9</td>\n",
       "      <td>0.9</td>\n",
       "      <td>2.57</td>\n",
       "      <td>1.1</td>\n",
       "      <td>3.3</td>\n",
       "      <td>2.9</td>\n",
       "    </tr>\n",
       "    <tr>\n",
       "      <th>201</th>\n",
       "      <td>1.8</td>\n",
       "      <td>1.1</td>\n",
       "      <td>2.60</td>\n",
       "      <td>1.6</td>\n",
       "      <td>2.0</td>\n",
       "      <td>2.4</td>\n",
       "    </tr>\n",
       "    <tr>\n",
       "      <th>49</th>\n",
       "      <td>0.8</td>\n",
       "      <td>0.9</td>\n",
       "      <td>2.60</td>\n",
       "      <td>1.0</td>\n",
       "      <td>3.4</td>\n",
       "      <td>3.0</td>\n",
       "    </tr>\n",
       "    <tr>\n",
       "      <th>109</th>\n",
       "      <td>1.2</td>\n",
       "      <td>0.9</td>\n",
       "      <td>2.60</td>\n",
       "      <td>1.4</td>\n",
       "      <td>3.0</td>\n",
       "      <td>2.6</td>\n",
       "    </tr>\n",
       "    <tr>\n",
       "      <th>170</th>\n",
       "      <td>1.6</td>\n",
       "      <td>1.0</td>\n",
       "      <td>2.61</td>\n",
       "      <td>1.6</td>\n",
       "      <td>2.4</td>\n",
       "      <td>2.4</td>\n",
       "    </tr>\n",
       "    <tr>\n",
       "      <th>34</th>\n",
       "      <td>0.7</td>\n",
       "      <td>0.9</td>\n",
       "      <td>2.65</td>\n",
       "      <td>0.9</td>\n",
       "      <td>3.5</td>\n",
       "      <td>3.1</td>\n",
       "    </tr>\n",
       "    <tr>\n",
       "      <th>124</th>\n",
       "      <td>1.3</td>\n",
       "      <td>0.9</td>\n",
       "      <td>2.65</td>\n",
       "      <td>1.5</td>\n",
       "      <td>2.9</td>\n",
       "      <td>2.5</td>\n",
       "    </tr>\n",
       "    <tr>\n",
       "      <th>19</th>\n",
       "      <td>0.6</td>\n",
       "      <td>0.9</td>\n",
       "      <td>2.72</td>\n",
       "      <td>0.8</td>\n",
       "      <td>3.6</td>\n",
       "      <td>3.2</td>\n",
       "    </tr>\n",
       "    <tr>\n",
       "      <th>139</th>\n",
       "      <td>1.4</td>\n",
       "      <td>0.9</td>\n",
       "      <td>2.72</td>\n",
       "      <td>1.6</td>\n",
       "      <td>2.8</td>\n",
       "      <td>2.4</td>\n",
       "    </tr>\n",
       "    <tr>\n",
       "      <th>185</th>\n",
       "      <td>1.7</td>\n",
       "      <td>1.0</td>\n",
       "      <td>2.74</td>\n",
       "      <td>1.7</td>\n",
       "      <td>2.3</td>\n",
       "      <td>2.3</td>\n",
       "    </tr>\n",
       "    <tr>\n",
       "      <th>216</th>\n",
       "      <td>1.9</td>\n",
       "      <td>1.1</td>\n",
       "      <td>2.77</td>\n",
       "      <td>1.7</td>\n",
       "      <td>1.9</td>\n",
       "      <td>2.3</td>\n",
       "    </tr>\n",
       "    <tr>\n",
       "      <th>154</th>\n",
       "      <td>1.5</td>\n",
       "      <td>0.9</td>\n",
       "      <td>2.81</td>\n",
       "      <td>1.7</td>\n",
       "      <td>2.7</td>\n",
       "      <td>2.3</td>\n",
       "    </tr>\n",
       "    <tr>\n",
       "      <th>4</th>\n",
       "      <td>0.5</td>\n",
       "      <td>0.9</td>\n",
       "      <td>2.81</td>\n",
       "      <td>0.7</td>\n",
       "      <td>3.7</td>\n",
       "      <td>3.3</td>\n",
       "    </tr>\n",
       "    <tr>\n",
       "      <th>200</th>\n",
       "      <td>1.8</td>\n",
       "      <td>1.0</td>\n",
       "      <td>2.89</td>\n",
       "      <td>1.8</td>\n",
       "      <td>2.2</td>\n",
       "      <td>2.2</td>\n",
       "    </tr>\n",
       "    <tr>\n",
       "      <th>78</th>\n",
       "      <td>1.0</td>\n",
       "      <td>0.8</td>\n",
       "      <td>2.89</td>\n",
       "      <td>1.4</td>\n",
       "      <td>3.4</td>\n",
       "      <td>2.6</td>\n",
       "    </tr>\n",
       "    <tr>\n",
       "      <th>93</th>\n",
       "      <td>1.1</td>\n",
       "      <td>0.8</td>\n",
       "      <td>2.90</td>\n",
       "      <td>1.5</td>\n",
       "      <td>3.3</td>\n",
       "      <td>2.5</td>\n",
       "    </tr>\n",
       "    <tr>\n",
       "      <th>63</th>\n",
       "      <td>0.9</td>\n",
       "      <td>0.8</td>\n",
       "      <td>2.90</td>\n",
       "      <td>1.3</td>\n",
       "      <td>3.5</td>\n",
       "      <td>2.7</td>\n",
       "    </tr>\n",
       "    <tr>\n",
       "      <th>169</th>\n",
       "      <td>1.6</td>\n",
       "      <td>0.9</td>\n",
       "      <td>2.92</td>\n",
       "      <td>1.8</td>\n",
       "      <td>2.6</td>\n",
       "      <td>2.2</td>\n",
       "    </tr>\n",
       "    <tr>\n",
       "      <th>48</th>\n",
       "      <td>0.8</td>\n",
       "      <td>0.8</td>\n",
       "      <td>2.93</td>\n",
       "      <td>1.2</td>\n",
       "      <td>3.6</td>\n",
       "      <td>2.8</td>\n",
       "    </tr>\n",
       "    <tr>\n",
       "      <th>108</th>\n",
       "      <td>1.2</td>\n",
       "      <td>0.8</td>\n",
       "      <td>2.93</td>\n",
       "      <td>1.6</td>\n",
       "      <td>3.2</td>\n",
       "      <td>2.4</td>\n",
       "    </tr>\n",
       "    <tr>\n",
       "      <th>123</th>\n",
       "      <td>1.3</td>\n",
       "      <td>0.8</td>\n",
       "      <td>2.98</td>\n",
       "      <td>1.7</td>\n",
       "      <td>3.1</td>\n",
       "      <td>2.3</td>\n",
       "    </tr>\n",
       "    <tr>\n",
       "      <th>33</th>\n",
       "      <td>0.7</td>\n",
       "      <td>0.8</td>\n",
       "      <td>2.98</td>\n",
       "      <td>1.1</td>\n",
       "      <td>3.7</td>\n",
       "      <td>2.9</td>\n",
       "    </tr>\n",
       "    <tr>\n",
       "      <th>184</th>\n",
       "      <td>1.7</td>\n",
       "      <td>0.9</td>\n",
       "      <td>3.05</td>\n",
       "      <td>1.9</td>\n",
       "      <td>2.5</td>\n",
       "      <td>2.1</td>\n",
       "    </tr>\n",
       "    <tr>\n",
       "      <th>138</th>\n",
       "      <td>1.4</td>\n",
       "      <td>0.8</td>\n",
       "      <td>3.05</td>\n",
       "      <td>1.8</td>\n",
       "      <td>3.0</td>\n",
       "      <td>2.2</td>\n",
       "    </tr>\n",
       "    <tr>\n",
       "      <th>18</th>\n",
       "      <td>0.6</td>\n",
       "      <td>0.8</td>\n",
       "      <td>3.05</td>\n",
       "      <td>1.0</td>\n",
       "      <td>3.8</td>\n",
       "      <td>3.0</td>\n",
       "    </tr>\n",
       "    <tr>\n",
       "      <th>215</th>\n",
       "      <td>1.9</td>\n",
       "      <td>1.0</td>\n",
       "      <td>3.06</td>\n",
       "      <td>1.9</td>\n",
       "      <td>2.1</td>\n",
       "      <td>2.1</td>\n",
       "    </tr>\n",
       "    <tr>\n",
       "      <th>3</th>\n",
       "      <td>0.5</td>\n",
       "      <td>0.8</td>\n",
       "      <td>3.14</td>\n",
       "      <td>0.9</td>\n",
       "      <td>3.9</td>\n",
       "      <td>3.1</td>\n",
       "    </tr>\n",
       "    <tr>\n",
       "      <th>153</th>\n",
       "      <td>1.5</td>\n",
       "      <td>0.8</td>\n",
       "      <td>3.14</td>\n",
       "      <td>1.9</td>\n",
       "      <td>2.9</td>\n",
       "      <td>2.1</td>\n",
       "    </tr>\n",
       "    <tr>\n",
       "      <th>199</th>\n",
       "      <td>1.8</td>\n",
       "      <td>0.9</td>\n",
       "      <td>3.20</td>\n",
       "      <td>2.0</td>\n",
       "      <td>2.4</td>\n",
       "      <td>2.0</td>\n",
       "    </tr>\n",
       "    <tr>\n",
       "      <th>77</th>\n",
       "      <td>1.0</td>\n",
       "      <td>0.7</td>\n",
       "      <td>3.24</td>\n",
       "      <td>1.6</td>\n",
       "      <td>3.6</td>\n",
       "      <td>2.4</td>\n",
       "    </tr>\n",
       "    <tr>\n",
       "      <th>92</th>\n",
       "      <td>1.1</td>\n",
       "      <td>0.7</td>\n",
       "      <td>3.25</td>\n",
       "      <td>1.7</td>\n",
       "      <td>3.5</td>\n",
       "      <td>2.3</td>\n",
       "    </tr>\n",
       "    <tr>\n",
       "      <th>168</th>\n",
       "      <td>1.6</td>\n",
       "      <td>0.8</td>\n",
       "      <td>3.25</td>\n",
       "      <td>2.0</td>\n",
       "      <td>2.8</td>\n",
       "      <td>2.0</td>\n",
       "    </tr>\n",
       "    <tr>\n",
       "      <th>62</th>\n",
       "      <td>0.9</td>\n",
       "      <td>0.7</td>\n",
       "      <td>3.25</td>\n",
       "      <td>1.5</td>\n",
       "      <td>3.7</td>\n",
       "      <td>2.5</td>\n",
       "    </tr>\n",
       "    <tr>\n",
       "      <th>47</th>\n",
       "      <td>0.8</td>\n",
       "      <td>0.7</td>\n",
       "      <td>3.28</td>\n",
       "      <td>1.4</td>\n",
       "      <td>3.8</td>\n",
       "      <td>2.6</td>\n",
       "    </tr>\n",
       "    <tr>\n",
       "      <th>107</th>\n",
       "      <td>1.2</td>\n",
       "      <td>0.7</td>\n",
       "      <td>3.28</td>\n",
       "      <td>1.8</td>\n",
       "      <td>3.4</td>\n",
       "      <td>2.2</td>\n",
       "    </tr>\n",
       "    <tr>\n",
       "      <th>122</th>\n",
       "      <td>1.3</td>\n",
       "      <td>0.7</td>\n",
       "      <td>3.33</td>\n",
       "      <td>1.9</td>\n",
       "      <td>3.3</td>\n",
       "      <td>2.1</td>\n",
       "    </tr>\n",
       "    <tr>\n",
       "      <th>32</th>\n",
       "      <td>0.7</td>\n",
       "      <td>0.7</td>\n",
       "      <td>3.33</td>\n",
       "      <td>1.3</td>\n",
       "      <td>3.9</td>\n",
       "      <td>2.7</td>\n",
       "    </tr>\n",
       "    <tr>\n",
       "      <th>214</th>\n",
       "      <td>1.9</td>\n",
       "      <td>0.9</td>\n",
       "      <td>3.37</td>\n",
       "      <td>2.1</td>\n",
       "      <td>2.3</td>\n",
       "      <td>1.9</td>\n",
       "    </tr>\n",
       "    <tr>\n",
       "      <th>183</th>\n",
       "      <td>1.7</td>\n",
       "      <td>0.8</td>\n",
       "      <td>3.38</td>\n",
       "      <td>2.1</td>\n",
       "      <td>2.7</td>\n",
       "      <td>1.9</td>\n",
       "    </tr>\n",
       "    <tr>\n",
       "      <th>17</th>\n",
       "      <td>0.6</td>\n",
       "      <td>0.7</td>\n",
       "      <td>3.40</td>\n",
       "      <td>1.2</td>\n",
       "      <td>4.0</td>\n",
       "      <td>2.8</td>\n",
       "    </tr>\n",
       "    <tr>\n",
       "      <th>137</th>\n",
       "      <td>1.4</td>\n",
       "      <td>0.7</td>\n",
       "      <td>3.40</td>\n",
       "      <td>2.0</td>\n",
       "      <td>3.2</td>\n",
       "      <td>2.0</td>\n",
       "    </tr>\n",
       "    <tr>\n",
       "      <th>152</th>\n",
       "      <td>1.5</td>\n",
       "      <td>0.7</td>\n",
       "      <td>3.49</td>\n",
       "      <td>2.1</td>\n",
       "      <td>3.1</td>\n",
       "      <td>1.9</td>\n",
       "    </tr>\n",
       "    <tr>\n",
       "      <th>2</th>\n",
       "      <td>0.5</td>\n",
       "      <td>0.7</td>\n",
       "      <td>3.49</td>\n",
       "      <td>1.1</td>\n",
       "      <td>4.1</td>\n",
       "      <td>2.9</td>\n",
       "    </tr>\n",
       "    <tr>\n",
       "      <th>198</th>\n",
       "      <td>1.8</td>\n",
       "      <td>0.8</td>\n",
       "      <td>3.53</td>\n",
       "      <td>2.2</td>\n",
       "      <td>2.6</td>\n",
       "      <td>1.8</td>\n",
       "    </tr>\n",
       "    <tr>\n",
       "      <th>167</th>\n",
       "      <td>1.6</td>\n",
       "      <td>0.7</td>\n",
       "      <td>3.60</td>\n",
       "      <td>2.2</td>\n",
       "      <td>3.0</td>\n",
       "      <td>1.8</td>\n",
       "    </tr>\n",
       "    <tr>\n",
       "      <th>76</th>\n",
       "      <td>1.0</td>\n",
       "      <td>0.6</td>\n",
       "      <td>3.61</td>\n",
       "      <td>1.8</td>\n",
       "      <td>3.8</td>\n",
       "      <td>2.2</td>\n",
       "    </tr>\n",
       "    <tr>\n",
       "      <th>91</th>\n",
       "      <td>1.1</td>\n",
       "      <td>0.6</td>\n",
       "      <td>3.62</td>\n",
       "      <td>1.9</td>\n",
       "      <td>3.7</td>\n",
       "      <td>2.1</td>\n",
       "    </tr>\n",
       "    <tr>\n",
       "      <th>61</th>\n",
       "      <td>0.9</td>\n",
       "      <td>0.6</td>\n",
       "      <td>3.62</td>\n",
       "      <td>1.7</td>\n",
       "      <td>3.9</td>\n",
       "      <td>2.3</td>\n",
       "    </tr>\n",
       "    <tr>\n",
       "      <th>106</th>\n",
       "      <td>1.2</td>\n",
       "      <td>0.6</td>\n",
       "      <td>3.65</td>\n",
       "      <td>2.0</td>\n",
       "      <td>3.6</td>\n",
       "      <td>2.0</td>\n",
       "    </tr>\n",
       "    <tr>\n",
       "      <th>46</th>\n",
       "      <td>0.8</td>\n",
       "      <td>0.6</td>\n",
       "      <td>3.65</td>\n",
       "      <td>1.6</td>\n",
       "      <td>4.0</td>\n",
       "      <td>2.4</td>\n",
       "    </tr>\n",
       "    <tr>\n",
       "      <th>31</th>\n",
       "      <td>0.7</td>\n",
       "      <td>0.6</td>\n",
       "      <td>3.70</td>\n",
       "      <td>1.5</td>\n",
       "      <td>4.1</td>\n",
       "      <td>2.5</td>\n",
       "    </tr>\n",
       "    <tr>\n",
       "      <th>121</th>\n",
       "      <td>1.3</td>\n",
       "      <td>0.6</td>\n",
       "      <td>3.70</td>\n",
       "      <td>2.1</td>\n",
       "      <td>3.5</td>\n",
       "      <td>1.9</td>\n",
       "    </tr>\n",
       "    <tr>\n",
       "      <th>213</th>\n",
       "      <td>1.9</td>\n",
       "      <td>0.8</td>\n",
       "      <td>3.70</td>\n",
       "      <td>2.3</td>\n",
       "      <td>2.5</td>\n",
       "      <td>1.7</td>\n",
       "    </tr>\n",
       "    <tr>\n",
       "      <th>182</th>\n",
       "      <td>1.7</td>\n",
       "      <td>0.7</td>\n",
       "      <td>3.73</td>\n",
       "      <td>2.3</td>\n",
       "      <td>2.9</td>\n",
       "      <td>1.7</td>\n",
       "    </tr>\n",
       "    <tr>\n",
       "      <th>136</th>\n",
       "      <td>1.4</td>\n",
       "      <td>0.6</td>\n",
       "      <td>3.77</td>\n",
       "      <td>2.2</td>\n",
       "      <td>3.4</td>\n",
       "      <td>1.8</td>\n",
       "    </tr>\n",
       "    <tr>\n",
       "      <th>16</th>\n",
       "      <td>0.6</td>\n",
       "      <td>0.6</td>\n",
       "      <td>3.77</td>\n",
       "      <td>1.4</td>\n",
       "      <td>4.2</td>\n",
       "      <td>2.6</td>\n",
       "    </tr>\n",
       "    <tr>\n",
       "      <th>151</th>\n",
       "      <td>1.5</td>\n",
       "      <td>0.6</td>\n",
       "      <td>3.86</td>\n",
       "      <td>2.3</td>\n",
       "      <td>3.3</td>\n",
       "      <td>1.7</td>\n",
       "    </tr>\n",
       "    <tr>\n",
       "      <th>1</th>\n",
       "      <td>0.5</td>\n",
       "      <td>0.6</td>\n",
       "      <td>3.86</td>\n",
       "      <td>1.3</td>\n",
       "      <td>4.3</td>\n",
       "      <td>2.7</td>\n",
       "    </tr>\n",
       "    <tr>\n",
       "      <th>197</th>\n",
       "      <td>1.8</td>\n",
       "      <td>0.7</td>\n",
       "      <td>3.88</td>\n",
       "      <td>2.4</td>\n",
       "      <td>2.8</td>\n",
       "      <td>1.6</td>\n",
       "    </tr>\n",
       "    <tr>\n",
       "      <th>166</th>\n",
       "      <td>1.6</td>\n",
       "      <td>0.6</td>\n",
       "      <td>3.97</td>\n",
       "      <td>2.4</td>\n",
       "      <td>3.2</td>\n",
       "      <td>1.6</td>\n",
       "    </tr>\n",
       "    <tr>\n",
       "      <th>75</th>\n",
       "      <td>1.0</td>\n",
       "      <td>0.5</td>\n",
       "      <td>4.00</td>\n",
       "      <td>2.0</td>\n",
       "      <td>4.0</td>\n",
       "      <td>2.0</td>\n",
       "    </tr>\n",
       "    <tr>\n",
       "      <th>60</th>\n",
       "      <td>0.9</td>\n",
       "      <td>0.5</td>\n",
       "      <td>4.01</td>\n",
       "      <td>1.9</td>\n",
       "      <td>4.1</td>\n",
       "      <td>2.1</td>\n",
       "    </tr>\n",
       "    <tr>\n",
       "      <th>90</th>\n",
       "      <td>1.1</td>\n",
       "      <td>0.5</td>\n",
       "      <td>4.01</td>\n",
       "      <td>2.1</td>\n",
       "      <td>3.9</td>\n",
       "      <td>1.9</td>\n",
       "    </tr>\n",
       "    <tr>\n",
       "      <th>105</th>\n",
       "      <td>1.2</td>\n",
       "      <td>0.5</td>\n",
       "      <td>4.04</td>\n",
       "      <td>2.2</td>\n",
       "      <td>3.8</td>\n",
       "      <td>1.8</td>\n",
       "    </tr>\n",
       "    <tr>\n",
       "      <th>45</th>\n",
       "      <td>0.8</td>\n",
       "      <td>0.5</td>\n",
       "      <td>4.04</td>\n",
       "      <td>1.8</td>\n",
       "      <td>4.2</td>\n",
       "      <td>2.2</td>\n",
       "    </tr>\n",
       "    <tr>\n",
       "      <th>212</th>\n",
       "      <td>1.9</td>\n",
       "      <td>0.7</td>\n",
       "      <td>4.05</td>\n",
       "      <td>2.5</td>\n",
       "      <td>2.7</td>\n",
       "      <td>1.5</td>\n",
       "    </tr>\n",
       "    <tr>\n",
       "      <th>120</th>\n",
       "      <td>1.3</td>\n",
       "      <td>0.5</td>\n",
       "      <td>4.09</td>\n",
       "      <td>2.3</td>\n",
       "      <td>3.7</td>\n",
       "      <td>1.7</td>\n",
       "    </tr>\n",
       "    <tr>\n",
       "      <th>30</th>\n",
       "      <td>0.7</td>\n",
       "      <td>0.5</td>\n",
       "      <td>4.09</td>\n",
       "      <td>1.7</td>\n",
       "      <td>4.3</td>\n",
       "      <td>2.3</td>\n",
       "    </tr>\n",
       "    <tr>\n",
       "      <th>181</th>\n",
       "      <td>1.7</td>\n",
       "      <td>0.6</td>\n",
       "      <td>4.10</td>\n",
       "      <td>2.5</td>\n",
       "      <td>3.1</td>\n",
       "      <td>1.5</td>\n",
       "    </tr>\n",
       "    <tr>\n",
       "      <th>135</th>\n",
       "      <td>1.4</td>\n",
       "      <td>0.5</td>\n",
       "      <td>4.16</td>\n",
       "      <td>2.4</td>\n",
       "      <td>3.6</td>\n",
       "      <td>1.6</td>\n",
       "    </tr>\n",
       "    <tr>\n",
       "      <th>15</th>\n",
       "      <td>0.6</td>\n",
       "      <td>0.5</td>\n",
       "      <td>4.16</td>\n",
       "      <td>1.6</td>\n",
       "      <td>4.4</td>\n",
       "      <td>2.4</td>\n",
       "    </tr>\n",
       "    <tr>\n",
       "      <th>0</th>\n",
       "      <td>0.5</td>\n",
       "      <td>0.5</td>\n",
       "      <td>4.25</td>\n",
       "      <td>1.5</td>\n",
       "      <td>4.5</td>\n",
       "      <td>2.5</td>\n",
       "    </tr>\n",
       "    <tr>\n",
       "      <th>196</th>\n",
       "      <td>1.8</td>\n",
       "      <td>0.6</td>\n",
       "      <td>4.25</td>\n",
       "      <td>2.6</td>\n",
       "      <td>3.0</td>\n",
       "      <td>1.4</td>\n",
       "    </tr>\n",
       "    <tr>\n",
       "      <th>150</th>\n",
       "      <td>1.5</td>\n",
       "      <td>0.5</td>\n",
       "      <td>4.25</td>\n",
       "      <td>2.5</td>\n",
       "      <td>3.5</td>\n",
       "      <td>1.5</td>\n",
       "    </tr>\n",
       "    <tr>\n",
       "      <th>165</th>\n",
       "      <td>1.6</td>\n",
       "      <td>0.5</td>\n",
       "      <td>4.36</td>\n",
       "      <td>2.6</td>\n",
       "      <td>3.4</td>\n",
       "      <td>1.4</td>\n",
       "    </tr>\n",
       "    <tr>\n",
       "      <th>211</th>\n",
       "      <td>1.9</td>\n",
       "      <td>0.6</td>\n",
       "      <td>4.42</td>\n",
       "      <td>2.7</td>\n",
       "      <td>2.9</td>\n",
       "      <td>1.3</td>\n",
       "    </tr>\n",
       "    <tr>\n",
       "      <th>180</th>\n",
       "      <td>1.7</td>\n",
       "      <td>0.5</td>\n",
       "      <td>4.49</td>\n",
       "      <td>2.7</td>\n",
       "      <td>3.3</td>\n",
       "      <td>1.3</td>\n",
       "    </tr>\n",
       "    <tr>\n",
       "      <th>195</th>\n",
       "      <td>1.8</td>\n",
       "      <td>0.5</td>\n",
       "      <td>4.64</td>\n",
       "      <td>2.8</td>\n",
       "      <td>3.2</td>\n",
       "      <td>1.2</td>\n",
       "    </tr>\n",
       "    <tr>\n",
       "      <th>210</th>\n",
       "      <td>1.9</td>\n",
       "      <td>0.5</td>\n",
       "      <td>4.81</td>\n",
       "      <td>2.9</td>\n",
       "      <td>3.1</td>\n",
       "      <td>1.1</td>\n",
       "    </tr>\n",
       "  </tbody>\n",
       "</table>\n",
       "</div>"
      ],
      "text/plain": [
       "       x    y  func  cons1  cons3  cons4\n",
       "89   1.0  1.9  0.36   -0.8    1.2    4.8\n",
       "104  1.1  1.9  0.37   -0.7    1.1    4.7\n",
       "74   0.9  1.9  0.37   -0.9    1.3    4.9\n",
       "119  1.2  1.9  0.40   -0.6    1.0    4.6\n",
       "59   0.8  1.9  0.40   -1.0    1.4    5.0\n",
       "134  1.3  1.9  0.45   -0.5    0.9    4.5\n",
       "44   0.7  1.9  0.45   -1.1    1.5    5.1\n",
       "88   1.0  1.8  0.49   -0.6    1.4    4.6\n",
       "103  1.1  1.8  0.50   -0.5    1.3    4.5\n",
       "73   0.9  1.8  0.50   -0.7    1.5    4.7\n",
       "149  1.4  1.9  0.52   -0.4    0.8    4.4\n",
       "29   0.6  1.9  0.52   -1.2    1.6    5.2\n",
       "118  1.2  1.8  0.53   -0.4    1.2    4.4\n",
       "58   0.8  1.8  0.53   -0.8    1.6    4.8\n",
       "133  1.3  1.8  0.58   -0.3    1.1    4.3\n",
       "43   0.7  1.8  0.58   -0.9    1.7    4.9\n",
       "164  1.5  1.9  0.61   -0.3    0.7    4.3\n",
       "14   0.5  1.9  0.61   -1.3    1.7    5.3\n",
       "87   1.0  1.7  0.64   -0.4    1.6    4.4\n",
       "148  1.4  1.8  0.65   -0.2    1.0    4.2\n",
       "28   0.6  1.8  0.65   -1.0    1.8    5.0\n",
       "72   0.9  1.7  0.65   -0.5    1.7    4.5\n",
       "102  1.1  1.7  0.65   -0.3    1.5    4.3\n",
       "117  1.2  1.7  0.68   -0.2    1.4    4.2\n",
       "57   0.8  1.7  0.68   -0.6    1.8    4.6\n",
       "179  1.6  1.9  0.72   -0.2    0.6    4.2\n",
       "132  1.3  1.7  0.73   -0.1    1.3    4.1\n",
       "42   0.7  1.7  0.73   -0.7    1.9    4.7\n",
       "163  1.5  1.8  0.74   -0.1    0.9    4.1\n",
       "13   0.5  1.8  0.74   -1.1    1.9    5.1\n",
       "147  1.4  1.7  0.80    0.0    1.2    4.0\n",
       "27   0.6  1.7  0.80   -0.8    2.0    4.8\n",
       "86   1.0  1.6  0.81   -0.2    1.8    4.2\n",
       "71   0.9  1.6  0.82   -0.3    1.9    4.3\n",
       "101  1.1  1.6  0.82   -0.1    1.7    4.1\n",
       "178  1.6  1.8  0.85    0.0    0.8    4.0\n",
       "194  1.7  1.9  0.85   -0.1    0.5    4.1\n",
       "116  1.2  1.6  0.85    0.0    1.6    4.0\n",
       "56   0.8  1.6  0.85   -0.4    2.0    4.4\n",
       "162  1.5  1.7  0.89    0.1    1.1    3.9\n",
       "12   0.5  1.7  0.89   -0.9    2.1    4.9\n",
       "131  1.3  1.6  0.90    0.1    1.5    3.9\n",
       "41   0.7  1.6  0.90   -0.5    2.1    4.5\n",
       "146  1.4  1.6  0.97    0.2    1.4    3.8\n",
       "26   0.6  1.6  0.97   -0.6    2.2    4.6\n",
       "193  1.7  1.8  0.98    0.1    0.7    3.9\n",
       "209  1.8  1.9  1.00    0.0    0.4    4.0\n",
       "177  1.6  1.7  1.00    0.2    1.0    3.8\n",
       "85   1.0  1.5  1.00    0.0    2.0    4.0\n",
       "70   0.9  1.5  1.01   -0.1    2.1    4.1\n",
       "100  1.1  1.5  1.01    0.1    1.9    3.9\n",
       "115  1.2  1.5  1.04    0.2    1.8    3.8\n",
       "55   0.8  1.5  1.04   -0.2    2.2    4.2\n",
       "11   0.5  1.6  1.06   -0.7    2.3    4.7\n",
       "161  1.5  1.6  1.06    0.3    1.3    3.7\n",
       "130  1.3  1.5  1.09    0.3    1.7    3.7\n",
       "40   0.7  1.5  1.09   -0.3    2.3    4.3\n",
       "208  1.8  1.8  1.13    0.2    0.6    3.8\n",
       "192  1.7  1.7  1.13    0.3    0.9    3.7\n",
       "145  1.4  1.5  1.16    0.4    1.6    3.6\n",
       "25   0.6  1.5  1.16   -0.4    2.4    4.4\n",
       "224  1.9  1.9  1.17    0.1    0.3    3.9\n",
       "176  1.6  1.6  1.17    0.4    1.2    3.6\n",
       "84   1.0  1.4  1.21    0.2    2.2    3.8\n",
       "99   1.1  1.4  1.22    0.3    2.1    3.7\n",
       "69   0.9  1.4  1.22    0.1    2.3    3.9\n",
       "114  1.2  1.4  1.25    0.4    2.0    3.6\n",
       "160  1.5  1.5  1.25    0.5    1.5    3.5\n",
       "54   0.8  1.4  1.25    0.0    2.4    4.0\n",
       "10   0.5  1.5  1.25   -0.5    2.5    4.5\n",
       "207  1.8  1.7  1.28    0.4    0.8    3.6\n",
       "223  1.9  1.8  1.30    0.3    0.5    3.7\n",
       "129  1.3  1.4  1.30    0.5    1.9    3.5\n",
       "39   0.7  1.4  1.30   -0.1    2.5    4.1\n",
       "191  1.7  1.6  1.30    0.5    1.1    3.5\n",
       "175  1.6  1.5  1.36    0.6    1.4    3.4\n",
       "144  1.4  1.4  1.37    0.6    1.8    3.4\n",
       "24   0.6  1.4  1.37   -0.2    2.6    4.2\n",
       "83   1.0  1.3  1.44    0.4    2.4    3.6\n",
       "222  1.9  1.7  1.45    0.5    0.7    3.5\n",
       "206  1.8  1.6  1.45    0.6    1.0    3.4\n",
       "98   1.1  1.3  1.45    0.5    2.3    3.5\n",
       "68   0.9  1.3  1.45    0.3    2.5    3.7\n",
       "159  1.5  1.4  1.46    0.7    1.7    3.3\n",
       "9    0.5  1.4  1.46   -0.3    2.7    4.3\n",
       "113  1.2  1.3  1.48    0.6    2.2    3.4\n",
       "53   0.8  1.3  1.48    0.2    2.6    3.8\n",
       "190  1.7  1.5  1.49    0.7    1.3    3.3\n",
       "128  1.3  1.3  1.53    0.7    2.1    3.3\n",
       "38   0.7  1.3  1.53    0.1    2.7    3.9\n",
       "174  1.6  1.4  1.57    0.8    1.6    3.2\n",
       "143  1.4  1.3  1.60    0.8    2.0    3.2\n",
       "23   0.6  1.3  1.60    0.0    2.8    4.0\n",
       "221  1.9  1.6  1.62    0.7    0.9    3.3\n",
       "205  1.8  1.5  1.64    0.8    1.2    3.2\n",
       "158  1.5  1.3  1.69    0.9    1.9    3.1\n",
       "8    0.5  1.3  1.69   -0.1    2.9    4.1\n",
       "82   1.0  1.2  1.69    0.6    2.6    3.4\n",
       "189  1.7  1.4  1.70    0.9    1.5    3.1\n",
       "67   0.9  1.2  1.70    0.5    2.7    3.5\n",
       "97   1.1  1.2  1.70    0.7    2.5    3.3\n",
       "112  1.2  1.2  1.73    0.8    2.4    3.2\n",
       "52   0.8  1.2  1.73    0.4    2.8    3.6\n",
       "127  1.3  1.2  1.78    0.9    2.3    3.1\n",
       "37   0.7  1.2  1.78    0.3    2.9    3.7\n",
       "173  1.6  1.3  1.80    1.0    1.8    3.0\n",
       "220  1.9  1.5  1.81    0.9    1.1    3.1\n",
       "204  1.8  1.4  1.85    1.0    1.4    3.0\n",
       "142  1.4  1.2  1.85    1.0    2.2    3.0\n",
       "22   0.6  1.2  1.85    0.2    3.0    3.8\n",
       "188  1.7  1.3  1.93    1.1    1.7    2.9\n",
       "157  1.5  1.2  1.94    1.1    2.1    2.9\n",
       "7    0.5  1.2  1.94    0.1    3.1    3.9\n",
       "81   1.0  1.1  1.96    0.8    2.8    3.2\n",
       "66   0.9  1.1  1.97    0.7    2.9    3.3\n",
       "96   1.1  1.1  1.97    0.9    2.7    3.1\n",
       "111  1.2  1.1  2.00    1.0    2.6    3.0\n",
       "51   0.8  1.1  2.00    0.6    3.0    3.4\n",
       "219  1.9  1.4  2.02    1.1    1.3    2.9\n",
       "36   0.7  1.1  2.05    0.5    3.1    3.5\n",
       "126  1.3  1.1  2.05    1.1    2.5    2.9\n",
       "172  1.6  1.2  2.05    1.2    2.0    2.8\n",
       "203  1.8  1.3  2.08    1.2    1.6    2.8\n",
       "141  1.4  1.1  2.12    1.2    2.4    2.8\n",
       "21   0.6  1.1  2.12    0.4    3.2    3.6\n",
       "187  1.7  1.2  2.18    1.3    1.9    2.7\n",
       "156  1.5  1.1  2.21    1.3    2.3    2.7\n",
       "6    0.5  1.1  2.21    0.3    3.3    3.7\n",
       "80   1.0  1.0  2.25    1.0    3.0    3.0\n",
       "218  1.9  1.3  2.25    1.3    1.5    2.7\n",
       "95   1.1  1.0  2.26    1.1    2.9    2.9\n",
       "65   0.9  1.0  2.26    0.9    3.1    3.1\n",
       "50   0.8  1.0  2.29    0.8    3.2    3.2\n",
       "110  1.2  1.0  2.29    1.2    2.8    2.8\n",
       "171  1.6  1.1  2.32    1.4    2.2    2.6\n",
       "202  1.8  1.2  2.33    1.4    1.8    2.6\n",
       "35   0.7  1.0  2.34    0.7    3.3    3.3\n",
       "125  1.3  1.0  2.34    1.3    2.7    2.7\n",
       "140  1.4  1.0  2.41    1.4    2.6    2.6\n",
       "20   0.6  1.0  2.41    0.6    3.4    3.4\n",
       "186  1.7  1.1  2.45    1.5    2.1    2.5\n",
       "155  1.5  1.0  2.50    1.5    2.5    2.5\n",
       "5    0.5  1.0  2.50    0.5    3.5    3.5\n",
       "217  1.9  1.2  2.50    1.5    1.7    2.5\n",
       "79   1.0  0.9  2.56    1.2    3.2    2.8\n",
       "94   1.1  0.9  2.57    1.3    3.1    2.7\n",
       "64   0.9  0.9  2.57    1.1    3.3    2.9\n",
       "201  1.8  1.1  2.60    1.6    2.0    2.4\n",
       "49   0.8  0.9  2.60    1.0    3.4    3.0\n",
       "109  1.2  0.9  2.60    1.4    3.0    2.6\n",
       "170  1.6  1.0  2.61    1.6    2.4    2.4\n",
       "34   0.7  0.9  2.65    0.9    3.5    3.1\n",
       "124  1.3  0.9  2.65    1.5    2.9    2.5\n",
       "19   0.6  0.9  2.72    0.8    3.6    3.2\n",
       "139  1.4  0.9  2.72    1.6    2.8    2.4\n",
       "185  1.7  1.0  2.74    1.7    2.3    2.3\n",
       "216  1.9  1.1  2.77    1.7    1.9    2.3\n",
       "154  1.5  0.9  2.81    1.7    2.7    2.3\n",
       "4    0.5  0.9  2.81    0.7    3.7    3.3\n",
       "200  1.8  1.0  2.89    1.8    2.2    2.2\n",
       "78   1.0  0.8  2.89    1.4    3.4    2.6\n",
       "93   1.1  0.8  2.90    1.5    3.3    2.5\n",
       "63   0.9  0.8  2.90    1.3    3.5    2.7\n",
       "169  1.6  0.9  2.92    1.8    2.6    2.2\n",
       "48   0.8  0.8  2.93    1.2    3.6    2.8\n",
       "108  1.2  0.8  2.93    1.6    3.2    2.4\n",
       "123  1.3  0.8  2.98    1.7    3.1    2.3\n",
       "33   0.7  0.8  2.98    1.1    3.7    2.9\n",
       "184  1.7  0.9  3.05    1.9    2.5    2.1\n",
       "138  1.4  0.8  3.05    1.8    3.0    2.2\n",
       "18   0.6  0.8  3.05    1.0    3.8    3.0\n",
       "215  1.9  1.0  3.06    1.9    2.1    2.1\n",
       "3    0.5  0.8  3.14    0.9    3.9    3.1\n",
       "153  1.5  0.8  3.14    1.9    2.9    2.1\n",
       "199  1.8  0.9  3.20    2.0    2.4    2.0\n",
       "77   1.0  0.7  3.24    1.6    3.6    2.4\n",
       "92   1.1  0.7  3.25    1.7    3.5    2.3\n",
       "168  1.6  0.8  3.25    2.0    2.8    2.0\n",
       "62   0.9  0.7  3.25    1.5    3.7    2.5\n",
       "47   0.8  0.7  3.28    1.4    3.8    2.6\n",
       "107  1.2  0.7  3.28    1.8    3.4    2.2\n",
       "122  1.3  0.7  3.33    1.9    3.3    2.1\n",
       "32   0.7  0.7  3.33    1.3    3.9    2.7\n",
       "214  1.9  0.9  3.37    2.1    2.3    1.9\n",
       "183  1.7  0.8  3.38    2.1    2.7    1.9\n",
       "17   0.6  0.7  3.40    1.2    4.0    2.8\n",
       "137  1.4  0.7  3.40    2.0    3.2    2.0\n",
       "152  1.5  0.7  3.49    2.1    3.1    1.9\n",
       "2    0.5  0.7  3.49    1.1    4.1    2.9\n",
       "198  1.8  0.8  3.53    2.2    2.6    1.8\n",
       "167  1.6  0.7  3.60    2.2    3.0    1.8\n",
       "76   1.0  0.6  3.61    1.8    3.8    2.2\n",
       "91   1.1  0.6  3.62    1.9    3.7    2.1\n",
       "61   0.9  0.6  3.62    1.7    3.9    2.3\n",
       "106  1.2  0.6  3.65    2.0    3.6    2.0\n",
       "46   0.8  0.6  3.65    1.6    4.0    2.4\n",
       "31   0.7  0.6  3.70    1.5    4.1    2.5\n",
       "121  1.3  0.6  3.70    2.1    3.5    1.9\n",
       "213  1.9  0.8  3.70    2.3    2.5    1.7\n",
       "182  1.7  0.7  3.73    2.3    2.9    1.7\n",
       "136  1.4  0.6  3.77    2.2    3.4    1.8\n",
       "16   0.6  0.6  3.77    1.4    4.2    2.6\n",
       "151  1.5  0.6  3.86    2.3    3.3    1.7\n",
       "1    0.5  0.6  3.86    1.3    4.3    2.7\n",
       "197  1.8  0.7  3.88    2.4    2.8    1.6\n",
       "166  1.6  0.6  3.97    2.4    3.2    1.6\n",
       "75   1.0  0.5  4.00    2.0    4.0    2.0\n",
       "60   0.9  0.5  4.01    1.9    4.1    2.1\n",
       "90   1.1  0.5  4.01    2.1    3.9    1.9\n",
       "105  1.2  0.5  4.04    2.2    3.8    1.8\n",
       "45   0.8  0.5  4.04    1.8    4.2    2.2\n",
       "212  1.9  0.7  4.05    2.5    2.7    1.5\n",
       "120  1.3  0.5  4.09    2.3    3.7    1.7\n",
       "30   0.7  0.5  4.09    1.7    4.3    2.3\n",
       "181  1.7  0.6  4.10    2.5    3.1    1.5\n",
       "135  1.4  0.5  4.16    2.4    3.6    1.6\n",
       "15   0.6  0.5  4.16    1.6    4.4    2.4\n",
       "0    0.5  0.5  4.25    1.5    4.5    2.5\n",
       "196  1.8  0.6  4.25    2.6    3.0    1.4\n",
       "150  1.5  0.5  4.25    2.5    3.5    1.5\n",
       "165  1.6  0.5  4.36    2.6    3.4    1.4\n",
       "211  1.9  0.6  4.42    2.7    2.9    1.3\n",
       "180  1.7  0.5  4.49    2.7    3.3    1.3\n",
       "195  1.8  0.5  4.64    2.8    3.2    1.2\n",
       "210  1.9  0.5  4.81    2.9    3.1    1.1"
      ]
     },
     "execution_count": 221,
     "metadata": {},
     "output_type": "execute_result"
    }
   ],
   "source": [
    "#pd.set_option('display.max_rows', None)\n",
    "pd.DataFrame({\n",
    "    'x': x_plot,\n",
    "    'y': y_plot,\n",
    "    'func': z1,\n",
    "    'cons1': z2,\n",
    "    'cons3': z3,\n",
    "    'cons4': z4,\n",
    "}).sort_values('func').round(2)"
   ]
  },
  {
   "cell_type": "code",
   "execution_count": 222,
   "id": "d3e975b6",
   "metadata": {},
   "outputs": [
    {
     "data": {
      "text/plain": [
       "(1.400000000000001, 1.6999999999999997, 0.8000000000000013)"
      ]
     },
     "execution_count": 222,
     "metadata": {},
     "output_type": "execute_result"
    }
   ],
   "source": [
    "res_z = g(res.x[0], res.x[1])\n",
    "res.x[0], res.x[1], res_z"
   ]
  },
  {
   "cell_type": "code",
   "execution_count": 223,
   "id": "611d1ec6",
   "metadata": {},
   "outputs": [
    {
     "data": {
      "text/plain": [
       "array(1.7)"
      ]
     },
     "execution_count": 223,
     "metadata": {},
     "output_type": "execute_result"
    }
   ],
   "source": [
    "np.array(res.x[1])"
   ]
  },
  {
   "cell_type": "code",
   "execution_count": 224,
   "id": "916204ed",
   "metadata": {},
   "outputs": [
    {
     "data": {
      "application/vnd.plotly.v1+json": {
       "config": {
        "plotlyServerURL": "https://plot.ly"
       },
       "data": [
        {
         "opacity": 0.7,
         "type": "mesh3d",
         "x": [
          0.5,
          0.5,
          0.5,
          0.5,
          0.5,
          0.5,
          0.5,
          0.5,
          0.5,
          0.5,
          0.5,
          0.5,
          0.5,
          0.5,
          0.5,
          0.6,
          0.6,
          0.6,
          0.6,
          0.6,
          0.6,
          0.6,
          0.6,
          0.6,
          0.6,
          0.6,
          0.6,
          0.6,
          0.6,
          0.6,
          0.7,
          0.7,
          0.7,
          0.7,
          0.7,
          0.7,
          0.7,
          0.7,
          0.7,
          0.7,
          0.7,
          0.7,
          0.7,
          0.7,
          0.7,
          0.7999999999999999,
          0.7999999999999999,
          0.7999999999999999,
          0.7999999999999999,
          0.7999999999999999,
          0.7999999999999999,
          0.7999999999999999,
          0.7999999999999999,
          0.7999999999999999,
          0.7999999999999999,
          0.7999999999999999,
          0.7999999999999999,
          0.7999999999999999,
          0.7999999999999999,
          0.7999999999999999,
          0.8999999999999999,
          0.8999999999999999,
          0.8999999999999999,
          0.8999999999999999,
          0.8999999999999999,
          0.8999999999999999,
          0.8999999999999999,
          0.8999999999999999,
          0.8999999999999999,
          0.8999999999999999,
          0.8999999999999999,
          0.8999999999999999,
          0.8999999999999999,
          0.8999999999999999,
          0.8999999999999999,
          0.9999999999999999,
          0.9999999999999999,
          0.9999999999999999,
          0.9999999999999999,
          0.9999999999999999,
          0.9999999999999999,
          0.9999999999999999,
          0.9999999999999999,
          0.9999999999999999,
          0.9999999999999999,
          0.9999999999999999,
          0.9999999999999999,
          0.9999999999999999,
          0.9999999999999999,
          0.9999999999999999,
          1.0999999999999999,
          1.0999999999999999,
          1.0999999999999999,
          1.0999999999999999,
          1.0999999999999999,
          1.0999999999999999,
          1.0999999999999999,
          1.0999999999999999,
          1.0999999999999999,
          1.0999999999999999,
          1.0999999999999999,
          1.0999999999999999,
          1.0999999999999999,
          1.0999999999999999,
          1.0999999999999999,
          1.1999999999999997,
          1.1999999999999997,
          1.1999999999999997,
          1.1999999999999997,
          1.1999999999999997,
          1.1999999999999997,
          1.1999999999999997,
          1.1999999999999997,
          1.1999999999999997,
          1.1999999999999997,
          1.1999999999999997,
          1.1999999999999997,
          1.1999999999999997,
          1.1999999999999997,
          1.1999999999999997,
          1.2999999999999998,
          1.2999999999999998,
          1.2999999999999998,
          1.2999999999999998,
          1.2999999999999998,
          1.2999999999999998,
          1.2999999999999998,
          1.2999999999999998,
          1.2999999999999998,
          1.2999999999999998,
          1.2999999999999998,
          1.2999999999999998,
          1.2999999999999998,
          1.2999999999999998,
          1.2999999999999998,
          1.4,
          1.4,
          1.4,
          1.4,
          1.4,
          1.4,
          1.4,
          1.4,
          1.4,
          1.4,
          1.4,
          1.4,
          1.4,
          1.4,
          1.4,
          1.4999999999999998,
          1.4999999999999998,
          1.4999999999999998,
          1.4999999999999998,
          1.4999999999999998,
          1.4999999999999998,
          1.4999999999999998,
          1.4999999999999998,
          1.4999999999999998,
          1.4999999999999998,
          1.4999999999999998,
          1.4999999999999998,
          1.4999999999999998,
          1.4999999999999998,
          1.4999999999999998,
          1.5999999999999996,
          1.5999999999999996,
          1.5999999999999996,
          1.5999999999999996,
          1.5999999999999996,
          1.5999999999999996,
          1.5999999999999996,
          1.5999999999999996,
          1.5999999999999996,
          1.5999999999999996,
          1.5999999999999996,
          1.5999999999999996,
          1.5999999999999996,
          1.5999999999999996,
          1.5999999999999996,
          1.6999999999999997,
          1.6999999999999997,
          1.6999999999999997,
          1.6999999999999997,
          1.6999999999999997,
          1.6999999999999997,
          1.6999999999999997,
          1.6999999999999997,
          1.6999999999999997,
          1.6999999999999997,
          1.6999999999999997,
          1.6999999999999997,
          1.6999999999999997,
          1.6999999999999997,
          1.6999999999999997,
          1.7999999999999998,
          1.7999999999999998,
          1.7999999999999998,
          1.7999999999999998,
          1.7999999999999998,
          1.7999999999999998,
          1.7999999999999998,
          1.7999999999999998,
          1.7999999999999998,
          1.7999999999999998,
          1.7999999999999998,
          1.7999999999999998,
          1.7999999999999998,
          1.7999999999999998,
          1.7999999999999998,
          1.8999999999999997,
          1.8999999999999997,
          1.8999999999999997,
          1.8999999999999997,
          1.8999999999999997,
          1.8999999999999997,
          1.8999999999999997,
          1.8999999999999997,
          1.8999999999999997,
          1.8999999999999997,
          1.8999999999999997,
          1.8999999999999997,
          1.8999999999999997,
          1.8999999999999997,
          1.8999999999999997
         ],
         "y": [
          0.5,
          0.6,
          0.7,
          0.7999999999999999,
          0.8999999999999999,
          0.9999999999999999,
          1.0999999999999999,
          1.1999999999999997,
          1.2999999999999998,
          1.4,
          1.4999999999999998,
          1.5999999999999996,
          1.6999999999999997,
          1.7999999999999998,
          1.8999999999999997,
          0.5,
          0.6,
          0.7,
          0.7999999999999999,
          0.8999999999999999,
          0.9999999999999999,
          1.0999999999999999,
          1.1999999999999997,
          1.2999999999999998,
          1.4,
          1.4999999999999998,
          1.5999999999999996,
          1.6999999999999997,
          1.7999999999999998,
          1.8999999999999997,
          0.5,
          0.6,
          0.7,
          0.7999999999999999,
          0.8999999999999999,
          0.9999999999999999,
          1.0999999999999999,
          1.1999999999999997,
          1.2999999999999998,
          1.4,
          1.4999999999999998,
          1.5999999999999996,
          1.6999999999999997,
          1.7999999999999998,
          1.8999999999999997,
          0.5,
          0.6,
          0.7,
          0.7999999999999999,
          0.8999999999999999,
          0.9999999999999999,
          1.0999999999999999,
          1.1999999999999997,
          1.2999999999999998,
          1.4,
          1.4999999999999998,
          1.5999999999999996,
          1.6999999999999997,
          1.7999999999999998,
          1.8999999999999997,
          0.5,
          0.6,
          0.7,
          0.7999999999999999,
          0.8999999999999999,
          0.9999999999999999,
          1.0999999999999999,
          1.1999999999999997,
          1.2999999999999998,
          1.4,
          1.4999999999999998,
          1.5999999999999996,
          1.6999999999999997,
          1.7999999999999998,
          1.8999999999999997,
          0.5,
          0.6,
          0.7,
          0.7999999999999999,
          0.8999999999999999,
          0.9999999999999999,
          1.0999999999999999,
          1.1999999999999997,
          1.2999999999999998,
          1.4,
          1.4999999999999998,
          1.5999999999999996,
          1.6999999999999997,
          1.7999999999999998,
          1.8999999999999997,
          0.5,
          0.6,
          0.7,
          0.7999999999999999,
          0.8999999999999999,
          0.9999999999999999,
          1.0999999999999999,
          1.1999999999999997,
          1.2999999999999998,
          1.4,
          1.4999999999999998,
          1.5999999999999996,
          1.6999999999999997,
          1.7999999999999998,
          1.8999999999999997,
          0.5,
          0.6,
          0.7,
          0.7999999999999999,
          0.8999999999999999,
          0.9999999999999999,
          1.0999999999999999,
          1.1999999999999997,
          1.2999999999999998,
          1.4,
          1.4999999999999998,
          1.5999999999999996,
          1.6999999999999997,
          1.7999999999999998,
          1.8999999999999997,
          0.5,
          0.6,
          0.7,
          0.7999999999999999,
          0.8999999999999999,
          0.9999999999999999,
          1.0999999999999999,
          1.1999999999999997,
          1.2999999999999998,
          1.4,
          1.4999999999999998,
          1.5999999999999996,
          1.6999999999999997,
          1.7999999999999998,
          1.8999999999999997,
          0.5,
          0.6,
          0.7,
          0.7999999999999999,
          0.8999999999999999,
          0.9999999999999999,
          1.0999999999999999,
          1.1999999999999997,
          1.2999999999999998,
          1.4,
          1.4999999999999998,
          1.5999999999999996,
          1.6999999999999997,
          1.7999999999999998,
          1.8999999999999997,
          0.5,
          0.6,
          0.7,
          0.7999999999999999,
          0.8999999999999999,
          0.9999999999999999,
          1.0999999999999999,
          1.1999999999999997,
          1.2999999999999998,
          1.4,
          1.4999999999999998,
          1.5999999999999996,
          1.6999999999999997,
          1.7999999999999998,
          1.8999999999999997,
          0.5,
          0.6,
          0.7,
          0.7999999999999999,
          0.8999999999999999,
          0.9999999999999999,
          1.0999999999999999,
          1.1999999999999997,
          1.2999999999999998,
          1.4,
          1.4999999999999998,
          1.5999999999999996,
          1.6999999999999997,
          1.7999999999999998,
          1.8999999999999997,
          0.5,
          0.6,
          0.7,
          0.7999999999999999,
          0.8999999999999999,
          0.9999999999999999,
          1.0999999999999999,
          1.1999999999999997,
          1.2999999999999998,
          1.4,
          1.4999999999999998,
          1.5999999999999996,
          1.6999999999999997,
          1.7999999999999998,
          1.8999999999999997,
          0.5,
          0.6,
          0.7,
          0.7999999999999999,
          0.8999999999999999,
          0.9999999999999999,
          1.0999999999999999,
          1.1999999999999997,
          1.2999999999999998,
          1.4,
          1.4999999999999998,
          1.5999999999999996,
          1.6999999999999997,
          1.7999999999999998,
          1.8999999999999997,
          0.5,
          0.6,
          0.7,
          0.7999999999999999,
          0.8999999999999999,
          0.9999999999999999,
          1.0999999999999999,
          1.1999999999999997,
          1.2999999999999998,
          1.4,
          1.4999999999999998,
          1.5999999999999996,
          1.6999999999999997,
          1.7999999999999998,
          1.8999999999999997
         ],
         "z": [
          4.25,
          3.86,
          3.49,
          3.1400000000000006,
          2.8100000000000005,
          2.5,
          2.2100000000000004,
          1.9400000000000006,
          1.6900000000000004,
          1.4600000000000002,
          1.2500000000000004,
          1.0600000000000005,
          0.8900000000000005,
          0.7400000000000002,
          0.6100000000000003,
          4.16,
          3.77,
          3.4000000000000004,
          3.0500000000000007,
          2.7200000000000006,
          2.41,
          2.1200000000000006,
          1.8500000000000005,
          1.6000000000000005,
          1.37,
          1.1600000000000006,
          0.9700000000000006,
          0.8000000000000005,
          0.6500000000000004,
          0.5200000000000005,
          4.09,
          3.6999999999999997,
          3.33,
          2.9800000000000004,
          2.6500000000000004,
          2.34,
          2.0500000000000003,
          1.7800000000000007,
          1.5300000000000005,
          1.3000000000000003,
          1.0900000000000005,
          0.9000000000000006,
          0.7300000000000004,
          0.5800000000000003,
          0.4500000000000004,
          4.04,
          3.65,
          3.2800000000000002,
          2.9300000000000006,
          2.6000000000000005,
          2.29,
          2.0000000000000004,
          1.7300000000000006,
          1.4800000000000004,
          1.2500000000000002,
          1.0400000000000005,
          0.8500000000000006,
          0.6800000000000005,
          0.5300000000000002,
          0.4000000000000004,
          4.01,
          3.62,
          3.2500000000000004,
          2.900000000000001,
          2.5700000000000007,
          2.2600000000000002,
          1.9700000000000004,
          1.7000000000000006,
          1.4500000000000004,
          1.2200000000000002,
          1.0100000000000005,
          0.8200000000000006,
          0.6500000000000005,
          0.5000000000000003,
          0.3700000000000004,
          4,
          3.61,
          3.24,
          2.8900000000000006,
          2.5600000000000005,
          2.25,
          1.9600000000000004,
          1.6900000000000006,
          1.4400000000000004,
          1.2100000000000002,
          1.0000000000000004,
          0.8100000000000006,
          0.6400000000000005,
          0.49000000000000027,
          0.3600000000000004,
          4.01,
          3.6199999999999997,
          3.25,
          2.9000000000000004,
          2.5700000000000003,
          2.26,
          1.9700000000000004,
          1.7000000000000006,
          1.4500000000000004,
          1.2200000000000002,
          1.0100000000000005,
          0.8200000000000006,
          0.6500000000000005,
          0.5000000000000002,
          0.37000000000000033,
          4.04,
          3.65,
          3.2800000000000002,
          2.9300000000000006,
          2.6000000000000005,
          2.29,
          2.0000000000000004,
          1.7300000000000004,
          1.4800000000000002,
          1.25,
          1.0400000000000003,
          0.8500000000000005,
          0.6800000000000004,
          0.5300000000000001,
          0.40000000000000024,
          4.09,
          3.6999999999999997,
          3.33,
          2.9800000000000004,
          2.6500000000000004,
          2.34,
          2.0500000000000003,
          1.7800000000000005,
          1.5300000000000002,
          1.3,
          1.0900000000000003,
          0.9000000000000005,
          0.7300000000000003,
          0.5800000000000002,
          0.4500000000000003,
          4.16,
          3.7699999999999996,
          3.4000000000000004,
          3.0500000000000007,
          2.7200000000000006,
          2.41,
          2.12,
          1.8500000000000005,
          1.6000000000000003,
          1.37,
          1.1600000000000004,
          0.9700000000000005,
          0.8000000000000004,
          0.6500000000000001,
          0.5200000000000002,
          4.25,
          3.8599999999999994,
          3.49,
          3.1400000000000006,
          2.8100000000000005,
          2.5,
          2.21,
          1.9400000000000004,
          1.6900000000000002,
          1.46,
          1.2500000000000002,
          1.0600000000000005,
          0.8900000000000002,
          0.74,
          0.6100000000000001,
          4.359999999999999,
          3.9699999999999993,
          3.5999999999999996,
          3.25,
          2.92,
          2.6099999999999994,
          2.32,
          2.0500000000000003,
          1.8,
          1.5699999999999998,
          1.36,
          1.1700000000000002,
          1,
          0.8499999999999999,
          0.72,
          4.489999999999999,
          4.1,
          3.73,
          3.3800000000000003,
          3.0500000000000003,
          2.7399999999999998,
          2.45,
          2.18,
          1.93,
          1.6999999999999997,
          1.49,
          1.3000000000000003,
          1.1300000000000001,
          0.9799999999999999,
          0.85,
          4.64,
          4.25,
          3.88,
          3.5300000000000002,
          3.2,
          2.8899999999999997,
          2.6,
          2.33,
          2.08,
          1.8499999999999999,
          1.6400000000000001,
          1.4500000000000002,
          1.2800000000000002,
          1.13,
          1,
          4.81,
          4.419999999999999,
          4.05,
          3.7,
          3.37,
          3.0599999999999996,
          2.7699999999999996,
          2.5,
          2.25,
          2.0199999999999996,
          1.8099999999999998,
          1.62,
          1.4499999999999997,
          1.2999999999999996,
          1.1699999999999997
         ]
        },
        {
         "opacity": 0.5,
         "type": "mesh3d",
         "x": [
          0.5,
          0.5,
          0.5,
          0.5,
          0.5,
          0.5,
          0.5,
          0.5,
          0.5,
          0.5,
          0.5,
          0.5,
          0.5,
          0.5,
          0.5,
          0.6,
          0.6,
          0.6,
          0.6,
          0.6,
          0.6,
          0.6,
          0.6,
          0.6,
          0.6,
          0.6,
          0.6,
          0.6,
          0.6,
          0.6,
          0.7,
          0.7,
          0.7,
          0.7,
          0.7,
          0.7,
          0.7,
          0.7,
          0.7,
          0.7,
          0.7,
          0.7,
          0.7,
          0.7,
          0.7,
          0.7999999999999999,
          0.7999999999999999,
          0.7999999999999999,
          0.7999999999999999,
          0.7999999999999999,
          0.7999999999999999,
          0.7999999999999999,
          0.7999999999999999,
          0.7999999999999999,
          0.7999999999999999,
          0.7999999999999999,
          0.7999999999999999,
          0.7999999999999999,
          0.7999999999999999,
          0.7999999999999999,
          0.8999999999999999,
          0.8999999999999999,
          0.8999999999999999,
          0.8999999999999999,
          0.8999999999999999,
          0.8999999999999999,
          0.8999999999999999,
          0.8999999999999999,
          0.8999999999999999,
          0.8999999999999999,
          0.8999999999999999,
          0.8999999999999999,
          0.8999999999999999,
          0.8999999999999999,
          0.8999999999999999,
          0.9999999999999999,
          0.9999999999999999,
          0.9999999999999999,
          0.9999999999999999,
          0.9999999999999999,
          0.9999999999999999,
          0.9999999999999999,
          0.9999999999999999,
          0.9999999999999999,
          0.9999999999999999,
          0.9999999999999999,
          0.9999999999999999,
          0.9999999999999999,
          0.9999999999999999,
          0.9999999999999999,
          1.0999999999999999,
          1.0999999999999999,
          1.0999999999999999,
          1.0999999999999999,
          1.0999999999999999,
          1.0999999999999999,
          1.0999999999999999,
          1.0999999999999999,
          1.0999999999999999,
          1.0999999999999999,
          1.0999999999999999,
          1.0999999999999999,
          1.0999999999999999,
          1.0999999999999999,
          1.0999999999999999,
          1.1999999999999997,
          1.1999999999999997,
          1.1999999999999997,
          1.1999999999999997,
          1.1999999999999997,
          1.1999999999999997,
          1.1999999999999997,
          1.1999999999999997,
          1.1999999999999997,
          1.1999999999999997,
          1.1999999999999997,
          1.1999999999999997,
          1.1999999999999997,
          1.1999999999999997,
          1.1999999999999997,
          1.2999999999999998,
          1.2999999999999998,
          1.2999999999999998,
          1.2999999999999998,
          1.2999999999999998,
          1.2999999999999998,
          1.2999999999999998,
          1.2999999999999998,
          1.2999999999999998,
          1.2999999999999998,
          1.2999999999999998,
          1.2999999999999998,
          1.2999999999999998,
          1.2999999999999998,
          1.2999999999999998,
          1.4,
          1.4,
          1.4,
          1.4,
          1.4,
          1.4,
          1.4,
          1.4,
          1.4,
          1.4,
          1.4,
          1.4,
          1.4,
          1.4,
          1.4,
          1.4999999999999998,
          1.4999999999999998,
          1.4999999999999998,
          1.4999999999999998,
          1.4999999999999998,
          1.4999999999999998,
          1.4999999999999998,
          1.4999999999999998,
          1.4999999999999998,
          1.4999999999999998,
          1.4999999999999998,
          1.4999999999999998,
          1.4999999999999998,
          1.4999999999999998,
          1.4999999999999998,
          1.5999999999999996,
          1.5999999999999996,
          1.5999999999999996,
          1.5999999999999996,
          1.5999999999999996,
          1.5999999999999996,
          1.5999999999999996,
          1.5999999999999996,
          1.5999999999999996,
          1.5999999999999996,
          1.5999999999999996,
          1.5999999999999996,
          1.5999999999999996,
          1.5999999999999996,
          1.5999999999999996,
          1.6999999999999997,
          1.6999999999999997,
          1.6999999999999997,
          1.6999999999999997,
          1.6999999999999997,
          1.6999999999999997,
          1.6999999999999997,
          1.6999999999999997,
          1.6999999999999997,
          1.6999999999999997,
          1.6999999999999997,
          1.6999999999999997,
          1.6999999999999997,
          1.6999999999999997,
          1.6999999999999997,
          1.7999999999999998,
          1.7999999999999998,
          1.7999999999999998,
          1.7999999999999998,
          1.7999999999999998,
          1.7999999999999998,
          1.7999999999999998,
          1.7999999999999998,
          1.7999999999999998,
          1.7999999999999998,
          1.7999999999999998,
          1.7999999999999998,
          1.7999999999999998,
          1.7999999999999998,
          1.7999999999999998,
          1.8999999999999997,
          1.8999999999999997,
          1.8999999999999997,
          1.8999999999999997,
          1.8999999999999997,
          1.8999999999999997,
          1.8999999999999997,
          1.8999999999999997,
          1.8999999999999997,
          1.8999999999999997,
          1.8999999999999997,
          1.8999999999999997,
          1.8999999999999997,
          1.8999999999999997,
          1.8999999999999997
         ],
         "y": [
          0.5,
          0.6,
          0.7,
          0.7999999999999999,
          0.8999999999999999,
          0.9999999999999999,
          1.0999999999999999,
          1.1999999999999997,
          1.2999999999999998,
          1.4,
          1.4999999999999998,
          1.5999999999999996,
          1.6999999999999997,
          1.7999999999999998,
          1.8999999999999997,
          0.5,
          0.6,
          0.7,
          0.7999999999999999,
          0.8999999999999999,
          0.9999999999999999,
          1.0999999999999999,
          1.1999999999999997,
          1.2999999999999998,
          1.4,
          1.4999999999999998,
          1.5999999999999996,
          1.6999999999999997,
          1.7999999999999998,
          1.8999999999999997,
          0.5,
          0.6,
          0.7,
          0.7999999999999999,
          0.8999999999999999,
          0.9999999999999999,
          1.0999999999999999,
          1.1999999999999997,
          1.2999999999999998,
          1.4,
          1.4999999999999998,
          1.5999999999999996,
          1.6999999999999997,
          1.7999999999999998,
          1.8999999999999997,
          0.5,
          0.6,
          0.7,
          0.7999999999999999,
          0.8999999999999999,
          0.9999999999999999,
          1.0999999999999999,
          1.1999999999999997,
          1.2999999999999998,
          1.4,
          1.4999999999999998,
          1.5999999999999996,
          1.6999999999999997,
          1.7999999999999998,
          1.8999999999999997,
          0.5,
          0.6,
          0.7,
          0.7999999999999999,
          0.8999999999999999,
          0.9999999999999999,
          1.0999999999999999,
          1.1999999999999997,
          1.2999999999999998,
          1.4,
          1.4999999999999998,
          1.5999999999999996,
          1.6999999999999997,
          1.7999999999999998,
          1.8999999999999997,
          0.5,
          0.6,
          0.7,
          0.7999999999999999,
          0.8999999999999999,
          0.9999999999999999,
          1.0999999999999999,
          1.1999999999999997,
          1.2999999999999998,
          1.4,
          1.4999999999999998,
          1.5999999999999996,
          1.6999999999999997,
          1.7999999999999998,
          1.8999999999999997,
          0.5,
          0.6,
          0.7,
          0.7999999999999999,
          0.8999999999999999,
          0.9999999999999999,
          1.0999999999999999,
          1.1999999999999997,
          1.2999999999999998,
          1.4,
          1.4999999999999998,
          1.5999999999999996,
          1.6999999999999997,
          1.7999999999999998,
          1.8999999999999997,
          0.5,
          0.6,
          0.7,
          0.7999999999999999,
          0.8999999999999999,
          0.9999999999999999,
          1.0999999999999999,
          1.1999999999999997,
          1.2999999999999998,
          1.4,
          1.4999999999999998,
          1.5999999999999996,
          1.6999999999999997,
          1.7999999999999998,
          1.8999999999999997,
          0.5,
          0.6,
          0.7,
          0.7999999999999999,
          0.8999999999999999,
          0.9999999999999999,
          1.0999999999999999,
          1.1999999999999997,
          1.2999999999999998,
          1.4,
          1.4999999999999998,
          1.5999999999999996,
          1.6999999999999997,
          1.7999999999999998,
          1.8999999999999997,
          0.5,
          0.6,
          0.7,
          0.7999999999999999,
          0.8999999999999999,
          0.9999999999999999,
          1.0999999999999999,
          1.1999999999999997,
          1.2999999999999998,
          1.4,
          1.4999999999999998,
          1.5999999999999996,
          1.6999999999999997,
          1.7999999999999998,
          1.8999999999999997,
          0.5,
          0.6,
          0.7,
          0.7999999999999999,
          0.8999999999999999,
          0.9999999999999999,
          1.0999999999999999,
          1.1999999999999997,
          1.2999999999999998,
          1.4,
          1.4999999999999998,
          1.5999999999999996,
          1.6999999999999997,
          1.7999999999999998,
          1.8999999999999997,
          0.5,
          0.6,
          0.7,
          0.7999999999999999,
          0.8999999999999999,
          0.9999999999999999,
          1.0999999999999999,
          1.1999999999999997,
          1.2999999999999998,
          1.4,
          1.4999999999999998,
          1.5999999999999996,
          1.6999999999999997,
          1.7999999999999998,
          1.8999999999999997,
          0.5,
          0.6,
          0.7,
          0.7999999999999999,
          0.8999999999999999,
          0.9999999999999999,
          1.0999999999999999,
          1.1999999999999997,
          1.2999999999999998,
          1.4,
          1.4999999999999998,
          1.5999999999999996,
          1.6999999999999997,
          1.7999999999999998,
          1.8999999999999997,
          0.5,
          0.6,
          0.7,
          0.7999999999999999,
          0.8999999999999999,
          0.9999999999999999,
          1.0999999999999999,
          1.1999999999999997,
          1.2999999999999998,
          1.4,
          1.4999999999999998,
          1.5999999999999996,
          1.6999999999999997,
          1.7999999999999998,
          1.8999999999999997,
          0.5,
          0.6,
          0.7,
          0.7999999999999999,
          0.8999999999999999,
          0.9999999999999999,
          1.0999999999999999,
          1.1999999999999997,
          1.2999999999999998,
          1.4,
          1.4999999999999998,
          1.5999999999999996,
          1.6999999999999997,
          1.7999999999999998,
          1.8999999999999997
         ],
         "z": [
          1.5,
          1.3,
          1.1,
          0.9000000000000001,
          0.7000000000000002,
          0.5000000000000002,
          0.30000000000000027,
          0.10000000000000053,
          -0.09999999999999964,
          -0.2999999999999998,
          -0.49999999999999956,
          -0.6999999999999993,
          -0.8999999999999995,
          -1.0999999999999996,
          -1.2999999999999994,
          1.6,
          1.4,
          1.2000000000000002,
          1,
          0.8000000000000003,
          0.6000000000000001,
          0.40000000000000036,
          0.20000000000000062,
          4.440892098500626e-16,
          -0.19999999999999973,
          -0.39999999999999947,
          -0.5999999999999992,
          -0.7999999999999994,
          -0.9999999999999996,
          -1.1999999999999993,
          1.7,
          1.5,
          1.3,
          1.1,
          0.9000000000000001,
          0.7000000000000002,
          0.5000000000000002,
          0.3000000000000005,
          0.10000000000000031,
          -0.09999999999999964,
          -0.2999999999999998,
          -0.4999999999999991,
          -0.6999999999999993,
          -0.8999999999999995,
          -1.0999999999999996,
          1.7999999999999998,
          1.6,
          1.4,
          1.2000000000000002,
          1,
          0.8000000000000003,
          0.6000000000000001,
          0.40000000000000036,
          0.20000000000000018,
          0,
          -0.19999999999999973,
          -0.39999999999999947,
          -0.5999999999999996,
          -0.7999999999999998,
          -0.9999999999999996,
          1.9,
          1.7,
          1.5,
          1.3,
          1.1,
          0.9000000000000001,
          0.7000000000000002,
          0.5000000000000004,
          0.30000000000000027,
          0.10000000000000009,
          -0.09999999999999964,
          -0.2999999999999994,
          -0.49999999999999956,
          -0.6999999999999997,
          -0.8999999999999995,
          2,
          1.7999999999999998,
          1.6,
          1.4,
          1.2000000000000002,
          1,
          0.8000000000000003,
          0.6000000000000005,
          0.40000000000000036,
          0.20000000000000018,
          4.440892098500626e-16,
          -0.1999999999999993,
          -0.39999999999999947,
          -0.5999999999999996,
          -0.7999999999999994,
          2.0999999999999996,
          1.9,
          1.7,
          1.5,
          1.3,
          1.1,
          0.9000000000000001,
          0.7000000000000004,
          0.5000000000000002,
          0.30000000000000004,
          0.10000000000000031,
          -0.09999999999999964,
          -0.2999999999999998,
          -0.5,
          -0.6999999999999993,
          2.1999999999999997,
          1.9999999999999998,
          1.7999999999999998,
          1.5999999999999999,
          1.4,
          1.2,
          1,
          0.8000000000000003,
          0.6000000000000001,
          0.3999999999999999,
          0.20000000000000018,
          4.440892098500626e-16,
          -0.19999999999999973,
          -0.3999999999999999,
          -0.5999999999999996,
          2.3,
          2.0999999999999996,
          1.9,
          1.7,
          1.5,
          1.3,
          1.1,
          0.9000000000000004,
          0.7000000000000002,
          0.5,
          0.30000000000000027,
          0.10000000000000053,
          -0.09999999999999964,
          -0.2999999999999998,
          -0.49999999999999956,
          2.4,
          2.2,
          2,
          1.8,
          1.6,
          1.4000000000000001,
          1.2000000000000002,
          1.0000000000000004,
          0.8000000000000003,
          0.6000000000000001,
          0.40000000000000036,
          0.20000000000000062,
          4.440892098500626e-16,
          -0.19999999999999973,
          -0.39999999999999947,
          2.5,
          2.3,
          2.0999999999999996,
          1.9,
          1.7,
          1.5,
          1.3,
          1.1000000000000003,
          0.9000000000000001,
          0.7,
          0.5000000000000002,
          0.3000000000000005,
          0.10000000000000031,
          -0.09999999999999964,
          -0.2999999999999998,
          2.5999999999999996,
          2.3999999999999995,
          2.1999999999999997,
          1.9999999999999998,
          1.7999999999999998,
          1.5999999999999999,
          1.4,
          1.2000000000000002,
          1,
          0.7999999999999998,
          0.6000000000000001,
          0.40000000000000036,
          0.20000000000000018,
          0,
          -0.19999999999999973,
          2.6999999999999997,
          2.5,
          2.3,
          2.0999999999999996,
          1.9,
          1.7,
          1.5,
          1.3000000000000003,
          1.1,
          0.8999999999999999,
          0.7000000000000002,
          0.5000000000000004,
          0.30000000000000027,
          0.10000000000000009,
          -0.09999999999999964,
          2.8,
          2.5999999999999996,
          2.4,
          2.2,
          2,
          1.8,
          1.6,
          1.4000000000000004,
          1.2000000000000002,
          1,
          0.8000000000000003,
          0.6000000000000005,
          0.40000000000000036,
          0.20000000000000018,
          4.440892098500626e-16,
          2.8999999999999995,
          2.6999999999999997,
          2.5,
          2.3,
          2.0999999999999996,
          1.9,
          1.7,
          1.5000000000000002,
          1.3,
          1.0999999999999999,
          0.9000000000000001,
          0.7000000000000004,
          0.5000000000000002,
          0.30000000000000004,
          0.10000000000000031
         ]
        },
        {
         "opacity": 0.5,
         "type": "mesh3d",
         "x": [
          0.5,
          0.5,
          0.5,
          0.5,
          0.5,
          0.5,
          0.5,
          0.5,
          0.5,
          0.5,
          0.5,
          0.5,
          0.5,
          0.5,
          0.5,
          0.6,
          0.6,
          0.6,
          0.6,
          0.6,
          0.6,
          0.6,
          0.6,
          0.6,
          0.6,
          0.6,
          0.6,
          0.6,
          0.6,
          0.6,
          0.7,
          0.7,
          0.7,
          0.7,
          0.7,
          0.7,
          0.7,
          0.7,
          0.7,
          0.7,
          0.7,
          0.7,
          0.7,
          0.7,
          0.7,
          0.7999999999999999,
          0.7999999999999999,
          0.7999999999999999,
          0.7999999999999999,
          0.7999999999999999,
          0.7999999999999999,
          0.7999999999999999,
          0.7999999999999999,
          0.7999999999999999,
          0.7999999999999999,
          0.7999999999999999,
          0.7999999999999999,
          0.7999999999999999,
          0.7999999999999999,
          0.7999999999999999,
          0.8999999999999999,
          0.8999999999999999,
          0.8999999999999999,
          0.8999999999999999,
          0.8999999999999999,
          0.8999999999999999,
          0.8999999999999999,
          0.8999999999999999,
          0.8999999999999999,
          0.8999999999999999,
          0.8999999999999999,
          0.8999999999999999,
          0.8999999999999999,
          0.8999999999999999,
          0.8999999999999999,
          0.9999999999999999,
          0.9999999999999999,
          0.9999999999999999,
          0.9999999999999999,
          0.9999999999999999,
          0.9999999999999999,
          0.9999999999999999,
          0.9999999999999999,
          0.9999999999999999,
          0.9999999999999999,
          0.9999999999999999,
          0.9999999999999999,
          0.9999999999999999,
          0.9999999999999999,
          0.9999999999999999,
          1.0999999999999999,
          1.0999999999999999,
          1.0999999999999999,
          1.0999999999999999,
          1.0999999999999999,
          1.0999999999999999,
          1.0999999999999999,
          1.0999999999999999,
          1.0999999999999999,
          1.0999999999999999,
          1.0999999999999999,
          1.0999999999999999,
          1.0999999999999999,
          1.0999999999999999,
          1.0999999999999999,
          1.1999999999999997,
          1.1999999999999997,
          1.1999999999999997,
          1.1999999999999997,
          1.1999999999999997,
          1.1999999999999997,
          1.1999999999999997,
          1.1999999999999997,
          1.1999999999999997,
          1.1999999999999997,
          1.1999999999999997,
          1.1999999999999997,
          1.1999999999999997,
          1.1999999999999997,
          1.1999999999999997,
          1.2999999999999998,
          1.2999999999999998,
          1.2999999999999998,
          1.2999999999999998,
          1.2999999999999998,
          1.2999999999999998,
          1.2999999999999998,
          1.2999999999999998,
          1.2999999999999998,
          1.2999999999999998,
          1.2999999999999998,
          1.2999999999999998,
          1.2999999999999998,
          1.2999999999999998,
          1.2999999999999998,
          1.4,
          1.4,
          1.4,
          1.4,
          1.4,
          1.4,
          1.4,
          1.4,
          1.4,
          1.4,
          1.4,
          1.4,
          1.4,
          1.4,
          1.4,
          1.4999999999999998,
          1.4999999999999998,
          1.4999999999999998,
          1.4999999999999998,
          1.4999999999999998,
          1.4999999999999998,
          1.4999999999999998,
          1.4999999999999998,
          1.4999999999999998,
          1.4999999999999998,
          1.4999999999999998,
          1.4999999999999998,
          1.4999999999999998,
          1.4999999999999998,
          1.4999999999999998,
          1.5999999999999996,
          1.5999999999999996,
          1.5999999999999996,
          1.5999999999999996,
          1.5999999999999996,
          1.5999999999999996,
          1.5999999999999996,
          1.5999999999999996,
          1.5999999999999996,
          1.5999999999999996,
          1.5999999999999996,
          1.5999999999999996,
          1.5999999999999996,
          1.5999999999999996,
          1.5999999999999996,
          1.6999999999999997,
          1.6999999999999997,
          1.6999999999999997,
          1.6999999999999997,
          1.6999999999999997,
          1.6999999999999997,
          1.6999999999999997,
          1.6999999999999997,
          1.6999999999999997,
          1.6999999999999997,
          1.6999999999999997,
          1.6999999999999997,
          1.6999999999999997,
          1.6999999999999997,
          1.6999999999999997,
          1.7999999999999998,
          1.7999999999999998,
          1.7999999999999998,
          1.7999999999999998,
          1.7999999999999998,
          1.7999999999999998,
          1.7999999999999998,
          1.7999999999999998,
          1.7999999999999998,
          1.7999999999999998,
          1.7999999999999998,
          1.7999999999999998,
          1.7999999999999998,
          1.7999999999999998,
          1.7999999999999998,
          1.8999999999999997,
          1.8999999999999997,
          1.8999999999999997,
          1.8999999999999997,
          1.8999999999999997,
          1.8999999999999997,
          1.8999999999999997,
          1.8999999999999997,
          1.8999999999999997,
          1.8999999999999997,
          1.8999999999999997,
          1.8999999999999997,
          1.8999999999999997,
          1.8999999999999997,
          1.8999999999999997
         ],
         "y": [
          0.5,
          0.6,
          0.7,
          0.7999999999999999,
          0.8999999999999999,
          0.9999999999999999,
          1.0999999999999999,
          1.1999999999999997,
          1.2999999999999998,
          1.4,
          1.4999999999999998,
          1.5999999999999996,
          1.6999999999999997,
          1.7999999999999998,
          1.8999999999999997,
          0.5,
          0.6,
          0.7,
          0.7999999999999999,
          0.8999999999999999,
          0.9999999999999999,
          1.0999999999999999,
          1.1999999999999997,
          1.2999999999999998,
          1.4,
          1.4999999999999998,
          1.5999999999999996,
          1.6999999999999997,
          1.7999999999999998,
          1.8999999999999997,
          0.5,
          0.6,
          0.7,
          0.7999999999999999,
          0.8999999999999999,
          0.9999999999999999,
          1.0999999999999999,
          1.1999999999999997,
          1.2999999999999998,
          1.4,
          1.4999999999999998,
          1.5999999999999996,
          1.6999999999999997,
          1.7999999999999998,
          1.8999999999999997,
          0.5,
          0.6,
          0.7,
          0.7999999999999999,
          0.8999999999999999,
          0.9999999999999999,
          1.0999999999999999,
          1.1999999999999997,
          1.2999999999999998,
          1.4,
          1.4999999999999998,
          1.5999999999999996,
          1.6999999999999997,
          1.7999999999999998,
          1.8999999999999997,
          0.5,
          0.6,
          0.7,
          0.7999999999999999,
          0.8999999999999999,
          0.9999999999999999,
          1.0999999999999999,
          1.1999999999999997,
          1.2999999999999998,
          1.4,
          1.4999999999999998,
          1.5999999999999996,
          1.6999999999999997,
          1.7999999999999998,
          1.8999999999999997,
          0.5,
          0.6,
          0.7,
          0.7999999999999999,
          0.8999999999999999,
          0.9999999999999999,
          1.0999999999999999,
          1.1999999999999997,
          1.2999999999999998,
          1.4,
          1.4999999999999998,
          1.5999999999999996,
          1.6999999999999997,
          1.7999999999999998,
          1.8999999999999997,
          0.5,
          0.6,
          0.7,
          0.7999999999999999,
          0.8999999999999999,
          0.9999999999999999,
          1.0999999999999999,
          1.1999999999999997,
          1.2999999999999998,
          1.4,
          1.4999999999999998,
          1.5999999999999996,
          1.6999999999999997,
          1.7999999999999998,
          1.8999999999999997,
          0.5,
          0.6,
          0.7,
          0.7999999999999999,
          0.8999999999999999,
          0.9999999999999999,
          1.0999999999999999,
          1.1999999999999997,
          1.2999999999999998,
          1.4,
          1.4999999999999998,
          1.5999999999999996,
          1.6999999999999997,
          1.7999999999999998,
          1.8999999999999997,
          0.5,
          0.6,
          0.7,
          0.7999999999999999,
          0.8999999999999999,
          0.9999999999999999,
          1.0999999999999999,
          1.1999999999999997,
          1.2999999999999998,
          1.4,
          1.4999999999999998,
          1.5999999999999996,
          1.6999999999999997,
          1.7999999999999998,
          1.8999999999999997,
          0.5,
          0.6,
          0.7,
          0.7999999999999999,
          0.8999999999999999,
          0.9999999999999999,
          1.0999999999999999,
          1.1999999999999997,
          1.2999999999999998,
          1.4,
          1.4999999999999998,
          1.5999999999999996,
          1.6999999999999997,
          1.7999999999999998,
          1.8999999999999997,
          0.5,
          0.6,
          0.7,
          0.7999999999999999,
          0.8999999999999999,
          0.9999999999999999,
          1.0999999999999999,
          1.1999999999999997,
          1.2999999999999998,
          1.4,
          1.4999999999999998,
          1.5999999999999996,
          1.6999999999999997,
          1.7999999999999998,
          1.8999999999999997,
          0.5,
          0.6,
          0.7,
          0.7999999999999999,
          0.8999999999999999,
          0.9999999999999999,
          1.0999999999999999,
          1.1999999999999997,
          1.2999999999999998,
          1.4,
          1.4999999999999998,
          1.5999999999999996,
          1.6999999999999997,
          1.7999999999999998,
          1.8999999999999997,
          0.5,
          0.6,
          0.7,
          0.7999999999999999,
          0.8999999999999999,
          0.9999999999999999,
          1.0999999999999999,
          1.1999999999999997,
          1.2999999999999998,
          1.4,
          1.4999999999999998,
          1.5999999999999996,
          1.6999999999999997,
          1.7999999999999998,
          1.8999999999999997,
          0.5,
          0.6,
          0.7,
          0.7999999999999999,
          0.8999999999999999,
          0.9999999999999999,
          1.0999999999999999,
          1.1999999999999997,
          1.2999999999999998,
          1.4,
          1.4999999999999998,
          1.5999999999999996,
          1.6999999999999997,
          1.7999999999999998,
          1.8999999999999997,
          0.5,
          0.6,
          0.7,
          0.7999999999999999,
          0.8999999999999999,
          0.9999999999999999,
          1.0999999999999999,
          1.1999999999999997,
          1.2999999999999998,
          1.4,
          1.4999999999999998,
          1.5999999999999996,
          1.6999999999999997,
          1.7999999999999998,
          1.8999999999999997
         ],
         "z": [
          4.5,
          4.3,
          4.1,
          3.9000000000000004,
          3.7,
          3.5,
          3.3000000000000003,
          3.1000000000000005,
          2.9000000000000004,
          2.7,
          2.5000000000000004,
          2.3000000000000007,
          2.1000000000000005,
          1.9000000000000004,
          1.700000000000001,
          4.4,
          4.2,
          4,
          3.8000000000000003,
          3.6,
          3.4000000000000004,
          3.2,
          3.0000000000000004,
          2.8000000000000003,
          2.6,
          2.4000000000000004,
          2.2000000000000006,
          2.0000000000000004,
          1.8000000000000007,
          1.6000000000000005,
          4.3,
          4.1,
          3.9000000000000004,
          3.7,
          3.5,
          3.3000000000000003,
          3.1000000000000005,
          2.9000000000000004,
          2.7,
          2.5,
          2.3000000000000007,
          2.1000000000000005,
          1.9000000000000004,
          1.7000000000000002,
          1.5000000000000009,
          4.2,
          4,
          3.8000000000000003,
          3.6,
          3.4000000000000004,
          3.2,
          3.0000000000000004,
          2.8000000000000007,
          2.6000000000000005,
          2.4000000000000004,
          2.2000000000000006,
          2.000000000000001,
          1.8000000000000007,
          1.6000000000000005,
          1.4000000000000004,
          4.1,
          3.9000000000000004,
          3.7,
          3.5,
          3.3000000000000003,
          3.1000000000000005,
          2.9000000000000004,
          2.7000000000000006,
          2.5000000000000004,
          2.3000000000000003,
          2.1000000000000005,
          1.9000000000000004,
          1.700000000000001,
          1.5,
          1.3000000000000007,
          4,
          3.8000000000000003,
          3.6,
          3.4000000000000004,
          3.2,
          3.0000000000000004,
          2.8000000000000003,
          2.6000000000000005,
          2.4000000000000004,
          2.2,
          2.0000000000000004,
          1.8000000000000007,
          1.6000000000000005,
          1.4000000000000004,
          1.200000000000001,
          3.9000000000000004,
          3.7,
          3.5,
          3.3000000000000003,
          3.1000000000000005,
          2.9000000000000004,
          2.7,
          2.500000000000001,
          2.3000000000000007,
          2.1000000000000005,
          1.9000000000000004,
          1.700000000000001,
          1.5000000000000009,
          1.3000000000000007,
          1.1000000000000005,
          3.8000000000000003,
          3.6000000000000005,
          3.4000000000000004,
          3.2,
          3.0000000000000004,
          2.8000000000000007,
          2.6000000000000005,
          2.400000000000001,
          2.2000000000000006,
          2.0000000000000004,
          1.8000000000000007,
          1.6000000000000014,
          1.4000000000000004,
          1.200000000000001,
          1.0000000000000009,
          3.7,
          3.5,
          3.3000000000000003,
          3.1000000000000005,
          2.9000000000000004,
          2.7,
          2.5000000000000004,
          2.3000000000000007,
          2.1000000000000005,
          1.9000000000000004,
          1.700000000000001,
          1.5000000000000009,
          1.3000000000000007,
          1.1000000000000005,
          0.9000000000000004,
          3.6,
          3.4000000000000004,
          3.2,
          3,
          2.8000000000000003,
          2.6000000000000005,
          2.4000000000000004,
          2.2000000000000006,
          2.0000000000000004,
          1.8000000000000007,
          1.6000000000000005,
          1.4000000000000004,
          1.200000000000001,
          1,
          0.8000000000000007,
          3.5,
          3.3000000000000003,
          3.1000000000000005,
          2.9000000000000004,
          2.7,
          2.5000000000000004,
          2.3000000000000007,
          2.1000000000000005,
          1.9000000000000004,
          1.7000000000000002,
          1.5000000000000009,
          1.3000000000000007,
          1.1000000000000005,
          0.9000000000000004,
          0.7000000000000011,
          3.4000000000000004,
          3.2,
          3.0000000000000004,
          2.8000000000000007,
          2.6000000000000005,
          2.4000000000000004,
          2.2000000000000006,
          2.000000000000001,
          1.8000000000000007,
          1.6000000000000005,
          1.4000000000000004,
          1.200000000000001,
          1.0000000000000009,
          0.8000000000000007,
          0.6000000000000014,
          3.3000000000000003,
          3.1000000000000005,
          2.9000000000000004,
          2.7,
          2.5000000000000004,
          2.3000000000000007,
          2.1000000000000005,
          1.9000000000000004,
          1.700000000000001,
          1.5,
          1.3000000000000007,
          1.1000000000000014,
          0.9000000000000004,
          0.7000000000000011,
          0.5000000000000009,
          3.2,
          3,
          2.8000000000000003,
          2.6000000000000005,
          2.4000000000000004,
          2.2,
          2.0000000000000004,
          1.8000000000000007,
          1.6000000000000005,
          1.4000000000000004,
          1.200000000000001,
          1.0000000000000009,
          0.8000000000000007,
          0.6000000000000005,
          0.40000000000000036,
          3.1000000000000005,
          2.9000000000000004,
          2.7,
          2.5000000000000004,
          2.3000000000000007,
          2.1000000000000005,
          1.9000000000000004,
          1.700000000000001,
          1.5000000000000009,
          1.3000000000000007,
          1.1000000000000005,
          0.9000000000000012,
          0.7000000000000011,
          0.5000000000000009,
          0.3000000000000007
         ]
        },
        {
         "opacity": 0.5,
         "type": "mesh3d",
         "x": [
          0.5,
          0.5,
          0.5,
          0.5,
          0.5,
          0.5,
          0.5,
          0.5,
          0.5,
          0.5,
          0.5,
          0.5,
          0.5,
          0.5,
          0.5,
          0.6,
          0.6,
          0.6,
          0.6,
          0.6,
          0.6,
          0.6,
          0.6,
          0.6,
          0.6,
          0.6,
          0.6,
          0.6,
          0.6,
          0.6,
          0.7,
          0.7,
          0.7,
          0.7,
          0.7,
          0.7,
          0.7,
          0.7,
          0.7,
          0.7,
          0.7,
          0.7,
          0.7,
          0.7,
          0.7,
          0.7999999999999999,
          0.7999999999999999,
          0.7999999999999999,
          0.7999999999999999,
          0.7999999999999999,
          0.7999999999999999,
          0.7999999999999999,
          0.7999999999999999,
          0.7999999999999999,
          0.7999999999999999,
          0.7999999999999999,
          0.7999999999999999,
          0.7999999999999999,
          0.7999999999999999,
          0.7999999999999999,
          0.8999999999999999,
          0.8999999999999999,
          0.8999999999999999,
          0.8999999999999999,
          0.8999999999999999,
          0.8999999999999999,
          0.8999999999999999,
          0.8999999999999999,
          0.8999999999999999,
          0.8999999999999999,
          0.8999999999999999,
          0.8999999999999999,
          0.8999999999999999,
          0.8999999999999999,
          0.8999999999999999,
          0.9999999999999999,
          0.9999999999999999,
          0.9999999999999999,
          0.9999999999999999,
          0.9999999999999999,
          0.9999999999999999,
          0.9999999999999999,
          0.9999999999999999,
          0.9999999999999999,
          0.9999999999999999,
          0.9999999999999999,
          0.9999999999999999,
          0.9999999999999999,
          0.9999999999999999,
          0.9999999999999999,
          1.0999999999999999,
          1.0999999999999999,
          1.0999999999999999,
          1.0999999999999999,
          1.0999999999999999,
          1.0999999999999999,
          1.0999999999999999,
          1.0999999999999999,
          1.0999999999999999,
          1.0999999999999999,
          1.0999999999999999,
          1.0999999999999999,
          1.0999999999999999,
          1.0999999999999999,
          1.0999999999999999,
          1.1999999999999997,
          1.1999999999999997,
          1.1999999999999997,
          1.1999999999999997,
          1.1999999999999997,
          1.1999999999999997,
          1.1999999999999997,
          1.1999999999999997,
          1.1999999999999997,
          1.1999999999999997,
          1.1999999999999997,
          1.1999999999999997,
          1.1999999999999997,
          1.1999999999999997,
          1.1999999999999997,
          1.2999999999999998,
          1.2999999999999998,
          1.2999999999999998,
          1.2999999999999998,
          1.2999999999999998,
          1.2999999999999998,
          1.2999999999999998,
          1.2999999999999998,
          1.2999999999999998,
          1.2999999999999998,
          1.2999999999999998,
          1.2999999999999998,
          1.2999999999999998,
          1.2999999999999998,
          1.2999999999999998,
          1.4,
          1.4,
          1.4,
          1.4,
          1.4,
          1.4,
          1.4,
          1.4,
          1.4,
          1.4,
          1.4,
          1.4,
          1.4,
          1.4,
          1.4,
          1.4999999999999998,
          1.4999999999999998,
          1.4999999999999998,
          1.4999999999999998,
          1.4999999999999998,
          1.4999999999999998,
          1.4999999999999998,
          1.4999999999999998,
          1.4999999999999998,
          1.4999999999999998,
          1.4999999999999998,
          1.4999999999999998,
          1.4999999999999998,
          1.4999999999999998,
          1.4999999999999998,
          1.5999999999999996,
          1.5999999999999996,
          1.5999999999999996,
          1.5999999999999996,
          1.5999999999999996,
          1.5999999999999996,
          1.5999999999999996,
          1.5999999999999996,
          1.5999999999999996,
          1.5999999999999996,
          1.5999999999999996,
          1.5999999999999996,
          1.5999999999999996,
          1.5999999999999996,
          1.5999999999999996,
          1.6999999999999997,
          1.6999999999999997,
          1.6999999999999997,
          1.6999999999999997,
          1.6999999999999997,
          1.6999999999999997,
          1.6999999999999997,
          1.6999999999999997,
          1.6999999999999997,
          1.6999999999999997,
          1.6999999999999997,
          1.6999999999999997,
          1.6999999999999997,
          1.6999999999999997,
          1.6999999999999997,
          1.7999999999999998,
          1.7999999999999998,
          1.7999999999999998,
          1.7999999999999998,
          1.7999999999999998,
          1.7999999999999998,
          1.7999999999999998,
          1.7999999999999998,
          1.7999999999999998,
          1.7999999999999998,
          1.7999999999999998,
          1.7999999999999998,
          1.7999999999999998,
          1.7999999999999998,
          1.7999999999999998,
          1.8999999999999997,
          1.8999999999999997,
          1.8999999999999997,
          1.8999999999999997,
          1.8999999999999997,
          1.8999999999999997,
          1.8999999999999997,
          1.8999999999999997,
          1.8999999999999997,
          1.8999999999999997,
          1.8999999999999997,
          1.8999999999999997,
          1.8999999999999997,
          1.8999999999999997,
          1.8999999999999997
         ],
         "y": [
          0.5,
          0.6,
          0.7,
          0.7999999999999999,
          0.8999999999999999,
          0.9999999999999999,
          1.0999999999999999,
          1.1999999999999997,
          1.2999999999999998,
          1.4,
          1.4999999999999998,
          1.5999999999999996,
          1.6999999999999997,
          1.7999999999999998,
          1.8999999999999997,
          0.5,
          0.6,
          0.7,
          0.7999999999999999,
          0.8999999999999999,
          0.9999999999999999,
          1.0999999999999999,
          1.1999999999999997,
          1.2999999999999998,
          1.4,
          1.4999999999999998,
          1.5999999999999996,
          1.6999999999999997,
          1.7999999999999998,
          1.8999999999999997,
          0.5,
          0.6,
          0.7,
          0.7999999999999999,
          0.8999999999999999,
          0.9999999999999999,
          1.0999999999999999,
          1.1999999999999997,
          1.2999999999999998,
          1.4,
          1.4999999999999998,
          1.5999999999999996,
          1.6999999999999997,
          1.7999999999999998,
          1.8999999999999997,
          0.5,
          0.6,
          0.7,
          0.7999999999999999,
          0.8999999999999999,
          0.9999999999999999,
          1.0999999999999999,
          1.1999999999999997,
          1.2999999999999998,
          1.4,
          1.4999999999999998,
          1.5999999999999996,
          1.6999999999999997,
          1.7999999999999998,
          1.8999999999999997,
          0.5,
          0.6,
          0.7,
          0.7999999999999999,
          0.8999999999999999,
          0.9999999999999999,
          1.0999999999999999,
          1.1999999999999997,
          1.2999999999999998,
          1.4,
          1.4999999999999998,
          1.5999999999999996,
          1.6999999999999997,
          1.7999999999999998,
          1.8999999999999997,
          0.5,
          0.6,
          0.7,
          0.7999999999999999,
          0.8999999999999999,
          0.9999999999999999,
          1.0999999999999999,
          1.1999999999999997,
          1.2999999999999998,
          1.4,
          1.4999999999999998,
          1.5999999999999996,
          1.6999999999999997,
          1.7999999999999998,
          1.8999999999999997,
          0.5,
          0.6,
          0.7,
          0.7999999999999999,
          0.8999999999999999,
          0.9999999999999999,
          1.0999999999999999,
          1.1999999999999997,
          1.2999999999999998,
          1.4,
          1.4999999999999998,
          1.5999999999999996,
          1.6999999999999997,
          1.7999999999999998,
          1.8999999999999997,
          0.5,
          0.6,
          0.7,
          0.7999999999999999,
          0.8999999999999999,
          0.9999999999999999,
          1.0999999999999999,
          1.1999999999999997,
          1.2999999999999998,
          1.4,
          1.4999999999999998,
          1.5999999999999996,
          1.6999999999999997,
          1.7999999999999998,
          1.8999999999999997,
          0.5,
          0.6,
          0.7,
          0.7999999999999999,
          0.8999999999999999,
          0.9999999999999999,
          1.0999999999999999,
          1.1999999999999997,
          1.2999999999999998,
          1.4,
          1.4999999999999998,
          1.5999999999999996,
          1.6999999999999997,
          1.7999999999999998,
          1.8999999999999997,
          0.5,
          0.6,
          0.7,
          0.7999999999999999,
          0.8999999999999999,
          0.9999999999999999,
          1.0999999999999999,
          1.1999999999999997,
          1.2999999999999998,
          1.4,
          1.4999999999999998,
          1.5999999999999996,
          1.6999999999999997,
          1.7999999999999998,
          1.8999999999999997,
          0.5,
          0.6,
          0.7,
          0.7999999999999999,
          0.8999999999999999,
          0.9999999999999999,
          1.0999999999999999,
          1.1999999999999997,
          1.2999999999999998,
          1.4,
          1.4999999999999998,
          1.5999999999999996,
          1.6999999999999997,
          1.7999999999999998,
          1.8999999999999997,
          0.5,
          0.6,
          0.7,
          0.7999999999999999,
          0.8999999999999999,
          0.9999999999999999,
          1.0999999999999999,
          1.1999999999999997,
          1.2999999999999998,
          1.4,
          1.4999999999999998,
          1.5999999999999996,
          1.6999999999999997,
          1.7999999999999998,
          1.8999999999999997,
          0.5,
          0.6,
          0.7,
          0.7999999999999999,
          0.8999999999999999,
          0.9999999999999999,
          1.0999999999999999,
          1.1999999999999997,
          1.2999999999999998,
          1.4,
          1.4999999999999998,
          1.5999999999999996,
          1.6999999999999997,
          1.7999999999999998,
          1.8999999999999997,
          0.5,
          0.6,
          0.7,
          0.7999999999999999,
          0.8999999999999999,
          0.9999999999999999,
          1.0999999999999999,
          1.1999999999999997,
          1.2999999999999998,
          1.4,
          1.4999999999999998,
          1.5999999999999996,
          1.6999999999999997,
          1.7999999999999998,
          1.8999999999999997,
          0.5,
          0.6,
          0.7,
          0.7999999999999999,
          0.8999999999999999,
          0.9999999999999999,
          1.0999999999999999,
          1.1999999999999997,
          1.2999999999999998,
          1.4,
          1.4999999999999998,
          1.5999999999999996,
          1.6999999999999997,
          1.7999999999999998,
          1.8999999999999997
         ],
         "z": [
          2.5,
          2.7,
          2.9,
          3.0999999999999996,
          3.3,
          3.5,
          3.6999999999999997,
          3.8999999999999995,
          4.1,
          4.3,
          4.5,
          4.699999999999999,
          4.8999999999999995,
          5.1,
          5.299999999999999,
          2.4,
          2.6,
          2.8,
          3,
          3.1999999999999997,
          3.4,
          3.5999999999999996,
          3.7999999999999994,
          3.9999999999999996,
          4.199999999999999,
          4.3999999999999995,
          4.6,
          4.799999999999999,
          5,
          5.199999999999999,
          2.3,
          2.5,
          2.7,
          2.9,
          3.0999999999999996,
          3.3,
          3.5,
          3.6999999999999993,
          3.8999999999999995,
          4.1,
          4.3,
          4.499999999999999,
          4.699999999999999,
          4.8999999999999995,
          5.1,
          2.2,
          2.4,
          2.6,
          2.8,
          3,
          3.1999999999999997,
          3.4,
          3.5999999999999996,
          3.8,
          4,
          4.199999999999999,
          4.3999999999999995,
          4.6,
          4.8,
          5,
          2.1,
          2.3,
          2.5,
          2.7,
          2.9,
          3.0999999999999996,
          3.3,
          3.4999999999999996,
          3.6999999999999997,
          3.9,
          4.1,
          4.299999999999999,
          4.5,
          4.699999999999999,
          4.8999999999999995,
          2,
          2.2,
          2.4,
          2.6,
          2.8,
          3,
          3.1999999999999997,
          3.3999999999999995,
          3.5999999999999996,
          3.8,
          3.9999999999999996,
          4.199999999999999,
          4.3999999999999995,
          4.6,
          4.799999999999999,
          1.9000000000000001,
          2.1,
          2.3,
          2.5,
          2.7,
          2.9,
          3.0999999999999996,
          3.3,
          3.5,
          3.7,
          3.8999999999999995,
          4.1,
          4.3,
          4.5,
          4.699999999999999,
          1.8000000000000003,
          2,
          2.2,
          2.4000000000000004,
          2.6,
          2.8,
          3,
          3.1999999999999997,
          3.4,
          3.6,
          3.8,
          3.9999999999999996,
          4.199999999999999,
          4.4,
          4.6,
          1.7000000000000002,
          1.9000000000000001,
          2.1,
          2.3,
          2.5,
          2.7,
          2.9,
          3.0999999999999996,
          3.3,
          3.5,
          3.6999999999999997,
          3.8999999999999995,
          4.1,
          4.3,
          4.5,
          1.6,
          1.8,
          2,
          2.2,
          2.4,
          2.5999999999999996,
          2.8,
          2.9999999999999996,
          3.1999999999999997,
          3.4,
          3.5999999999999996,
          3.7999999999999994,
          3.9999999999999996,
          4.199999999999999,
          4.3999999999999995,
          1.5000000000000002,
          1.7000000000000002,
          1.9000000000000001,
          2.1,
          2.3,
          2.5,
          2.7,
          2.8999999999999995,
          3.0999999999999996,
          3.3,
          3.5,
          3.6999999999999993,
          3.8999999999999995,
          4.1,
          4.3,
          1.4000000000000004,
          1.6000000000000003,
          1.8000000000000003,
          2,
          2.2,
          2.4000000000000004,
          2.6,
          2.8,
          3,
          3.2,
          3.4,
          3.5999999999999996,
          3.8,
          4,
          4.199999999999999,
          1.3000000000000003,
          1.5000000000000002,
          1.7000000000000002,
          1.9000000000000001,
          2.1,
          2.3,
          2.5,
          2.6999999999999997,
          2.9,
          3.1,
          3.3,
          3.4999999999999996,
          3.6999999999999997,
          3.9,
          4.1,
          1.2000000000000002,
          1.4000000000000001,
          1.6,
          1.8,
          2,
          2.2,
          2.4,
          2.5999999999999996,
          2.8,
          3,
          3.1999999999999997,
          3.3999999999999995,
          3.5999999999999996,
          3.8,
          3.9999999999999996,
          1.1000000000000003,
          1.3000000000000003,
          1.5000000000000002,
          1.7000000000000002,
          1.9000000000000001,
          2.1,
          2.3,
          2.5,
          2.7,
          2.9000000000000004,
          3.0999999999999996,
          3.3,
          3.5,
          3.7,
          3.8999999999999995
         ]
        },
        {
         "mode": "markers",
         "type": "scatter3d",
         "x": [
          1.400000000000001
         ],
         "y": [
          1.6999999999999997
         ],
         "z": [
          0.8000000000000013
         ]
        }
       ],
       "layout": {
        "template": {
         "data": {
          "bar": [
           {
            "error_x": {
             "color": "#2a3f5f"
            },
            "error_y": {
             "color": "#2a3f5f"
            },
            "marker": {
             "line": {
              "color": "#E5ECF6",
              "width": 0.5
             },
             "pattern": {
              "fillmode": "overlay",
              "size": 10,
              "solidity": 0.2
             }
            },
            "type": "bar"
           }
          ],
          "barpolar": [
           {
            "marker": {
             "line": {
              "color": "#E5ECF6",
              "width": 0.5
             },
             "pattern": {
              "fillmode": "overlay",
              "size": 10,
              "solidity": 0.2
             }
            },
            "type": "barpolar"
           }
          ],
          "carpet": [
           {
            "aaxis": {
             "endlinecolor": "#2a3f5f",
             "gridcolor": "white",
             "linecolor": "white",
             "minorgridcolor": "white",
             "startlinecolor": "#2a3f5f"
            },
            "baxis": {
             "endlinecolor": "#2a3f5f",
             "gridcolor": "white",
             "linecolor": "white",
             "minorgridcolor": "white",
             "startlinecolor": "#2a3f5f"
            },
            "type": "carpet"
           }
          ],
          "choropleth": [
           {
            "colorbar": {
             "outlinewidth": 0,
             "ticks": ""
            },
            "type": "choropleth"
           }
          ],
          "contour": [
           {
            "colorbar": {
             "outlinewidth": 0,
             "ticks": ""
            },
            "colorscale": [
             [
              0,
              "#0d0887"
             ],
             [
              0.1111111111111111,
              "#46039f"
             ],
             [
              0.2222222222222222,
              "#7201a8"
             ],
             [
              0.3333333333333333,
              "#9c179e"
             ],
             [
              0.4444444444444444,
              "#bd3786"
             ],
             [
              0.5555555555555556,
              "#d8576b"
             ],
             [
              0.6666666666666666,
              "#ed7953"
             ],
             [
              0.7777777777777778,
              "#fb9f3a"
             ],
             [
              0.8888888888888888,
              "#fdca26"
             ],
             [
              1,
              "#f0f921"
             ]
            ],
            "type": "contour"
           }
          ],
          "contourcarpet": [
           {
            "colorbar": {
             "outlinewidth": 0,
             "ticks": ""
            },
            "type": "contourcarpet"
           }
          ],
          "heatmap": [
           {
            "colorbar": {
             "outlinewidth": 0,
             "ticks": ""
            },
            "colorscale": [
             [
              0,
              "#0d0887"
             ],
             [
              0.1111111111111111,
              "#46039f"
             ],
             [
              0.2222222222222222,
              "#7201a8"
             ],
             [
              0.3333333333333333,
              "#9c179e"
             ],
             [
              0.4444444444444444,
              "#bd3786"
             ],
             [
              0.5555555555555556,
              "#d8576b"
             ],
             [
              0.6666666666666666,
              "#ed7953"
             ],
             [
              0.7777777777777778,
              "#fb9f3a"
             ],
             [
              0.8888888888888888,
              "#fdca26"
             ],
             [
              1,
              "#f0f921"
             ]
            ],
            "type": "heatmap"
           }
          ],
          "heatmapgl": [
           {
            "colorbar": {
             "outlinewidth": 0,
             "ticks": ""
            },
            "colorscale": [
             [
              0,
              "#0d0887"
             ],
             [
              0.1111111111111111,
              "#46039f"
             ],
             [
              0.2222222222222222,
              "#7201a8"
             ],
             [
              0.3333333333333333,
              "#9c179e"
             ],
             [
              0.4444444444444444,
              "#bd3786"
             ],
             [
              0.5555555555555556,
              "#d8576b"
             ],
             [
              0.6666666666666666,
              "#ed7953"
             ],
             [
              0.7777777777777778,
              "#fb9f3a"
             ],
             [
              0.8888888888888888,
              "#fdca26"
             ],
             [
              1,
              "#f0f921"
             ]
            ],
            "type": "heatmapgl"
           }
          ],
          "histogram": [
           {
            "marker": {
             "pattern": {
              "fillmode": "overlay",
              "size": 10,
              "solidity": 0.2
             }
            },
            "type": "histogram"
           }
          ],
          "histogram2d": [
           {
            "colorbar": {
             "outlinewidth": 0,
             "ticks": ""
            },
            "colorscale": [
             [
              0,
              "#0d0887"
             ],
             [
              0.1111111111111111,
              "#46039f"
             ],
             [
              0.2222222222222222,
              "#7201a8"
             ],
             [
              0.3333333333333333,
              "#9c179e"
             ],
             [
              0.4444444444444444,
              "#bd3786"
             ],
             [
              0.5555555555555556,
              "#d8576b"
             ],
             [
              0.6666666666666666,
              "#ed7953"
             ],
             [
              0.7777777777777778,
              "#fb9f3a"
             ],
             [
              0.8888888888888888,
              "#fdca26"
             ],
             [
              1,
              "#f0f921"
             ]
            ],
            "type": "histogram2d"
           }
          ],
          "histogram2dcontour": [
           {
            "colorbar": {
             "outlinewidth": 0,
             "ticks": ""
            },
            "colorscale": [
             [
              0,
              "#0d0887"
             ],
             [
              0.1111111111111111,
              "#46039f"
             ],
             [
              0.2222222222222222,
              "#7201a8"
             ],
             [
              0.3333333333333333,
              "#9c179e"
             ],
             [
              0.4444444444444444,
              "#bd3786"
             ],
             [
              0.5555555555555556,
              "#d8576b"
             ],
             [
              0.6666666666666666,
              "#ed7953"
             ],
             [
              0.7777777777777778,
              "#fb9f3a"
             ],
             [
              0.8888888888888888,
              "#fdca26"
             ],
             [
              1,
              "#f0f921"
             ]
            ],
            "type": "histogram2dcontour"
           }
          ],
          "mesh3d": [
           {
            "colorbar": {
             "outlinewidth": 0,
             "ticks": ""
            },
            "type": "mesh3d"
           }
          ],
          "parcoords": [
           {
            "line": {
             "colorbar": {
              "outlinewidth": 0,
              "ticks": ""
             }
            },
            "type": "parcoords"
           }
          ],
          "pie": [
           {
            "automargin": true,
            "type": "pie"
           }
          ],
          "scatter": [
           {
            "fillpattern": {
             "fillmode": "overlay",
             "size": 10,
             "solidity": 0.2
            },
            "type": "scatter"
           }
          ],
          "scatter3d": [
           {
            "line": {
             "colorbar": {
              "outlinewidth": 0,
              "ticks": ""
             }
            },
            "marker": {
             "colorbar": {
              "outlinewidth": 0,
              "ticks": ""
             }
            },
            "type": "scatter3d"
           }
          ],
          "scattercarpet": [
           {
            "marker": {
             "colorbar": {
              "outlinewidth": 0,
              "ticks": ""
             }
            },
            "type": "scattercarpet"
           }
          ],
          "scattergeo": [
           {
            "marker": {
             "colorbar": {
              "outlinewidth": 0,
              "ticks": ""
             }
            },
            "type": "scattergeo"
           }
          ],
          "scattergl": [
           {
            "marker": {
             "colorbar": {
              "outlinewidth": 0,
              "ticks": ""
             }
            },
            "type": "scattergl"
           }
          ],
          "scattermapbox": [
           {
            "marker": {
             "colorbar": {
              "outlinewidth": 0,
              "ticks": ""
             }
            },
            "type": "scattermapbox"
           }
          ],
          "scatterpolar": [
           {
            "marker": {
             "colorbar": {
              "outlinewidth": 0,
              "ticks": ""
             }
            },
            "type": "scatterpolar"
           }
          ],
          "scatterpolargl": [
           {
            "marker": {
             "colorbar": {
              "outlinewidth": 0,
              "ticks": ""
             }
            },
            "type": "scatterpolargl"
           }
          ],
          "scatterternary": [
           {
            "marker": {
             "colorbar": {
              "outlinewidth": 0,
              "ticks": ""
             }
            },
            "type": "scatterternary"
           }
          ],
          "surface": [
           {
            "colorbar": {
             "outlinewidth": 0,
             "ticks": ""
            },
            "colorscale": [
             [
              0,
              "#0d0887"
             ],
             [
              0.1111111111111111,
              "#46039f"
             ],
             [
              0.2222222222222222,
              "#7201a8"
             ],
             [
              0.3333333333333333,
              "#9c179e"
             ],
             [
              0.4444444444444444,
              "#bd3786"
             ],
             [
              0.5555555555555556,
              "#d8576b"
             ],
             [
              0.6666666666666666,
              "#ed7953"
             ],
             [
              0.7777777777777778,
              "#fb9f3a"
             ],
             [
              0.8888888888888888,
              "#fdca26"
             ],
             [
              1,
              "#f0f921"
             ]
            ],
            "type": "surface"
           }
          ],
          "table": [
           {
            "cells": {
             "fill": {
              "color": "#EBF0F8"
             },
             "line": {
              "color": "white"
             }
            },
            "header": {
             "fill": {
              "color": "#C8D4E3"
             },
             "line": {
              "color": "white"
             }
            },
            "type": "table"
           }
          ]
         },
         "layout": {
          "annotationdefaults": {
           "arrowcolor": "#2a3f5f",
           "arrowhead": 0,
           "arrowwidth": 1
          },
          "autotypenumbers": "strict",
          "coloraxis": {
           "colorbar": {
            "outlinewidth": 0,
            "ticks": ""
           }
          },
          "colorscale": {
           "diverging": [
            [
             0,
             "#8e0152"
            ],
            [
             0.1,
             "#c51b7d"
            ],
            [
             0.2,
             "#de77ae"
            ],
            [
             0.3,
             "#f1b6da"
            ],
            [
             0.4,
             "#fde0ef"
            ],
            [
             0.5,
             "#f7f7f7"
            ],
            [
             0.6,
             "#e6f5d0"
            ],
            [
             0.7,
             "#b8e186"
            ],
            [
             0.8,
             "#7fbc41"
            ],
            [
             0.9,
             "#4d9221"
            ],
            [
             1,
             "#276419"
            ]
           ],
           "sequential": [
            [
             0,
             "#0d0887"
            ],
            [
             0.1111111111111111,
             "#46039f"
            ],
            [
             0.2222222222222222,
             "#7201a8"
            ],
            [
             0.3333333333333333,
             "#9c179e"
            ],
            [
             0.4444444444444444,
             "#bd3786"
            ],
            [
             0.5555555555555556,
             "#d8576b"
            ],
            [
             0.6666666666666666,
             "#ed7953"
            ],
            [
             0.7777777777777778,
             "#fb9f3a"
            ],
            [
             0.8888888888888888,
             "#fdca26"
            ],
            [
             1,
             "#f0f921"
            ]
           ],
           "sequentialminus": [
            [
             0,
             "#0d0887"
            ],
            [
             0.1111111111111111,
             "#46039f"
            ],
            [
             0.2222222222222222,
             "#7201a8"
            ],
            [
             0.3333333333333333,
             "#9c179e"
            ],
            [
             0.4444444444444444,
             "#bd3786"
            ],
            [
             0.5555555555555556,
             "#d8576b"
            ],
            [
             0.6666666666666666,
             "#ed7953"
            ],
            [
             0.7777777777777778,
             "#fb9f3a"
            ],
            [
             0.8888888888888888,
             "#fdca26"
            ],
            [
             1,
             "#f0f921"
            ]
           ]
          },
          "colorway": [
           "#636efa",
           "#EF553B",
           "#00cc96",
           "#ab63fa",
           "#FFA15A",
           "#19d3f3",
           "#FF6692",
           "#B6E880",
           "#FF97FF",
           "#FECB52"
          ],
          "font": {
           "color": "#2a3f5f"
          },
          "geo": {
           "bgcolor": "white",
           "lakecolor": "white",
           "landcolor": "#E5ECF6",
           "showlakes": true,
           "showland": true,
           "subunitcolor": "white"
          },
          "hoverlabel": {
           "align": "left"
          },
          "hovermode": "closest",
          "mapbox": {
           "style": "light"
          },
          "paper_bgcolor": "white",
          "plot_bgcolor": "#E5ECF6",
          "polar": {
           "angularaxis": {
            "gridcolor": "white",
            "linecolor": "white",
            "ticks": ""
           },
           "bgcolor": "#E5ECF6",
           "radialaxis": {
            "gridcolor": "white",
            "linecolor": "white",
            "ticks": ""
           }
          },
          "scene": {
           "xaxis": {
            "backgroundcolor": "#E5ECF6",
            "gridcolor": "white",
            "gridwidth": 2,
            "linecolor": "white",
            "showbackground": true,
            "ticks": "",
            "zerolinecolor": "white"
           },
           "yaxis": {
            "backgroundcolor": "#E5ECF6",
            "gridcolor": "white",
            "gridwidth": 2,
            "linecolor": "white",
            "showbackground": true,
            "ticks": "",
            "zerolinecolor": "white"
           },
           "zaxis": {
            "backgroundcolor": "#E5ECF6",
            "gridcolor": "white",
            "gridwidth": 2,
            "linecolor": "white",
            "showbackground": true,
            "ticks": "",
            "zerolinecolor": "white"
           }
          },
          "shapedefaults": {
           "line": {
            "color": "#2a3f5f"
           }
          },
          "ternary": {
           "aaxis": {
            "gridcolor": "white",
            "linecolor": "white",
            "ticks": ""
           },
           "baxis": {
            "gridcolor": "white",
            "linecolor": "white",
            "ticks": ""
           },
           "bgcolor": "#E5ECF6",
           "caxis": {
            "gridcolor": "white",
            "linecolor": "white",
            "ticks": ""
           }
          },
          "title": {
           "x": 0.05
          },
          "xaxis": {
           "automargin": true,
           "gridcolor": "white",
           "linecolor": "white",
           "ticks": "",
           "title": {
            "standoff": 15
           },
           "zerolinecolor": "white",
           "zerolinewidth": 2
          },
          "yaxis": {
           "automargin": true,
           "gridcolor": "white",
           "linecolor": "white",
           "ticks": "",
           "title": {
            "standoff": 15
           },
           "zerolinecolor": "white",
           "zerolinewidth": 2
          }
         }
        }
       }
      },
      "text/html": [
       "<div>                            <div id=\"cd5c602e-c748-4fc7-a992-5b877dfda676\" class=\"plotly-graph-div\" style=\"height:525px; width:100%;\"></div>            <script type=\"text/javascript\">                require([\"plotly\"], function(Plotly) {                    window.PLOTLYENV=window.PLOTLYENV || {};                                    if (document.getElementById(\"cd5c602e-c748-4fc7-a992-5b877dfda676\")) {                    Plotly.newPlot(                        \"cd5c602e-c748-4fc7-a992-5b877dfda676\",                        [{\"opacity\":0.7,\"x\":[0.5,0.5,0.5,0.5,0.5,0.5,0.5,0.5,0.5,0.5,0.5,0.5,0.5,0.5,0.5,0.6,0.6,0.6,0.6,0.6,0.6,0.6,0.6,0.6,0.6,0.6,0.6,0.6,0.6,0.6,0.7,0.7,0.7,0.7,0.7,0.7,0.7,0.7,0.7,0.7,0.7,0.7,0.7,0.7,0.7,0.7999999999999999,0.7999999999999999,0.7999999999999999,0.7999999999999999,0.7999999999999999,0.7999999999999999,0.7999999999999999,0.7999999999999999,0.7999999999999999,0.7999999999999999,0.7999999999999999,0.7999999999999999,0.7999999999999999,0.7999999999999999,0.7999999999999999,0.8999999999999999,0.8999999999999999,0.8999999999999999,0.8999999999999999,0.8999999999999999,0.8999999999999999,0.8999999999999999,0.8999999999999999,0.8999999999999999,0.8999999999999999,0.8999999999999999,0.8999999999999999,0.8999999999999999,0.8999999999999999,0.8999999999999999,0.9999999999999999,0.9999999999999999,0.9999999999999999,0.9999999999999999,0.9999999999999999,0.9999999999999999,0.9999999999999999,0.9999999999999999,0.9999999999999999,0.9999999999999999,0.9999999999999999,0.9999999999999999,0.9999999999999999,0.9999999999999999,0.9999999999999999,1.0999999999999999,1.0999999999999999,1.0999999999999999,1.0999999999999999,1.0999999999999999,1.0999999999999999,1.0999999999999999,1.0999999999999999,1.0999999999999999,1.0999999999999999,1.0999999999999999,1.0999999999999999,1.0999999999999999,1.0999999999999999,1.0999999999999999,1.1999999999999997,1.1999999999999997,1.1999999999999997,1.1999999999999997,1.1999999999999997,1.1999999999999997,1.1999999999999997,1.1999999999999997,1.1999999999999997,1.1999999999999997,1.1999999999999997,1.1999999999999997,1.1999999999999997,1.1999999999999997,1.1999999999999997,1.2999999999999998,1.2999999999999998,1.2999999999999998,1.2999999999999998,1.2999999999999998,1.2999999999999998,1.2999999999999998,1.2999999999999998,1.2999999999999998,1.2999999999999998,1.2999999999999998,1.2999999999999998,1.2999999999999998,1.2999999999999998,1.2999999999999998,1.4,1.4,1.4,1.4,1.4,1.4,1.4,1.4,1.4,1.4,1.4,1.4,1.4,1.4,1.4,1.4999999999999998,1.4999999999999998,1.4999999999999998,1.4999999999999998,1.4999999999999998,1.4999999999999998,1.4999999999999998,1.4999999999999998,1.4999999999999998,1.4999999999999998,1.4999999999999998,1.4999999999999998,1.4999999999999998,1.4999999999999998,1.4999999999999998,1.5999999999999996,1.5999999999999996,1.5999999999999996,1.5999999999999996,1.5999999999999996,1.5999999999999996,1.5999999999999996,1.5999999999999996,1.5999999999999996,1.5999999999999996,1.5999999999999996,1.5999999999999996,1.5999999999999996,1.5999999999999996,1.5999999999999996,1.6999999999999997,1.6999999999999997,1.6999999999999997,1.6999999999999997,1.6999999999999997,1.6999999999999997,1.6999999999999997,1.6999999999999997,1.6999999999999997,1.6999999999999997,1.6999999999999997,1.6999999999999997,1.6999999999999997,1.6999999999999997,1.6999999999999997,1.7999999999999998,1.7999999999999998,1.7999999999999998,1.7999999999999998,1.7999999999999998,1.7999999999999998,1.7999999999999998,1.7999999999999998,1.7999999999999998,1.7999999999999998,1.7999999999999998,1.7999999999999998,1.7999999999999998,1.7999999999999998,1.7999999999999998,1.8999999999999997,1.8999999999999997,1.8999999999999997,1.8999999999999997,1.8999999999999997,1.8999999999999997,1.8999999999999997,1.8999999999999997,1.8999999999999997,1.8999999999999997,1.8999999999999997,1.8999999999999997,1.8999999999999997,1.8999999999999997,1.8999999999999997],\"y\":[0.5,0.6,0.7,0.7999999999999999,0.8999999999999999,0.9999999999999999,1.0999999999999999,1.1999999999999997,1.2999999999999998,1.4,1.4999999999999998,1.5999999999999996,1.6999999999999997,1.7999999999999998,1.8999999999999997,0.5,0.6,0.7,0.7999999999999999,0.8999999999999999,0.9999999999999999,1.0999999999999999,1.1999999999999997,1.2999999999999998,1.4,1.4999999999999998,1.5999999999999996,1.6999999999999997,1.7999999999999998,1.8999999999999997,0.5,0.6,0.7,0.7999999999999999,0.8999999999999999,0.9999999999999999,1.0999999999999999,1.1999999999999997,1.2999999999999998,1.4,1.4999999999999998,1.5999999999999996,1.6999999999999997,1.7999999999999998,1.8999999999999997,0.5,0.6,0.7,0.7999999999999999,0.8999999999999999,0.9999999999999999,1.0999999999999999,1.1999999999999997,1.2999999999999998,1.4,1.4999999999999998,1.5999999999999996,1.6999999999999997,1.7999999999999998,1.8999999999999997,0.5,0.6,0.7,0.7999999999999999,0.8999999999999999,0.9999999999999999,1.0999999999999999,1.1999999999999997,1.2999999999999998,1.4,1.4999999999999998,1.5999999999999996,1.6999999999999997,1.7999999999999998,1.8999999999999997,0.5,0.6,0.7,0.7999999999999999,0.8999999999999999,0.9999999999999999,1.0999999999999999,1.1999999999999997,1.2999999999999998,1.4,1.4999999999999998,1.5999999999999996,1.6999999999999997,1.7999999999999998,1.8999999999999997,0.5,0.6,0.7,0.7999999999999999,0.8999999999999999,0.9999999999999999,1.0999999999999999,1.1999999999999997,1.2999999999999998,1.4,1.4999999999999998,1.5999999999999996,1.6999999999999997,1.7999999999999998,1.8999999999999997,0.5,0.6,0.7,0.7999999999999999,0.8999999999999999,0.9999999999999999,1.0999999999999999,1.1999999999999997,1.2999999999999998,1.4,1.4999999999999998,1.5999999999999996,1.6999999999999997,1.7999999999999998,1.8999999999999997,0.5,0.6,0.7,0.7999999999999999,0.8999999999999999,0.9999999999999999,1.0999999999999999,1.1999999999999997,1.2999999999999998,1.4,1.4999999999999998,1.5999999999999996,1.6999999999999997,1.7999999999999998,1.8999999999999997,0.5,0.6,0.7,0.7999999999999999,0.8999999999999999,0.9999999999999999,1.0999999999999999,1.1999999999999997,1.2999999999999998,1.4,1.4999999999999998,1.5999999999999996,1.6999999999999997,1.7999999999999998,1.8999999999999997,0.5,0.6,0.7,0.7999999999999999,0.8999999999999999,0.9999999999999999,1.0999999999999999,1.1999999999999997,1.2999999999999998,1.4,1.4999999999999998,1.5999999999999996,1.6999999999999997,1.7999999999999998,1.8999999999999997,0.5,0.6,0.7,0.7999999999999999,0.8999999999999999,0.9999999999999999,1.0999999999999999,1.1999999999999997,1.2999999999999998,1.4,1.4999999999999998,1.5999999999999996,1.6999999999999997,1.7999999999999998,1.8999999999999997,0.5,0.6,0.7,0.7999999999999999,0.8999999999999999,0.9999999999999999,1.0999999999999999,1.1999999999999997,1.2999999999999998,1.4,1.4999999999999998,1.5999999999999996,1.6999999999999997,1.7999999999999998,1.8999999999999997,0.5,0.6,0.7,0.7999999999999999,0.8999999999999999,0.9999999999999999,1.0999999999999999,1.1999999999999997,1.2999999999999998,1.4,1.4999999999999998,1.5999999999999996,1.6999999999999997,1.7999999999999998,1.8999999999999997,0.5,0.6,0.7,0.7999999999999999,0.8999999999999999,0.9999999999999999,1.0999999999999999,1.1999999999999997,1.2999999999999998,1.4,1.4999999999999998,1.5999999999999996,1.6999999999999997,1.7999999999999998,1.8999999999999997],\"z\":[4.25,3.86,3.49,3.1400000000000006,2.8100000000000005,2.5,2.2100000000000004,1.9400000000000006,1.6900000000000004,1.4600000000000002,1.2500000000000004,1.0600000000000005,0.8900000000000005,0.7400000000000002,0.6100000000000003,4.16,3.77,3.4000000000000004,3.0500000000000007,2.7200000000000006,2.41,2.1200000000000006,1.8500000000000005,1.6000000000000005,1.37,1.1600000000000006,0.9700000000000006,0.8000000000000005,0.6500000000000004,0.5200000000000005,4.09,3.6999999999999997,3.33,2.9800000000000004,2.6500000000000004,2.34,2.0500000000000003,1.7800000000000007,1.5300000000000005,1.3000000000000003,1.0900000000000005,0.9000000000000006,0.7300000000000004,0.5800000000000003,0.4500000000000004,4.04,3.65,3.2800000000000002,2.9300000000000006,2.6000000000000005,2.29,2.0000000000000004,1.7300000000000006,1.4800000000000004,1.2500000000000002,1.0400000000000005,0.8500000000000006,0.6800000000000005,0.5300000000000002,0.4000000000000004,4.01,3.62,3.2500000000000004,2.900000000000001,2.5700000000000007,2.2600000000000002,1.9700000000000004,1.7000000000000006,1.4500000000000004,1.2200000000000002,1.0100000000000005,0.8200000000000006,0.6500000000000005,0.5000000000000003,0.3700000000000004,4.0,3.61,3.24,2.8900000000000006,2.5600000000000005,2.25,1.9600000000000004,1.6900000000000006,1.4400000000000004,1.2100000000000002,1.0000000000000004,0.8100000000000006,0.6400000000000005,0.49000000000000027,0.3600000000000004,4.01,3.6199999999999997,3.25,2.9000000000000004,2.5700000000000003,2.26,1.9700000000000004,1.7000000000000006,1.4500000000000004,1.2200000000000002,1.0100000000000005,0.8200000000000006,0.6500000000000005,0.5000000000000002,0.37000000000000033,4.04,3.65,3.2800000000000002,2.9300000000000006,2.6000000000000005,2.29,2.0000000000000004,1.7300000000000004,1.4800000000000002,1.25,1.0400000000000003,0.8500000000000005,0.6800000000000004,0.5300000000000001,0.40000000000000024,4.09,3.6999999999999997,3.33,2.9800000000000004,2.6500000000000004,2.34,2.0500000000000003,1.7800000000000005,1.5300000000000002,1.3,1.0900000000000003,0.9000000000000005,0.7300000000000003,0.5800000000000002,0.4500000000000003,4.16,3.7699999999999996,3.4000000000000004,3.0500000000000007,2.7200000000000006,2.41,2.12,1.8500000000000005,1.6000000000000003,1.37,1.1600000000000004,0.9700000000000005,0.8000000000000004,0.6500000000000001,0.5200000000000002,4.25,3.8599999999999994,3.49,3.1400000000000006,2.8100000000000005,2.5,2.21,1.9400000000000004,1.6900000000000002,1.46,1.2500000000000002,1.0600000000000005,0.8900000000000002,0.74,0.6100000000000001,4.359999999999999,3.9699999999999993,3.5999999999999996,3.25,2.92,2.6099999999999994,2.32,2.0500000000000003,1.8,1.5699999999999998,1.36,1.1700000000000002,1.0,0.8499999999999999,0.72,4.489999999999999,4.1,3.73,3.3800000000000003,3.0500000000000003,2.7399999999999998,2.45,2.18,1.93,1.6999999999999997,1.49,1.3000000000000003,1.1300000000000001,0.9799999999999999,0.85,4.64,4.25,3.88,3.5300000000000002,3.2,2.8899999999999997,2.6,2.33,2.08,1.8499999999999999,1.6400000000000001,1.4500000000000002,1.2800000000000002,1.13,1.0,4.81,4.419999999999999,4.05,3.7,3.37,3.0599999999999996,2.7699999999999996,2.5,2.25,2.0199999999999996,1.8099999999999998,1.62,1.4499999999999997,1.2999999999999996,1.1699999999999997],\"type\":\"mesh3d\"},{\"opacity\":0.5,\"x\":[0.5,0.5,0.5,0.5,0.5,0.5,0.5,0.5,0.5,0.5,0.5,0.5,0.5,0.5,0.5,0.6,0.6,0.6,0.6,0.6,0.6,0.6,0.6,0.6,0.6,0.6,0.6,0.6,0.6,0.6,0.7,0.7,0.7,0.7,0.7,0.7,0.7,0.7,0.7,0.7,0.7,0.7,0.7,0.7,0.7,0.7999999999999999,0.7999999999999999,0.7999999999999999,0.7999999999999999,0.7999999999999999,0.7999999999999999,0.7999999999999999,0.7999999999999999,0.7999999999999999,0.7999999999999999,0.7999999999999999,0.7999999999999999,0.7999999999999999,0.7999999999999999,0.7999999999999999,0.8999999999999999,0.8999999999999999,0.8999999999999999,0.8999999999999999,0.8999999999999999,0.8999999999999999,0.8999999999999999,0.8999999999999999,0.8999999999999999,0.8999999999999999,0.8999999999999999,0.8999999999999999,0.8999999999999999,0.8999999999999999,0.8999999999999999,0.9999999999999999,0.9999999999999999,0.9999999999999999,0.9999999999999999,0.9999999999999999,0.9999999999999999,0.9999999999999999,0.9999999999999999,0.9999999999999999,0.9999999999999999,0.9999999999999999,0.9999999999999999,0.9999999999999999,0.9999999999999999,0.9999999999999999,1.0999999999999999,1.0999999999999999,1.0999999999999999,1.0999999999999999,1.0999999999999999,1.0999999999999999,1.0999999999999999,1.0999999999999999,1.0999999999999999,1.0999999999999999,1.0999999999999999,1.0999999999999999,1.0999999999999999,1.0999999999999999,1.0999999999999999,1.1999999999999997,1.1999999999999997,1.1999999999999997,1.1999999999999997,1.1999999999999997,1.1999999999999997,1.1999999999999997,1.1999999999999997,1.1999999999999997,1.1999999999999997,1.1999999999999997,1.1999999999999997,1.1999999999999997,1.1999999999999997,1.1999999999999997,1.2999999999999998,1.2999999999999998,1.2999999999999998,1.2999999999999998,1.2999999999999998,1.2999999999999998,1.2999999999999998,1.2999999999999998,1.2999999999999998,1.2999999999999998,1.2999999999999998,1.2999999999999998,1.2999999999999998,1.2999999999999998,1.2999999999999998,1.4,1.4,1.4,1.4,1.4,1.4,1.4,1.4,1.4,1.4,1.4,1.4,1.4,1.4,1.4,1.4999999999999998,1.4999999999999998,1.4999999999999998,1.4999999999999998,1.4999999999999998,1.4999999999999998,1.4999999999999998,1.4999999999999998,1.4999999999999998,1.4999999999999998,1.4999999999999998,1.4999999999999998,1.4999999999999998,1.4999999999999998,1.4999999999999998,1.5999999999999996,1.5999999999999996,1.5999999999999996,1.5999999999999996,1.5999999999999996,1.5999999999999996,1.5999999999999996,1.5999999999999996,1.5999999999999996,1.5999999999999996,1.5999999999999996,1.5999999999999996,1.5999999999999996,1.5999999999999996,1.5999999999999996,1.6999999999999997,1.6999999999999997,1.6999999999999997,1.6999999999999997,1.6999999999999997,1.6999999999999997,1.6999999999999997,1.6999999999999997,1.6999999999999997,1.6999999999999997,1.6999999999999997,1.6999999999999997,1.6999999999999997,1.6999999999999997,1.6999999999999997,1.7999999999999998,1.7999999999999998,1.7999999999999998,1.7999999999999998,1.7999999999999998,1.7999999999999998,1.7999999999999998,1.7999999999999998,1.7999999999999998,1.7999999999999998,1.7999999999999998,1.7999999999999998,1.7999999999999998,1.7999999999999998,1.7999999999999998,1.8999999999999997,1.8999999999999997,1.8999999999999997,1.8999999999999997,1.8999999999999997,1.8999999999999997,1.8999999999999997,1.8999999999999997,1.8999999999999997,1.8999999999999997,1.8999999999999997,1.8999999999999997,1.8999999999999997,1.8999999999999997,1.8999999999999997],\"y\":[0.5,0.6,0.7,0.7999999999999999,0.8999999999999999,0.9999999999999999,1.0999999999999999,1.1999999999999997,1.2999999999999998,1.4,1.4999999999999998,1.5999999999999996,1.6999999999999997,1.7999999999999998,1.8999999999999997,0.5,0.6,0.7,0.7999999999999999,0.8999999999999999,0.9999999999999999,1.0999999999999999,1.1999999999999997,1.2999999999999998,1.4,1.4999999999999998,1.5999999999999996,1.6999999999999997,1.7999999999999998,1.8999999999999997,0.5,0.6,0.7,0.7999999999999999,0.8999999999999999,0.9999999999999999,1.0999999999999999,1.1999999999999997,1.2999999999999998,1.4,1.4999999999999998,1.5999999999999996,1.6999999999999997,1.7999999999999998,1.8999999999999997,0.5,0.6,0.7,0.7999999999999999,0.8999999999999999,0.9999999999999999,1.0999999999999999,1.1999999999999997,1.2999999999999998,1.4,1.4999999999999998,1.5999999999999996,1.6999999999999997,1.7999999999999998,1.8999999999999997,0.5,0.6,0.7,0.7999999999999999,0.8999999999999999,0.9999999999999999,1.0999999999999999,1.1999999999999997,1.2999999999999998,1.4,1.4999999999999998,1.5999999999999996,1.6999999999999997,1.7999999999999998,1.8999999999999997,0.5,0.6,0.7,0.7999999999999999,0.8999999999999999,0.9999999999999999,1.0999999999999999,1.1999999999999997,1.2999999999999998,1.4,1.4999999999999998,1.5999999999999996,1.6999999999999997,1.7999999999999998,1.8999999999999997,0.5,0.6,0.7,0.7999999999999999,0.8999999999999999,0.9999999999999999,1.0999999999999999,1.1999999999999997,1.2999999999999998,1.4,1.4999999999999998,1.5999999999999996,1.6999999999999997,1.7999999999999998,1.8999999999999997,0.5,0.6,0.7,0.7999999999999999,0.8999999999999999,0.9999999999999999,1.0999999999999999,1.1999999999999997,1.2999999999999998,1.4,1.4999999999999998,1.5999999999999996,1.6999999999999997,1.7999999999999998,1.8999999999999997,0.5,0.6,0.7,0.7999999999999999,0.8999999999999999,0.9999999999999999,1.0999999999999999,1.1999999999999997,1.2999999999999998,1.4,1.4999999999999998,1.5999999999999996,1.6999999999999997,1.7999999999999998,1.8999999999999997,0.5,0.6,0.7,0.7999999999999999,0.8999999999999999,0.9999999999999999,1.0999999999999999,1.1999999999999997,1.2999999999999998,1.4,1.4999999999999998,1.5999999999999996,1.6999999999999997,1.7999999999999998,1.8999999999999997,0.5,0.6,0.7,0.7999999999999999,0.8999999999999999,0.9999999999999999,1.0999999999999999,1.1999999999999997,1.2999999999999998,1.4,1.4999999999999998,1.5999999999999996,1.6999999999999997,1.7999999999999998,1.8999999999999997,0.5,0.6,0.7,0.7999999999999999,0.8999999999999999,0.9999999999999999,1.0999999999999999,1.1999999999999997,1.2999999999999998,1.4,1.4999999999999998,1.5999999999999996,1.6999999999999997,1.7999999999999998,1.8999999999999997,0.5,0.6,0.7,0.7999999999999999,0.8999999999999999,0.9999999999999999,1.0999999999999999,1.1999999999999997,1.2999999999999998,1.4,1.4999999999999998,1.5999999999999996,1.6999999999999997,1.7999999999999998,1.8999999999999997,0.5,0.6,0.7,0.7999999999999999,0.8999999999999999,0.9999999999999999,1.0999999999999999,1.1999999999999997,1.2999999999999998,1.4,1.4999999999999998,1.5999999999999996,1.6999999999999997,1.7999999999999998,1.8999999999999997,0.5,0.6,0.7,0.7999999999999999,0.8999999999999999,0.9999999999999999,1.0999999999999999,1.1999999999999997,1.2999999999999998,1.4,1.4999999999999998,1.5999999999999996,1.6999999999999997,1.7999999999999998,1.8999999999999997],\"z\":[1.5,1.3,1.1,0.9000000000000001,0.7000000000000002,0.5000000000000002,0.30000000000000027,0.10000000000000053,-0.09999999999999964,-0.2999999999999998,-0.49999999999999956,-0.6999999999999993,-0.8999999999999995,-1.0999999999999996,-1.2999999999999994,1.6,1.4,1.2000000000000002,1.0,0.8000000000000003,0.6000000000000001,0.40000000000000036,0.20000000000000062,4.440892098500626e-16,-0.19999999999999973,-0.39999999999999947,-0.5999999999999992,-0.7999999999999994,-0.9999999999999996,-1.1999999999999993,1.7,1.5,1.3,1.1,0.9000000000000001,0.7000000000000002,0.5000000000000002,0.3000000000000005,0.10000000000000031,-0.09999999999999964,-0.2999999999999998,-0.4999999999999991,-0.6999999999999993,-0.8999999999999995,-1.0999999999999996,1.7999999999999998,1.6,1.4,1.2000000000000002,1.0,0.8000000000000003,0.6000000000000001,0.40000000000000036,0.20000000000000018,0.0,-0.19999999999999973,-0.39999999999999947,-0.5999999999999996,-0.7999999999999998,-0.9999999999999996,1.9,1.7,1.5,1.3,1.1,0.9000000000000001,0.7000000000000002,0.5000000000000004,0.30000000000000027,0.10000000000000009,-0.09999999999999964,-0.2999999999999994,-0.49999999999999956,-0.6999999999999997,-0.8999999999999995,2.0,1.7999999999999998,1.6,1.4,1.2000000000000002,1.0,0.8000000000000003,0.6000000000000005,0.40000000000000036,0.20000000000000018,4.440892098500626e-16,-0.1999999999999993,-0.39999999999999947,-0.5999999999999996,-0.7999999999999994,2.0999999999999996,1.9,1.7,1.5,1.3,1.1,0.9000000000000001,0.7000000000000004,0.5000000000000002,0.30000000000000004,0.10000000000000031,-0.09999999999999964,-0.2999999999999998,-0.5,-0.6999999999999993,2.1999999999999997,1.9999999999999998,1.7999999999999998,1.5999999999999999,1.4,1.2,1.0,0.8000000000000003,0.6000000000000001,0.3999999999999999,0.20000000000000018,4.440892098500626e-16,-0.19999999999999973,-0.3999999999999999,-0.5999999999999996,2.3,2.0999999999999996,1.9,1.7,1.5,1.3,1.1,0.9000000000000004,0.7000000000000002,0.5,0.30000000000000027,0.10000000000000053,-0.09999999999999964,-0.2999999999999998,-0.49999999999999956,2.4,2.2,2.0,1.8,1.6,1.4000000000000001,1.2000000000000002,1.0000000000000004,0.8000000000000003,0.6000000000000001,0.40000000000000036,0.20000000000000062,4.440892098500626e-16,-0.19999999999999973,-0.39999999999999947,2.5,2.3,2.0999999999999996,1.9,1.7,1.5,1.3,1.1000000000000003,0.9000000000000001,0.7,0.5000000000000002,0.3000000000000005,0.10000000000000031,-0.09999999999999964,-0.2999999999999998,2.5999999999999996,2.3999999999999995,2.1999999999999997,1.9999999999999998,1.7999999999999998,1.5999999999999999,1.4,1.2000000000000002,1.0,0.7999999999999998,0.6000000000000001,0.40000000000000036,0.20000000000000018,0.0,-0.19999999999999973,2.6999999999999997,2.5,2.3,2.0999999999999996,1.9,1.7,1.5,1.3000000000000003,1.1,0.8999999999999999,0.7000000000000002,0.5000000000000004,0.30000000000000027,0.10000000000000009,-0.09999999999999964,2.8,2.5999999999999996,2.4,2.2,2.0,1.8,1.6,1.4000000000000004,1.2000000000000002,1.0,0.8000000000000003,0.6000000000000005,0.40000000000000036,0.20000000000000018,4.440892098500626e-16,2.8999999999999995,2.6999999999999997,2.5,2.3,2.0999999999999996,1.9,1.7,1.5000000000000002,1.3,1.0999999999999999,0.9000000000000001,0.7000000000000004,0.5000000000000002,0.30000000000000004,0.10000000000000031],\"type\":\"mesh3d\"},{\"opacity\":0.5,\"x\":[0.5,0.5,0.5,0.5,0.5,0.5,0.5,0.5,0.5,0.5,0.5,0.5,0.5,0.5,0.5,0.6,0.6,0.6,0.6,0.6,0.6,0.6,0.6,0.6,0.6,0.6,0.6,0.6,0.6,0.6,0.7,0.7,0.7,0.7,0.7,0.7,0.7,0.7,0.7,0.7,0.7,0.7,0.7,0.7,0.7,0.7999999999999999,0.7999999999999999,0.7999999999999999,0.7999999999999999,0.7999999999999999,0.7999999999999999,0.7999999999999999,0.7999999999999999,0.7999999999999999,0.7999999999999999,0.7999999999999999,0.7999999999999999,0.7999999999999999,0.7999999999999999,0.7999999999999999,0.8999999999999999,0.8999999999999999,0.8999999999999999,0.8999999999999999,0.8999999999999999,0.8999999999999999,0.8999999999999999,0.8999999999999999,0.8999999999999999,0.8999999999999999,0.8999999999999999,0.8999999999999999,0.8999999999999999,0.8999999999999999,0.8999999999999999,0.9999999999999999,0.9999999999999999,0.9999999999999999,0.9999999999999999,0.9999999999999999,0.9999999999999999,0.9999999999999999,0.9999999999999999,0.9999999999999999,0.9999999999999999,0.9999999999999999,0.9999999999999999,0.9999999999999999,0.9999999999999999,0.9999999999999999,1.0999999999999999,1.0999999999999999,1.0999999999999999,1.0999999999999999,1.0999999999999999,1.0999999999999999,1.0999999999999999,1.0999999999999999,1.0999999999999999,1.0999999999999999,1.0999999999999999,1.0999999999999999,1.0999999999999999,1.0999999999999999,1.0999999999999999,1.1999999999999997,1.1999999999999997,1.1999999999999997,1.1999999999999997,1.1999999999999997,1.1999999999999997,1.1999999999999997,1.1999999999999997,1.1999999999999997,1.1999999999999997,1.1999999999999997,1.1999999999999997,1.1999999999999997,1.1999999999999997,1.1999999999999997,1.2999999999999998,1.2999999999999998,1.2999999999999998,1.2999999999999998,1.2999999999999998,1.2999999999999998,1.2999999999999998,1.2999999999999998,1.2999999999999998,1.2999999999999998,1.2999999999999998,1.2999999999999998,1.2999999999999998,1.2999999999999998,1.2999999999999998,1.4,1.4,1.4,1.4,1.4,1.4,1.4,1.4,1.4,1.4,1.4,1.4,1.4,1.4,1.4,1.4999999999999998,1.4999999999999998,1.4999999999999998,1.4999999999999998,1.4999999999999998,1.4999999999999998,1.4999999999999998,1.4999999999999998,1.4999999999999998,1.4999999999999998,1.4999999999999998,1.4999999999999998,1.4999999999999998,1.4999999999999998,1.4999999999999998,1.5999999999999996,1.5999999999999996,1.5999999999999996,1.5999999999999996,1.5999999999999996,1.5999999999999996,1.5999999999999996,1.5999999999999996,1.5999999999999996,1.5999999999999996,1.5999999999999996,1.5999999999999996,1.5999999999999996,1.5999999999999996,1.5999999999999996,1.6999999999999997,1.6999999999999997,1.6999999999999997,1.6999999999999997,1.6999999999999997,1.6999999999999997,1.6999999999999997,1.6999999999999997,1.6999999999999997,1.6999999999999997,1.6999999999999997,1.6999999999999997,1.6999999999999997,1.6999999999999997,1.6999999999999997,1.7999999999999998,1.7999999999999998,1.7999999999999998,1.7999999999999998,1.7999999999999998,1.7999999999999998,1.7999999999999998,1.7999999999999998,1.7999999999999998,1.7999999999999998,1.7999999999999998,1.7999999999999998,1.7999999999999998,1.7999999999999998,1.7999999999999998,1.8999999999999997,1.8999999999999997,1.8999999999999997,1.8999999999999997,1.8999999999999997,1.8999999999999997,1.8999999999999997,1.8999999999999997,1.8999999999999997,1.8999999999999997,1.8999999999999997,1.8999999999999997,1.8999999999999997,1.8999999999999997,1.8999999999999997],\"y\":[0.5,0.6,0.7,0.7999999999999999,0.8999999999999999,0.9999999999999999,1.0999999999999999,1.1999999999999997,1.2999999999999998,1.4,1.4999999999999998,1.5999999999999996,1.6999999999999997,1.7999999999999998,1.8999999999999997,0.5,0.6,0.7,0.7999999999999999,0.8999999999999999,0.9999999999999999,1.0999999999999999,1.1999999999999997,1.2999999999999998,1.4,1.4999999999999998,1.5999999999999996,1.6999999999999997,1.7999999999999998,1.8999999999999997,0.5,0.6,0.7,0.7999999999999999,0.8999999999999999,0.9999999999999999,1.0999999999999999,1.1999999999999997,1.2999999999999998,1.4,1.4999999999999998,1.5999999999999996,1.6999999999999997,1.7999999999999998,1.8999999999999997,0.5,0.6,0.7,0.7999999999999999,0.8999999999999999,0.9999999999999999,1.0999999999999999,1.1999999999999997,1.2999999999999998,1.4,1.4999999999999998,1.5999999999999996,1.6999999999999997,1.7999999999999998,1.8999999999999997,0.5,0.6,0.7,0.7999999999999999,0.8999999999999999,0.9999999999999999,1.0999999999999999,1.1999999999999997,1.2999999999999998,1.4,1.4999999999999998,1.5999999999999996,1.6999999999999997,1.7999999999999998,1.8999999999999997,0.5,0.6,0.7,0.7999999999999999,0.8999999999999999,0.9999999999999999,1.0999999999999999,1.1999999999999997,1.2999999999999998,1.4,1.4999999999999998,1.5999999999999996,1.6999999999999997,1.7999999999999998,1.8999999999999997,0.5,0.6,0.7,0.7999999999999999,0.8999999999999999,0.9999999999999999,1.0999999999999999,1.1999999999999997,1.2999999999999998,1.4,1.4999999999999998,1.5999999999999996,1.6999999999999997,1.7999999999999998,1.8999999999999997,0.5,0.6,0.7,0.7999999999999999,0.8999999999999999,0.9999999999999999,1.0999999999999999,1.1999999999999997,1.2999999999999998,1.4,1.4999999999999998,1.5999999999999996,1.6999999999999997,1.7999999999999998,1.8999999999999997,0.5,0.6,0.7,0.7999999999999999,0.8999999999999999,0.9999999999999999,1.0999999999999999,1.1999999999999997,1.2999999999999998,1.4,1.4999999999999998,1.5999999999999996,1.6999999999999997,1.7999999999999998,1.8999999999999997,0.5,0.6,0.7,0.7999999999999999,0.8999999999999999,0.9999999999999999,1.0999999999999999,1.1999999999999997,1.2999999999999998,1.4,1.4999999999999998,1.5999999999999996,1.6999999999999997,1.7999999999999998,1.8999999999999997,0.5,0.6,0.7,0.7999999999999999,0.8999999999999999,0.9999999999999999,1.0999999999999999,1.1999999999999997,1.2999999999999998,1.4,1.4999999999999998,1.5999999999999996,1.6999999999999997,1.7999999999999998,1.8999999999999997,0.5,0.6,0.7,0.7999999999999999,0.8999999999999999,0.9999999999999999,1.0999999999999999,1.1999999999999997,1.2999999999999998,1.4,1.4999999999999998,1.5999999999999996,1.6999999999999997,1.7999999999999998,1.8999999999999997,0.5,0.6,0.7,0.7999999999999999,0.8999999999999999,0.9999999999999999,1.0999999999999999,1.1999999999999997,1.2999999999999998,1.4,1.4999999999999998,1.5999999999999996,1.6999999999999997,1.7999999999999998,1.8999999999999997,0.5,0.6,0.7,0.7999999999999999,0.8999999999999999,0.9999999999999999,1.0999999999999999,1.1999999999999997,1.2999999999999998,1.4,1.4999999999999998,1.5999999999999996,1.6999999999999997,1.7999999999999998,1.8999999999999997,0.5,0.6,0.7,0.7999999999999999,0.8999999999999999,0.9999999999999999,1.0999999999999999,1.1999999999999997,1.2999999999999998,1.4,1.4999999999999998,1.5999999999999996,1.6999999999999997,1.7999999999999998,1.8999999999999997],\"z\":[4.5,4.3,4.1,3.9000000000000004,3.7,3.5,3.3000000000000003,3.1000000000000005,2.9000000000000004,2.7,2.5000000000000004,2.3000000000000007,2.1000000000000005,1.9000000000000004,1.700000000000001,4.4,4.2,4.0,3.8000000000000003,3.6,3.4000000000000004,3.2,3.0000000000000004,2.8000000000000003,2.6,2.4000000000000004,2.2000000000000006,2.0000000000000004,1.8000000000000007,1.6000000000000005,4.3,4.1,3.9000000000000004,3.7,3.5,3.3000000000000003,3.1000000000000005,2.9000000000000004,2.7,2.5,2.3000000000000007,2.1000000000000005,1.9000000000000004,1.7000000000000002,1.5000000000000009,4.2,4.0,3.8000000000000003,3.6,3.4000000000000004,3.2,3.0000000000000004,2.8000000000000007,2.6000000000000005,2.4000000000000004,2.2000000000000006,2.000000000000001,1.8000000000000007,1.6000000000000005,1.4000000000000004,4.1,3.9000000000000004,3.7,3.5,3.3000000000000003,3.1000000000000005,2.9000000000000004,2.7000000000000006,2.5000000000000004,2.3000000000000003,2.1000000000000005,1.9000000000000004,1.700000000000001,1.5,1.3000000000000007,4.0,3.8000000000000003,3.6,3.4000000000000004,3.2,3.0000000000000004,2.8000000000000003,2.6000000000000005,2.4000000000000004,2.2,2.0000000000000004,1.8000000000000007,1.6000000000000005,1.4000000000000004,1.200000000000001,3.9000000000000004,3.7,3.5,3.3000000000000003,3.1000000000000005,2.9000000000000004,2.7,2.500000000000001,2.3000000000000007,2.1000000000000005,1.9000000000000004,1.700000000000001,1.5000000000000009,1.3000000000000007,1.1000000000000005,3.8000000000000003,3.6000000000000005,3.4000000000000004,3.2,3.0000000000000004,2.8000000000000007,2.6000000000000005,2.400000000000001,2.2000000000000006,2.0000000000000004,1.8000000000000007,1.6000000000000014,1.4000000000000004,1.200000000000001,1.0000000000000009,3.7,3.5,3.3000000000000003,3.1000000000000005,2.9000000000000004,2.7,2.5000000000000004,2.3000000000000007,2.1000000000000005,1.9000000000000004,1.700000000000001,1.5000000000000009,1.3000000000000007,1.1000000000000005,0.9000000000000004,3.6,3.4000000000000004,3.2,3.0,2.8000000000000003,2.6000000000000005,2.4000000000000004,2.2000000000000006,2.0000000000000004,1.8000000000000007,1.6000000000000005,1.4000000000000004,1.200000000000001,1.0,0.8000000000000007,3.5,3.3000000000000003,3.1000000000000005,2.9000000000000004,2.7,2.5000000000000004,2.3000000000000007,2.1000000000000005,1.9000000000000004,1.7000000000000002,1.5000000000000009,1.3000000000000007,1.1000000000000005,0.9000000000000004,0.7000000000000011,3.4000000000000004,3.2,3.0000000000000004,2.8000000000000007,2.6000000000000005,2.4000000000000004,2.2000000000000006,2.000000000000001,1.8000000000000007,1.6000000000000005,1.4000000000000004,1.200000000000001,1.0000000000000009,0.8000000000000007,0.6000000000000014,3.3000000000000003,3.1000000000000005,2.9000000000000004,2.7,2.5000000000000004,2.3000000000000007,2.1000000000000005,1.9000000000000004,1.700000000000001,1.5,1.3000000000000007,1.1000000000000014,0.9000000000000004,0.7000000000000011,0.5000000000000009,3.2,3.0,2.8000000000000003,2.6000000000000005,2.4000000000000004,2.2,2.0000000000000004,1.8000000000000007,1.6000000000000005,1.4000000000000004,1.200000000000001,1.0000000000000009,0.8000000000000007,0.6000000000000005,0.40000000000000036,3.1000000000000005,2.9000000000000004,2.7,2.5000000000000004,2.3000000000000007,2.1000000000000005,1.9000000000000004,1.700000000000001,1.5000000000000009,1.3000000000000007,1.1000000000000005,0.9000000000000012,0.7000000000000011,0.5000000000000009,0.3000000000000007],\"type\":\"mesh3d\"},{\"opacity\":0.5,\"x\":[0.5,0.5,0.5,0.5,0.5,0.5,0.5,0.5,0.5,0.5,0.5,0.5,0.5,0.5,0.5,0.6,0.6,0.6,0.6,0.6,0.6,0.6,0.6,0.6,0.6,0.6,0.6,0.6,0.6,0.6,0.7,0.7,0.7,0.7,0.7,0.7,0.7,0.7,0.7,0.7,0.7,0.7,0.7,0.7,0.7,0.7999999999999999,0.7999999999999999,0.7999999999999999,0.7999999999999999,0.7999999999999999,0.7999999999999999,0.7999999999999999,0.7999999999999999,0.7999999999999999,0.7999999999999999,0.7999999999999999,0.7999999999999999,0.7999999999999999,0.7999999999999999,0.7999999999999999,0.8999999999999999,0.8999999999999999,0.8999999999999999,0.8999999999999999,0.8999999999999999,0.8999999999999999,0.8999999999999999,0.8999999999999999,0.8999999999999999,0.8999999999999999,0.8999999999999999,0.8999999999999999,0.8999999999999999,0.8999999999999999,0.8999999999999999,0.9999999999999999,0.9999999999999999,0.9999999999999999,0.9999999999999999,0.9999999999999999,0.9999999999999999,0.9999999999999999,0.9999999999999999,0.9999999999999999,0.9999999999999999,0.9999999999999999,0.9999999999999999,0.9999999999999999,0.9999999999999999,0.9999999999999999,1.0999999999999999,1.0999999999999999,1.0999999999999999,1.0999999999999999,1.0999999999999999,1.0999999999999999,1.0999999999999999,1.0999999999999999,1.0999999999999999,1.0999999999999999,1.0999999999999999,1.0999999999999999,1.0999999999999999,1.0999999999999999,1.0999999999999999,1.1999999999999997,1.1999999999999997,1.1999999999999997,1.1999999999999997,1.1999999999999997,1.1999999999999997,1.1999999999999997,1.1999999999999997,1.1999999999999997,1.1999999999999997,1.1999999999999997,1.1999999999999997,1.1999999999999997,1.1999999999999997,1.1999999999999997,1.2999999999999998,1.2999999999999998,1.2999999999999998,1.2999999999999998,1.2999999999999998,1.2999999999999998,1.2999999999999998,1.2999999999999998,1.2999999999999998,1.2999999999999998,1.2999999999999998,1.2999999999999998,1.2999999999999998,1.2999999999999998,1.2999999999999998,1.4,1.4,1.4,1.4,1.4,1.4,1.4,1.4,1.4,1.4,1.4,1.4,1.4,1.4,1.4,1.4999999999999998,1.4999999999999998,1.4999999999999998,1.4999999999999998,1.4999999999999998,1.4999999999999998,1.4999999999999998,1.4999999999999998,1.4999999999999998,1.4999999999999998,1.4999999999999998,1.4999999999999998,1.4999999999999998,1.4999999999999998,1.4999999999999998,1.5999999999999996,1.5999999999999996,1.5999999999999996,1.5999999999999996,1.5999999999999996,1.5999999999999996,1.5999999999999996,1.5999999999999996,1.5999999999999996,1.5999999999999996,1.5999999999999996,1.5999999999999996,1.5999999999999996,1.5999999999999996,1.5999999999999996,1.6999999999999997,1.6999999999999997,1.6999999999999997,1.6999999999999997,1.6999999999999997,1.6999999999999997,1.6999999999999997,1.6999999999999997,1.6999999999999997,1.6999999999999997,1.6999999999999997,1.6999999999999997,1.6999999999999997,1.6999999999999997,1.6999999999999997,1.7999999999999998,1.7999999999999998,1.7999999999999998,1.7999999999999998,1.7999999999999998,1.7999999999999998,1.7999999999999998,1.7999999999999998,1.7999999999999998,1.7999999999999998,1.7999999999999998,1.7999999999999998,1.7999999999999998,1.7999999999999998,1.7999999999999998,1.8999999999999997,1.8999999999999997,1.8999999999999997,1.8999999999999997,1.8999999999999997,1.8999999999999997,1.8999999999999997,1.8999999999999997,1.8999999999999997,1.8999999999999997,1.8999999999999997,1.8999999999999997,1.8999999999999997,1.8999999999999997,1.8999999999999997],\"y\":[0.5,0.6,0.7,0.7999999999999999,0.8999999999999999,0.9999999999999999,1.0999999999999999,1.1999999999999997,1.2999999999999998,1.4,1.4999999999999998,1.5999999999999996,1.6999999999999997,1.7999999999999998,1.8999999999999997,0.5,0.6,0.7,0.7999999999999999,0.8999999999999999,0.9999999999999999,1.0999999999999999,1.1999999999999997,1.2999999999999998,1.4,1.4999999999999998,1.5999999999999996,1.6999999999999997,1.7999999999999998,1.8999999999999997,0.5,0.6,0.7,0.7999999999999999,0.8999999999999999,0.9999999999999999,1.0999999999999999,1.1999999999999997,1.2999999999999998,1.4,1.4999999999999998,1.5999999999999996,1.6999999999999997,1.7999999999999998,1.8999999999999997,0.5,0.6,0.7,0.7999999999999999,0.8999999999999999,0.9999999999999999,1.0999999999999999,1.1999999999999997,1.2999999999999998,1.4,1.4999999999999998,1.5999999999999996,1.6999999999999997,1.7999999999999998,1.8999999999999997,0.5,0.6,0.7,0.7999999999999999,0.8999999999999999,0.9999999999999999,1.0999999999999999,1.1999999999999997,1.2999999999999998,1.4,1.4999999999999998,1.5999999999999996,1.6999999999999997,1.7999999999999998,1.8999999999999997,0.5,0.6,0.7,0.7999999999999999,0.8999999999999999,0.9999999999999999,1.0999999999999999,1.1999999999999997,1.2999999999999998,1.4,1.4999999999999998,1.5999999999999996,1.6999999999999997,1.7999999999999998,1.8999999999999997,0.5,0.6,0.7,0.7999999999999999,0.8999999999999999,0.9999999999999999,1.0999999999999999,1.1999999999999997,1.2999999999999998,1.4,1.4999999999999998,1.5999999999999996,1.6999999999999997,1.7999999999999998,1.8999999999999997,0.5,0.6,0.7,0.7999999999999999,0.8999999999999999,0.9999999999999999,1.0999999999999999,1.1999999999999997,1.2999999999999998,1.4,1.4999999999999998,1.5999999999999996,1.6999999999999997,1.7999999999999998,1.8999999999999997,0.5,0.6,0.7,0.7999999999999999,0.8999999999999999,0.9999999999999999,1.0999999999999999,1.1999999999999997,1.2999999999999998,1.4,1.4999999999999998,1.5999999999999996,1.6999999999999997,1.7999999999999998,1.8999999999999997,0.5,0.6,0.7,0.7999999999999999,0.8999999999999999,0.9999999999999999,1.0999999999999999,1.1999999999999997,1.2999999999999998,1.4,1.4999999999999998,1.5999999999999996,1.6999999999999997,1.7999999999999998,1.8999999999999997,0.5,0.6,0.7,0.7999999999999999,0.8999999999999999,0.9999999999999999,1.0999999999999999,1.1999999999999997,1.2999999999999998,1.4,1.4999999999999998,1.5999999999999996,1.6999999999999997,1.7999999999999998,1.8999999999999997,0.5,0.6,0.7,0.7999999999999999,0.8999999999999999,0.9999999999999999,1.0999999999999999,1.1999999999999997,1.2999999999999998,1.4,1.4999999999999998,1.5999999999999996,1.6999999999999997,1.7999999999999998,1.8999999999999997,0.5,0.6,0.7,0.7999999999999999,0.8999999999999999,0.9999999999999999,1.0999999999999999,1.1999999999999997,1.2999999999999998,1.4,1.4999999999999998,1.5999999999999996,1.6999999999999997,1.7999999999999998,1.8999999999999997,0.5,0.6,0.7,0.7999999999999999,0.8999999999999999,0.9999999999999999,1.0999999999999999,1.1999999999999997,1.2999999999999998,1.4,1.4999999999999998,1.5999999999999996,1.6999999999999997,1.7999999999999998,1.8999999999999997,0.5,0.6,0.7,0.7999999999999999,0.8999999999999999,0.9999999999999999,1.0999999999999999,1.1999999999999997,1.2999999999999998,1.4,1.4999999999999998,1.5999999999999996,1.6999999999999997,1.7999999999999998,1.8999999999999997],\"z\":[2.5,2.7,2.9,3.0999999999999996,3.3,3.5,3.6999999999999997,3.8999999999999995,4.1,4.3,4.5,4.699999999999999,4.8999999999999995,5.1,5.299999999999999,2.4,2.6,2.8,3.0,3.1999999999999997,3.4,3.5999999999999996,3.7999999999999994,3.9999999999999996,4.199999999999999,4.3999999999999995,4.6,4.799999999999999,5.0,5.199999999999999,2.3,2.5,2.7,2.9,3.0999999999999996,3.3,3.5,3.6999999999999993,3.8999999999999995,4.1,4.3,4.499999999999999,4.699999999999999,4.8999999999999995,5.1,2.2,2.4,2.6,2.8,3.0,3.1999999999999997,3.4,3.5999999999999996,3.8,4.0,4.199999999999999,4.3999999999999995,4.6,4.8,5.0,2.1,2.3,2.5,2.7,2.9,3.0999999999999996,3.3,3.4999999999999996,3.6999999999999997,3.9,4.1,4.299999999999999,4.5,4.699999999999999,4.8999999999999995,2.0,2.2,2.4,2.6,2.8,3.0,3.1999999999999997,3.3999999999999995,3.5999999999999996,3.8,3.9999999999999996,4.199999999999999,4.3999999999999995,4.6,4.799999999999999,1.9000000000000001,2.1,2.3,2.5,2.7,2.9,3.0999999999999996,3.3,3.5,3.7,3.8999999999999995,4.1,4.3,4.5,4.699999999999999,1.8000000000000003,2.0,2.2,2.4000000000000004,2.6,2.8,3.0,3.1999999999999997,3.4,3.6,3.8,3.9999999999999996,4.199999999999999,4.4,4.6,1.7000000000000002,1.9000000000000001,2.1,2.3,2.5,2.7,2.9,3.0999999999999996,3.3,3.5,3.6999999999999997,3.8999999999999995,4.1,4.3,4.5,1.6,1.8,2.0,2.2,2.4,2.5999999999999996,2.8,2.9999999999999996,3.1999999999999997,3.4,3.5999999999999996,3.7999999999999994,3.9999999999999996,4.199999999999999,4.3999999999999995,1.5000000000000002,1.7000000000000002,1.9000000000000001,2.1,2.3,2.5,2.7,2.8999999999999995,3.0999999999999996,3.3,3.5,3.6999999999999993,3.8999999999999995,4.1,4.3,1.4000000000000004,1.6000000000000003,1.8000000000000003,2.0,2.2,2.4000000000000004,2.6,2.8,3.0,3.2,3.4,3.5999999999999996,3.8,4.0,4.199999999999999,1.3000000000000003,1.5000000000000002,1.7000000000000002,1.9000000000000001,2.1,2.3,2.5,2.6999999999999997,2.9,3.1,3.3,3.4999999999999996,3.6999999999999997,3.9,4.1,1.2000000000000002,1.4000000000000001,1.6,1.8,2.0,2.2,2.4,2.5999999999999996,2.8,3.0,3.1999999999999997,3.3999999999999995,3.5999999999999996,3.8,3.9999999999999996,1.1000000000000003,1.3000000000000003,1.5000000000000002,1.7000000000000002,1.9000000000000001,2.1,2.3,2.5,2.7,2.9000000000000004,3.0999999999999996,3.3,3.5,3.7,3.8999999999999995],\"type\":\"mesh3d\"},{\"mode\":\"markers\",\"x\":[1.400000000000001],\"y\":[1.6999999999999997],\"z\":[0.8000000000000013],\"type\":\"scatter3d\"}],                        {\"template\":{\"data\":{\"histogram2dcontour\":[{\"type\":\"histogram2dcontour\",\"colorbar\":{\"outlinewidth\":0,\"ticks\":\"\"},\"colorscale\":[[0.0,\"#0d0887\"],[0.1111111111111111,\"#46039f\"],[0.2222222222222222,\"#7201a8\"],[0.3333333333333333,\"#9c179e\"],[0.4444444444444444,\"#bd3786\"],[0.5555555555555556,\"#d8576b\"],[0.6666666666666666,\"#ed7953\"],[0.7777777777777778,\"#fb9f3a\"],[0.8888888888888888,\"#fdca26\"],[1.0,\"#f0f921\"]]}],\"choropleth\":[{\"type\":\"choropleth\",\"colorbar\":{\"outlinewidth\":0,\"ticks\":\"\"}}],\"histogram2d\":[{\"type\":\"histogram2d\",\"colorbar\":{\"outlinewidth\":0,\"ticks\":\"\"},\"colorscale\":[[0.0,\"#0d0887\"],[0.1111111111111111,\"#46039f\"],[0.2222222222222222,\"#7201a8\"],[0.3333333333333333,\"#9c179e\"],[0.4444444444444444,\"#bd3786\"],[0.5555555555555556,\"#d8576b\"],[0.6666666666666666,\"#ed7953\"],[0.7777777777777778,\"#fb9f3a\"],[0.8888888888888888,\"#fdca26\"],[1.0,\"#f0f921\"]]}],\"heatmap\":[{\"type\":\"heatmap\",\"colorbar\":{\"outlinewidth\":0,\"ticks\":\"\"},\"colorscale\":[[0.0,\"#0d0887\"],[0.1111111111111111,\"#46039f\"],[0.2222222222222222,\"#7201a8\"],[0.3333333333333333,\"#9c179e\"],[0.4444444444444444,\"#bd3786\"],[0.5555555555555556,\"#d8576b\"],[0.6666666666666666,\"#ed7953\"],[0.7777777777777778,\"#fb9f3a\"],[0.8888888888888888,\"#fdca26\"],[1.0,\"#f0f921\"]]}],\"heatmapgl\":[{\"type\":\"heatmapgl\",\"colorbar\":{\"outlinewidth\":0,\"ticks\":\"\"},\"colorscale\":[[0.0,\"#0d0887\"],[0.1111111111111111,\"#46039f\"],[0.2222222222222222,\"#7201a8\"],[0.3333333333333333,\"#9c179e\"],[0.4444444444444444,\"#bd3786\"],[0.5555555555555556,\"#d8576b\"],[0.6666666666666666,\"#ed7953\"],[0.7777777777777778,\"#fb9f3a\"],[0.8888888888888888,\"#fdca26\"],[1.0,\"#f0f921\"]]}],\"contourcarpet\":[{\"type\":\"contourcarpet\",\"colorbar\":{\"outlinewidth\":0,\"ticks\":\"\"}}],\"contour\":[{\"type\":\"contour\",\"colorbar\":{\"outlinewidth\":0,\"ticks\":\"\"},\"colorscale\":[[0.0,\"#0d0887\"],[0.1111111111111111,\"#46039f\"],[0.2222222222222222,\"#7201a8\"],[0.3333333333333333,\"#9c179e\"],[0.4444444444444444,\"#bd3786\"],[0.5555555555555556,\"#d8576b\"],[0.6666666666666666,\"#ed7953\"],[0.7777777777777778,\"#fb9f3a\"],[0.8888888888888888,\"#fdca26\"],[1.0,\"#f0f921\"]]}],\"surface\":[{\"type\":\"surface\",\"colorbar\":{\"outlinewidth\":0,\"ticks\":\"\"},\"colorscale\":[[0.0,\"#0d0887\"],[0.1111111111111111,\"#46039f\"],[0.2222222222222222,\"#7201a8\"],[0.3333333333333333,\"#9c179e\"],[0.4444444444444444,\"#bd3786\"],[0.5555555555555556,\"#d8576b\"],[0.6666666666666666,\"#ed7953\"],[0.7777777777777778,\"#fb9f3a\"],[0.8888888888888888,\"#fdca26\"],[1.0,\"#f0f921\"]]}],\"mesh3d\":[{\"type\":\"mesh3d\",\"colorbar\":{\"outlinewidth\":0,\"ticks\":\"\"}}],\"scatter\":[{\"fillpattern\":{\"fillmode\":\"overlay\",\"size\":10,\"solidity\":0.2},\"type\":\"scatter\"}],\"parcoords\":[{\"type\":\"parcoords\",\"line\":{\"colorbar\":{\"outlinewidth\":0,\"ticks\":\"\"}}}],\"scatterpolargl\":[{\"type\":\"scatterpolargl\",\"marker\":{\"colorbar\":{\"outlinewidth\":0,\"ticks\":\"\"}}}],\"bar\":[{\"error_x\":{\"color\":\"#2a3f5f\"},\"error_y\":{\"color\":\"#2a3f5f\"},\"marker\":{\"line\":{\"color\":\"#E5ECF6\",\"width\":0.5},\"pattern\":{\"fillmode\":\"overlay\",\"size\":10,\"solidity\":0.2}},\"type\":\"bar\"}],\"scattergeo\":[{\"type\":\"scattergeo\",\"marker\":{\"colorbar\":{\"outlinewidth\":0,\"ticks\":\"\"}}}],\"scatterpolar\":[{\"type\":\"scatterpolar\",\"marker\":{\"colorbar\":{\"outlinewidth\":0,\"ticks\":\"\"}}}],\"histogram\":[{\"marker\":{\"pattern\":{\"fillmode\":\"overlay\",\"size\":10,\"solidity\":0.2}},\"type\":\"histogram\"}],\"scattergl\":[{\"type\":\"scattergl\",\"marker\":{\"colorbar\":{\"outlinewidth\":0,\"ticks\":\"\"}}}],\"scatter3d\":[{\"type\":\"scatter3d\",\"line\":{\"colorbar\":{\"outlinewidth\":0,\"ticks\":\"\"}},\"marker\":{\"colorbar\":{\"outlinewidth\":0,\"ticks\":\"\"}}}],\"scattermapbox\":[{\"type\":\"scattermapbox\",\"marker\":{\"colorbar\":{\"outlinewidth\":0,\"ticks\":\"\"}}}],\"scatterternary\":[{\"type\":\"scatterternary\",\"marker\":{\"colorbar\":{\"outlinewidth\":0,\"ticks\":\"\"}}}],\"scattercarpet\":[{\"type\":\"scattercarpet\",\"marker\":{\"colorbar\":{\"outlinewidth\":0,\"ticks\":\"\"}}}],\"carpet\":[{\"aaxis\":{\"endlinecolor\":\"#2a3f5f\",\"gridcolor\":\"white\",\"linecolor\":\"white\",\"minorgridcolor\":\"white\",\"startlinecolor\":\"#2a3f5f\"},\"baxis\":{\"endlinecolor\":\"#2a3f5f\",\"gridcolor\":\"white\",\"linecolor\":\"white\",\"minorgridcolor\":\"white\",\"startlinecolor\":\"#2a3f5f\"},\"type\":\"carpet\"}],\"table\":[{\"cells\":{\"fill\":{\"color\":\"#EBF0F8\"},\"line\":{\"color\":\"white\"}},\"header\":{\"fill\":{\"color\":\"#C8D4E3\"},\"line\":{\"color\":\"white\"}},\"type\":\"table\"}],\"barpolar\":[{\"marker\":{\"line\":{\"color\":\"#E5ECF6\",\"width\":0.5},\"pattern\":{\"fillmode\":\"overlay\",\"size\":10,\"solidity\":0.2}},\"type\":\"barpolar\"}],\"pie\":[{\"automargin\":true,\"type\":\"pie\"}]},\"layout\":{\"autotypenumbers\":\"strict\",\"colorway\":[\"#636efa\",\"#EF553B\",\"#00cc96\",\"#ab63fa\",\"#FFA15A\",\"#19d3f3\",\"#FF6692\",\"#B6E880\",\"#FF97FF\",\"#FECB52\"],\"font\":{\"color\":\"#2a3f5f\"},\"hovermode\":\"closest\",\"hoverlabel\":{\"align\":\"left\"},\"paper_bgcolor\":\"white\",\"plot_bgcolor\":\"#E5ECF6\",\"polar\":{\"bgcolor\":\"#E5ECF6\",\"angularaxis\":{\"gridcolor\":\"white\",\"linecolor\":\"white\",\"ticks\":\"\"},\"radialaxis\":{\"gridcolor\":\"white\",\"linecolor\":\"white\",\"ticks\":\"\"}},\"ternary\":{\"bgcolor\":\"#E5ECF6\",\"aaxis\":{\"gridcolor\":\"white\",\"linecolor\":\"white\",\"ticks\":\"\"},\"baxis\":{\"gridcolor\":\"white\",\"linecolor\":\"white\",\"ticks\":\"\"},\"caxis\":{\"gridcolor\":\"white\",\"linecolor\":\"white\",\"ticks\":\"\"}},\"coloraxis\":{\"colorbar\":{\"outlinewidth\":0,\"ticks\":\"\"}},\"colorscale\":{\"sequential\":[[0.0,\"#0d0887\"],[0.1111111111111111,\"#46039f\"],[0.2222222222222222,\"#7201a8\"],[0.3333333333333333,\"#9c179e\"],[0.4444444444444444,\"#bd3786\"],[0.5555555555555556,\"#d8576b\"],[0.6666666666666666,\"#ed7953\"],[0.7777777777777778,\"#fb9f3a\"],[0.8888888888888888,\"#fdca26\"],[1.0,\"#f0f921\"]],\"sequentialminus\":[[0.0,\"#0d0887\"],[0.1111111111111111,\"#46039f\"],[0.2222222222222222,\"#7201a8\"],[0.3333333333333333,\"#9c179e\"],[0.4444444444444444,\"#bd3786\"],[0.5555555555555556,\"#d8576b\"],[0.6666666666666666,\"#ed7953\"],[0.7777777777777778,\"#fb9f3a\"],[0.8888888888888888,\"#fdca26\"],[1.0,\"#f0f921\"]],\"diverging\":[[0,\"#8e0152\"],[0.1,\"#c51b7d\"],[0.2,\"#de77ae\"],[0.3,\"#f1b6da\"],[0.4,\"#fde0ef\"],[0.5,\"#f7f7f7\"],[0.6,\"#e6f5d0\"],[0.7,\"#b8e186\"],[0.8,\"#7fbc41\"],[0.9,\"#4d9221\"],[1,\"#276419\"]]},\"xaxis\":{\"gridcolor\":\"white\",\"linecolor\":\"white\",\"ticks\":\"\",\"title\":{\"standoff\":15},\"zerolinecolor\":\"white\",\"automargin\":true,\"zerolinewidth\":2},\"yaxis\":{\"gridcolor\":\"white\",\"linecolor\":\"white\",\"ticks\":\"\",\"title\":{\"standoff\":15},\"zerolinecolor\":\"white\",\"automargin\":true,\"zerolinewidth\":2},\"scene\":{\"xaxis\":{\"backgroundcolor\":\"#E5ECF6\",\"gridcolor\":\"white\",\"linecolor\":\"white\",\"showbackground\":true,\"ticks\":\"\",\"zerolinecolor\":\"white\",\"gridwidth\":2},\"yaxis\":{\"backgroundcolor\":\"#E5ECF6\",\"gridcolor\":\"white\",\"linecolor\":\"white\",\"showbackground\":true,\"ticks\":\"\",\"zerolinecolor\":\"white\",\"gridwidth\":2},\"zaxis\":{\"backgroundcolor\":\"#E5ECF6\",\"gridcolor\":\"white\",\"linecolor\":\"white\",\"showbackground\":true,\"ticks\":\"\",\"zerolinecolor\":\"white\",\"gridwidth\":2}},\"shapedefaults\":{\"line\":{\"color\":\"#2a3f5f\"}},\"annotationdefaults\":{\"arrowcolor\":\"#2a3f5f\",\"arrowhead\":0,\"arrowwidth\":1},\"geo\":{\"bgcolor\":\"white\",\"landcolor\":\"#E5ECF6\",\"subunitcolor\":\"white\",\"showland\":true,\"showlakes\":true,\"lakecolor\":\"white\"},\"title\":{\"x\":0.05},\"mapbox\":{\"style\":\"light\"}}}},                        {\"responsive\": true}                    ).then(function(){\n",
       "                            \n",
       "var gd = document.getElementById('cd5c602e-c748-4fc7-a992-5b877dfda676');\n",
       "var x = new MutationObserver(function (mutations, observer) {{\n",
       "        var display = window.getComputedStyle(gd).display;\n",
       "        if (!display || display === 'none') {{\n",
       "            console.log([gd, 'removed!']);\n",
       "            Plotly.purge(gd);\n",
       "            observer.disconnect();\n",
       "        }}\n",
       "}});\n",
       "\n",
       "// Listen for the removal of the full notebook cells\n",
       "var notebookContainer = gd.closest('#notebook-container');\n",
       "if (notebookContainer) {{\n",
       "    x.observe(notebookContainer, {childList: true});\n",
       "}}\n",
       "\n",
       "// Listen for the clearing of the current output cell\n",
       "var outputEl = gd.closest('.output');\n",
       "if (outputEl) {{\n",
       "    x.observe(outputEl, {childList: true});\n",
       "}}\n",
       "\n",
       "                        })                };                });            </script>        </div>"
      ]
     },
     "metadata": {},
     "output_type": "display_data"
    }
   ],
   "source": [
    "fig = go.Figure()\n",
    "fig.add_trace(go.Mesh3d(x=x_plot, y=y_plot, z=z1, opacity=0.7))\n",
    "fig.add_trace(go.Mesh3d(x=x_plot, y=y_plot, z=z2, opacity=0.5))\n",
    "fig.add_trace(go.Mesh3d(x=x_plot, y=y_plot, z=z3, opacity=0.5))\n",
    "fig.add_trace(go.Mesh3d(x=x_plot, y=y_plot, z=z4, opacity=0.5))\n",
    "fig.add_trace(go.Scatter3d(x=np.array(res.x[0]), y=np.array(res.x[1]), z=np.array(res_z), mode='markers'))\n",
    "fig.show()"
   ]
  },
  {
   "cell_type": "code",
   "execution_count": 109,
   "id": "6d828967",
   "metadata": {},
   "outputs": [],
   "source": [
    "c1=[]\n",
    "c2=[]\n",
    "c3=[]\n",
    "c4=[]\n",
    "\n",
    "for i in x:\n",
    "    c1.append(i*i+50)\n",
    "    c2.append(-25*i + 8000)\n",
    "    c3.append(-32*i+7000)\n",
    "    c4.append(g(i, i+1))"
   ]
  },
  {
   "cell_type": "code",
   "execution_count": 110,
   "id": "6cb62bbf",
   "metadata": {},
   "outputs": [
    {
     "data": {
      "application/vnd.plotly.v1+json": {
       "config": {
        "plotlyServerURL": "https://plot.ly"
       },
       "data": [
        {
         "mode": "lines",
         "type": "scatter",
         "x": [
          1,
          2,
          3,
          4,
          5,
          6,
          7,
          8,
          9,
          10,
          11,
          12,
          13,
          14,
          15,
          16,
          17,
          18,
          19,
          20,
          21,
          22,
          23,
          24,
          25,
          26,
          27,
          28,
          29,
          30,
          31,
          32,
          33,
          34,
          35,
          36,
          37,
          38,
          39,
          40,
          41,
          42,
          43,
          44,
          45,
          46,
          47,
          48,
          49,
          50,
          51,
          52,
          53,
          54,
          55,
          56,
          57,
          58,
          59,
          60,
          61,
          62,
          63,
          64,
          65,
          66,
          67,
          68,
          69,
          70,
          71,
          72,
          73,
          74,
          75,
          76,
          77,
          78,
          79,
          80,
          81,
          82,
          83,
          84,
          85,
          86,
          87,
          88,
          89,
          90,
          91,
          92,
          93,
          94,
          95,
          96,
          97,
          98,
          99
         ],
         "y": [
          51,
          54,
          59,
          66,
          75,
          86,
          99,
          114,
          131,
          150,
          171,
          194,
          219,
          246,
          275,
          306,
          339,
          374,
          411,
          450,
          491,
          534,
          579,
          626,
          675,
          726,
          779,
          834,
          891,
          950,
          1011,
          1074,
          1139,
          1206,
          1275,
          1346,
          1419,
          1494,
          1571,
          1650,
          1731,
          1814,
          1899,
          1986,
          2075,
          2166,
          2259,
          2354,
          2451,
          2550,
          2651,
          2754,
          2859,
          2966,
          3075,
          3186,
          3299,
          3414,
          3531,
          3650,
          3771,
          3894,
          4019,
          4146,
          4275,
          4406,
          4539,
          4674,
          4811,
          4950,
          5091,
          5234,
          5379,
          5526,
          5675,
          5826,
          5979,
          6134,
          6291,
          6450,
          6611,
          6774,
          6939,
          7106,
          7275,
          7446,
          7619,
          7794,
          7971,
          8150,
          8331,
          8514,
          8699,
          8886,
          9075,
          9266,
          9459,
          9654,
          9851
         ]
        },
        {
         "mode": "lines",
         "type": "scatter",
         "x": [
          1,
          2,
          3,
          4,
          5,
          6,
          7,
          8,
          9,
          10,
          11,
          12,
          13,
          14,
          15,
          16,
          17,
          18,
          19,
          20,
          21,
          22,
          23,
          24,
          25,
          26,
          27,
          28,
          29,
          30,
          31,
          32,
          33,
          34,
          35,
          36,
          37,
          38,
          39,
          40,
          41,
          42,
          43,
          44,
          45,
          46,
          47,
          48,
          49,
          50,
          51,
          52,
          53,
          54,
          55,
          56,
          57,
          58,
          59,
          60,
          61,
          62,
          63,
          64,
          65,
          66,
          67,
          68,
          69,
          70,
          71,
          72,
          73,
          74,
          75,
          76,
          77,
          78,
          79,
          80,
          81,
          82,
          83,
          84,
          85,
          86,
          87,
          88,
          89,
          90,
          91,
          92,
          93,
          94,
          95,
          96,
          97,
          98,
          99
         ],
         "y": [
          7975,
          7950,
          7925,
          7900,
          7875,
          7850,
          7825,
          7800,
          7775,
          7750,
          7725,
          7700,
          7675,
          7650,
          7625,
          7600,
          7575,
          7550,
          7525,
          7500,
          7475,
          7450,
          7425,
          7400,
          7375,
          7350,
          7325,
          7300,
          7275,
          7250,
          7225,
          7200,
          7175,
          7150,
          7125,
          7100,
          7075,
          7050,
          7025,
          7000,
          6975,
          6950,
          6925,
          6900,
          6875,
          6850,
          6825,
          6800,
          6775,
          6750,
          6725,
          6700,
          6675,
          6650,
          6625,
          6600,
          6575,
          6550,
          6525,
          6500,
          6475,
          6450,
          6425,
          6400,
          6375,
          6350,
          6325,
          6300,
          6275,
          6250,
          6225,
          6200,
          6175,
          6150,
          6125,
          6100,
          6075,
          6050,
          6025,
          6000,
          5975,
          5950,
          5925,
          5900,
          5875,
          5850,
          5825,
          5800,
          5775,
          5750,
          5725,
          5700,
          5675,
          5650,
          5625,
          5600,
          5575,
          5550,
          5525
         ]
        },
        {
         "mode": "lines",
         "type": "scatter",
         "x": [
          1,
          2,
          3,
          4,
          5,
          6,
          7,
          8,
          9,
          10,
          11,
          12,
          13,
          14,
          15,
          16,
          17,
          18,
          19,
          20,
          21,
          22,
          23,
          24,
          25,
          26,
          27,
          28,
          29,
          30,
          31,
          32,
          33,
          34,
          35,
          36,
          37,
          38,
          39,
          40,
          41,
          42,
          43,
          44,
          45,
          46,
          47,
          48,
          49,
          50,
          51,
          52,
          53,
          54,
          55,
          56,
          57,
          58,
          59,
          60,
          61,
          62,
          63,
          64,
          65,
          66,
          67,
          68,
          69,
          70,
          71,
          72,
          73,
          74,
          75,
          76,
          77,
          78,
          79,
          80,
          81,
          82,
          83,
          84,
          85,
          86,
          87,
          88,
          89,
          90,
          91,
          92,
          93,
          94,
          95,
          96,
          97,
          98,
          99
         ],
         "y": [
          6968,
          6936,
          6904,
          6872,
          6840,
          6808,
          6776,
          6744,
          6712,
          6680,
          6648,
          6616,
          6584,
          6552,
          6520,
          6488,
          6456,
          6424,
          6392,
          6360,
          6328,
          6296,
          6264,
          6232,
          6200,
          6168,
          6136,
          6104,
          6072,
          6040,
          6008,
          5976,
          5944,
          5912,
          5880,
          5848,
          5816,
          5784,
          5752,
          5720,
          5688,
          5656,
          5624,
          5592,
          5560,
          5528,
          5496,
          5464,
          5432,
          5400,
          5368,
          5336,
          5304,
          5272,
          5240,
          5208,
          5176,
          5144,
          5112,
          5080,
          5048,
          5016,
          4984,
          4952,
          4920,
          4888,
          4856,
          4824,
          4792,
          4760,
          4728,
          4696,
          4664,
          4632,
          4600,
          4568,
          4536,
          4504,
          4472,
          4440,
          4408,
          4376,
          4344,
          4312,
          4280,
          4248,
          4216,
          4184,
          4152,
          4120,
          4088,
          4056,
          4024,
          3992,
          3960,
          3928,
          3896,
          3864,
          3832
         ]
        },
        {
         "mode": "lines",
         "type": "scatter",
         "x": [
          1,
          2,
          3,
          4,
          5,
          6,
          7,
          8,
          9,
          10,
          11,
          12,
          13,
          14,
          15,
          16,
          17,
          18,
          19,
          20,
          21,
          22,
          23,
          24,
          25,
          26,
          27,
          28,
          29,
          30,
          31,
          32,
          33,
          34,
          35,
          36,
          37,
          38,
          39,
          40,
          41,
          42,
          43,
          44,
          45,
          46,
          47,
          48,
          49,
          50,
          51,
          52,
          53,
          54,
          55,
          56,
          57,
          58,
          59,
          60,
          61,
          62,
          63,
          64,
          65,
          66,
          67,
          68,
          69,
          70,
          71,
          72,
          73,
          74,
          75,
          76,
          77,
          78,
          79,
          80,
          81,
          82,
          83,
          84,
          85,
          86,
          87,
          88,
          89,
          90,
          91,
          92,
          93,
          94,
          95,
          96,
          97,
          98,
          99
         ],
         "y": [
          0.25,
          1.25,
          6.25,
          15.25,
          28.25,
          45.25,
          66.25,
          91.25,
          120.25,
          153.25,
          190.25,
          231.25,
          276.25,
          325.25,
          378.25,
          435.25,
          496.25,
          561.25,
          630.25,
          703.25,
          780.25,
          861.25,
          946.25,
          1035.25,
          1128.25,
          1225.25,
          1326.25,
          1431.25,
          1540.25,
          1653.25,
          1770.25,
          1891.25,
          2016.25,
          2145.25,
          2278.25,
          2415.25,
          2556.25,
          2701.25,
          2850.25,
          3003.25,
          3160.25,
          3321.25,
          3486.25,
          3655.25,
          3828.25,
          4005.25,
          4186.25,
          4371.25,
          4560.25,
          4753.25,
          4950.25,
          5151.25,
          5356.25,
          5565.25,
          5778.25,
          5995.25,
          6216.25,
          6441.25,
          6670.25,
          6903.25,
          7140.25,
          7381.25,
          7626.25,
          7875.25,
          8128.25,
          8385.25,
          8646.25,
          8911.25,
          9180.25,
          9453.25,
          9730.25,
          10011.25,
          10296.25,
          10585.25,
          10878.25,
          11175.25,
          11476.25,
          11781.25,
          12090.25,
          12403.25,
          12720.25,
          13041.25,
          13366.25,
          13695.25,
          14028.25,
          14365.25,
          14706.25,
          15051.25,
          15400.25,
          15753.25,
          16110.25,
          16471.25,
          16836.25,
          17205.25,
          17578.25,
          17955.25,
          18336.25,
          18721.25,
          19110.25
         ]
        }
       ],
       "layout": {
        "template": {
         "data": {
          "bar": [
           {
            "error_x": {
             "color": "#2a3f5f"
            },
            "error_y": {
             "color": "#2a3f5f"
            },
            "marker": {
             "line": {
              "color": "#E5ECF6",
              "width": 0.5
             },
             "pattern": {
              "fillmode": "overlay",
              "size": 10,
              "solidity": 0.2
             }
            },
            "type": "bar"
           }
          ],
          "barpolar": [
           {
            "marker": {
             "line": {
              "color": "#E5ECF6",
              "width": 0.5
             },
             "pattern": {
              "fillmode": "overlay",
              "size": 10,
              "solidity": 0.2
             }
            },
            "type": "barpolar"
           }
          ],
          "carpet": [
           {
            "aaxis": {
             "endlinecolor": "#2a3f5f",
             "gridcolor": "white",
             "linecolor": "white",
             "minorgridcolor": "white",
             "startlinecolor": "#2a3f5f"
            },
            "baxis": {
             "endlinecolor": "#2a3f5f",
             "gridcolor": "white",
             "linecolor": "white",
             "minorgridcolor": "white",
             "startlinecolor": "#2a3f5f"
            },
            "type": "carpet"
           }
          ],
          "choropleth": [
           {
            "colorbar": {
             "outlinewidth": 0,
             "ticks": ""
            },
            "type": "choropleth"
           }
          ],
          "contour": [
           {
            "colorbar": {
             "outlinewidth": 0,
             "ticks": ""
            },
            "colorscale": [
             [
              0,
              "#0d0887"
             ],
             [
              0.1111111111111111,
              "#46039f"
             ],
             [
              0.2222222222222222,
              "#7201a8"
             ],
             [
              0.3333333333333333,
              "#9c179e"
             ],
             [
              0.4444444444444444,
              "#bd3786"
             ],
             [
              0.5555555555555556,
              "#d8576b"
             ],
             [
              0.6666666666666666,
              "#ed7953"
             ],
             [
              0.7777777777777778,
              "#fb9f3a"
             ],
             [
              0.8888888888888888,
              "#fdca26"
             ],
             [
              1,
              "#f0f921"
             ]
            ],
            "type": "contour"
           }
          ],
          "contourcarpet": [
           {
            "colorbar": {
             "outlinewidth": 0,
             "ticks": ""
            },
            "type": "contourcarpet"
           }
          ],
          "heatmap": [
           {
            "colorbar": {
             "outlinewidth": 0,
             "ticks": ""
            },
            "colorscale": [
             [
              0,
              "#0d0887"
             ],
             [
              0.1111111111111111,
              "#46039f"
             ],
             [
              0.2222222222222222,
              "#7201a8"
             ],
             [
              0.3333333333333333,
              "#9c179e"
             ],
             [
              0.4444444444444444,
              "#bd3786"
             ],
             [
              0.5555555555555556,
              "#d8576b"
             ],
             [
              0.6666666666666666,
              "#ed7953"
             ],
             [
              0.7777777777777778,
              "#fb9f3a"
             ],
             [
              0.8888888888888888,
              "#fdca26"
             ],
             [
              1,
              "#f0f921"
             ]
            ],
            "type": "heatmap"
           }
          ],
          "heatmapgl": [
           {
            "colorbar": {
             "outlinewidth": 0,
             "ticks": ""
            },
            "colorscale": [
             [
              0,
              "#0d0887"
             ],
             [
              0.1111111111111111,
              "#46039f"
             ],
             [
              0.2222222222222222,
              "#7201a8"
             ],
             [
              0.3333333333333333,
              "#9c179e"
             ],
             [
              0.4444444444444444,
              "#bd3786"
             ],
             [
              0.5555555555555556,
              "#d8576b"
             ],
             [
              0.6666666666666666,
              "#ed7953"
             ],
             [
              0.7777777777777778,
              "#fb9f3a"
             ],
             [
              0.8888888888888888,
              "#fdca26"
             ],
             [
              1,
              "#f0f921"
             ]
            ],
            "type": "heatmapgl"
           }
          ],
          "histogram": [
           {
            "marker": {
             "pattern": {
              "fillmode": "overlay",
              "size": 10,
              "solidity": 0.2
             }
            },
            "type": "histogram"
           }
          ],
          "histogram2d": [
           {
            "colorbar": {
             "outlinewidth": 0,
             "ticks": ""
            },
            "colorscale": [
             [
              0,
              "#0d0887"
             ],
             [
              0.1111111111111111,
              "#46039f"
             ],
             [
              0.2222222222222222,
              "#7201a8"
             ],
             [
              0.3333333333333333,
              "#9c179e"
             ],
             [
              0.4444444444444444,
              "#bd3786"
             ],
             [
              0.5555555555555556,
              "#d8576b"
             ],
             [
              0.6666666666666666,
              "#ed7953"
             ],
             [
              0.7777777777777778,
              "#fb9f3a"
             ],
             [
              0.8888888888888888,
              "#fdca26"
             ],
             [
              1,
              "#f0f921"
             ]
            ],
            "type": "histogram2d"
           }
          ],
          "histogram2dcontour": [
           {
            "colorbar": {
             "outlinewidth": 0,
             "ticks": ""
            },
            "colorscale": [
             [
              0,
              "#0d0887"
             ],
             [
              0.1111111111111111,
              "#46039f"
             ],
             [
              0.2222222222222222,
              "#7201a8"
             ],
             [
              0.3333333333333333,
              "#9c179e"
             ],
             [
              0.4444444444444444,
              "#bd3786"
             ],
             [
              0.5555555555555556,
              "#d8576b"
             ],
             [
              0.6666666666666666,
              "#ed7953"
             ],
             [
              0.7777777777777778,
              "#fb9f3a"
             ],
             [
              0.8888888888888888,
              "#fdca26"
             ],
             [
              1,
              "#f0f921"
             ]
            ],
            "type": "histogram2dcontour"
           }
          ],
          "mesh3d": [
           {
            "colorbar": {
             "outlinewidth": 0,
             "ticks": ""
            },
            "type": "mesh3d"
           }
          ],
          "parcoords": [
           {
            "line": {
             "colorbar": {
              "outlinewidth": 0,
              "ticks": ""
             }
            },
            "type": "parcoords"
           }
          ],
          "pie": [
           {
            "automargin": true,
            "type": "pie"
           }
          ],
          "scatter": [
           {
            "fillpattern": {
             "fillmode": "overlay",
             "size": 10,
             "solidity": 0.2
            },
            "type": "scatter"
           }
          ],
          "scatter3d": [
           {
            "line": {
             "colorbar": {
              "outlinewidth": 0,
              "ticks": ""
             }
            },
            "marker": {
             "colorbar": {
              "outlinewidth": 0,
              "ticks": ""
             }
            },
            "type": "scatter3d"
           }
          ],
          "scattercarpet": [
           {
            "marker": {
             "colorbar": {
              "outlinewidth": 0,
              "ticks": ""
             }
            },
            "type": "scattercarpet"
           }
          ],
          "scattergeo": [
           {
            "marker": {
             "colorbar": {
              "outlinewidth": 0,
              "ticks": ""
             }
            },
            "type": "scattergeo"
           }
          ],
          "scattergl": [
           {
            "marker": {
             "colorbar": {
              "outlinewidth": 0,
              "ticks": ""
             }
            },
            "type": "scattergl"
           }
          ],
          "scattermapbox": [
           {
            "marker": {
             "colorbar": {
              "outlinewidth": 0,
              "ticks": ""
             }
            },
            "type": "scattermapbox"
           }
          ],
          "scatterpolar": [
           {
            "marker": {
             "colorbar": {
              "outlinewidth": 0,
              "ticks": ""
             }
            },
            "type": "scatterpolar"
           }
          ],
          "scatterpolargl": [
           {
            "marker": {
             "colorbar": {
              "outlinewidth": 0,
              "ticks": ""
             }
            },
            "type": "scatterpolargl"
           }
          ],
          "scatterternary": [
           {
            "marker": {
             "colorbar": {
              "outlinewidth": 0,
              "ticks": ""
             }
            },
            "type": "scatterternary"
           }
          ],
          "surface": [
           {
            "colorbar": {
             "outlinewidth": 0,
             "ticks": ""
            },
            "colorscale": [
             [
              0,
              "#0d0887"
             ],
             [
              0.1111111111111111,
              "#46039f"
             ],
             [
              0.2222222222222222,
              "#7201a8"
             ],
             [
              0.3333333333333333,
              "#9c179e"
             ],
             [
              0.4444444444444444,
              "#bd3786"
             ],
             [
              0.5555555555555556,
              "#d8576b"
             ],
             [
              0.6666666666666666,
              "#ed7953"
             ],
             [
              0.7777777777777778,
              "#fb9f3a"
             ],
             [
              0.8888888888888888,
              "#fdca26"
             ],
             [
              1,
              "#f0f921"
             ]
            ],
            "type": "surface"
           }
          ],
          "table": [
           {
            "cells": {
             "fill": {
              "color": "#EBF0F8"
             },
             "line": {
              "color": "white"
             }
            },
            "header": {
             "fill": {
              "color": "#C8D4E3"
             },
             "line": {
              "color": "white"
             }
            },
            "type": "table"
           }
          ]
         },
         "layout": {
          "annotationdefaults": {
           "arrowcolor": "#2a3f5f",
           "arrowhead": 0,
           "arrowwidth": 1
          },
          "autotypenumbers": "strict",
          "coloraxis": {
           "colorbar": {
            "outlinewidth": 0,
            "ticks": ""
           }
          },
          "colorscale": {
           "diverging": [
            [
             0,
             "#8e0152"
            ],
            [
             0.1,
             "#c51b7d"
            ],
            [
             0.2,
             "#de77ae"
            ],
            [
             0.3,
             "#f1b6da"
            ],
            [
             0.4,
             "#fde0ef"
            ],
            [
             0.5,
             "#f7f7f7"
            ],
            [
             0.6,
             "#e6f5d0"
            ],
            [
             0.7,
             "#b8e186"
            ],
            [
             0.8,
             "#7fbc41"
            ],
            [
             0.9,
             "#4d9221"
            ],
            [
             1,
             "#276419"
            ]
           ],
           "sequential": [
            [
             0,
             "#0d0887"
            ],
            [
             0.1111111111111111,
             "#46039f"
            ],
            [
             0.2222222222222222,
             "#7201a8"
            ],
            [
             0.3333333333333333,
             "#9c179e"
            ],
            [
             0.4444444444444444,
             "#bd3786"
            ],
            [
             0.5555555555555556,
             "#d8576b"
            ],
            [
             0.6666666666666666,
             "#ed7953"
            ],
            [
             0.7777777777777778,
             "#fb9f3a"
            ],
            [
             0.8888888888888888,
             "#fdca26"
            ],
            [
             1,
             "#f0f921"
            ]
           ],
           "sequentialminus": [
            [
             0,
             "#0d0887"
            ],
            [
             0.1111111111111111,
             "#46039f"
            ],
            [
             0.2222222222222222,
             "#7201a8"
            ],
            [
             0.3333333333333333,
             "#9c179e"
            ],
            [
             0.4444444444444444,
             "#bd3786"
            ],
            [
             0.5555555555555556,
             "#d8576b"
            ],
            [
             0.6666666666666666,
             "#ed7953"
            ],
            [
             0.7777777777777778,
             "#fb9f3a"
            ],
            [
             0.8888888888888888,
             "#fdca26"
            ],
            [
             1,
             "#f0f921"
            ]
           ]
          },
          "colorway": [
           "#636efa",
           "#EF553B",
           "#00cc96",
           "#ab63fa",
           "#FFA15A",
           "#19d3f3",
           "#FF6692",
           "#B6E880",
           "#FF97FF",
           "#FECB52"
          ],
          "font": {
           "color": "#2a3f5f"
          },
          "geo": {
           "bgcolor": "white",
           "lakecolor": "white",
           "landcolor": "#E5ECF6",
           "showlakes": true,
           "showland": true,
           "subunitcolor": "white"
          },
          "hoverlabel": {
           "align": "left"
          },
          "hovermode": "closest",
          "mapbox": {
           "style": "light"
          },
          "paper_bgcolor": "white",
          "plot_bgcolor": "#E5ECF6",
          "polar": {
           "angularaxis": {
            "gridcolor": "white",
            "linecolor": "white",
            "ticks": ""
           },
           "bgcolor": "#E5ECF6",
           "radialaxis": {
            "gridcolor": "white",
            "linecolor": "white",
            "ticks": ""
           }
          },
          "scene": {
           "xaxis": {
            "backgroundcolor": "#E5ECF6",
            "gridcolor": "white",
            "gridwidth": 2,
            "linecolor": "white",
            "showbackground": true,
            "ticks": "",
            "zerolinecolor": "white"
           },
           "yaxis": {
            "backgroundcolor": "#E5ECF6",
            "gridcolor": "white",
            "gridwidth": 2,
            "linecolor": "white",
            "showbackground": true,
            "ticks": "",
            "zerolinecolor": "white"
           },
           "zaxis": {
            "backgroundcolor": "#E5ECF6",
            "gridcolor": "white",
            "gridwidth": 2,
            "linecolor": "white",
            "showbackground": true,
            "ticks": "",
            "zerolinecolor": "white"
           }
          },
          "shapedefaults": {
           "line": {
            "color": "#2a3f5f"
           }
          },
          "ternary": {
           "aaxis": {
            "gridcolor": "white",
            "linecolor": "white",
            "ticks": ""
           },
           "baxis": {
            "gridcolor": "white",
            "linecolor": "white",
            "ticks": ""
           },
           "bgcolor": "#E5ECF6",
           "caxis": {
            "gridcolor": "white",
            "linecolor": "white",
            "ticks": ""
           }
          },
          "title": {
           "x": 0.05
          },
          "xaxis": {
           "automargin": true,
           "gridcolor": "white",
           "linecolor": "white",
           "ticks": "",
           "title": {
            "standoff": 15
           },
           "zerolinecolor": "white",
           "zerolinewidth": 2
          },
          "yaxis": {
           "automargin": true,
           "gridcolor": "white",
           "linecolor": "white",
           "ticks": "",
           "title": {
            "standoff": 15
           },
           "zerolinecolor": "white",
           "zerolinewidth": 2
          }
         }
        }
       }
      },
      "text/html": [
       "<div>                            <div id=\"b453b85b-f794-4676-9add-7ff7d76af738\" class=\"plotly-graph-div\" style=\"height:525px; width:100%;\"></div>            <script type=\"text/javascript\">                require([\"plotly\"], function(Plotly) {                    window.PLOTLYENV=window.PLOTLYENV || {};                                    if (document.getElementById(\"b453b85b-f794-4676-9add-7ff7d76af738\")) {                    Plotly.newPlot(                        \"b453b85b-f794-4676-9add-7ff7d76af738\",                        [{\"mode\":\"lines\",\"x\":[1,2,3,4,5,6,7,8,9,10,11,12,13,14,15,16,17,18,19,20,21,22,23,24,25,26,27,28,29,30,31,32,33,34,35,36,37,38,39,40,41,42,43,44,45,46,47,48,49,50,51,52,53,54,55,56,57,58,59,60,61,62,63,64,65,66,67,68,69,70,71,72,73,74,75,76,77,78,79,80,81,82,83,84,85,86,87,88,89,90,91,92,93,94,95,96,97,98,99],\"y\":[51,54,59,66,75,86,99,114,131,150,171,194,219,246,275,306,339,374,411,450,491,534,579,626,675,726,779,834,891,950,1011,1074,1139,1206,1275,1346,1419,1494,1571,1650,1731,1814,1899,1986,2075,2166,2259,2354,2451,2550,2651,2754,2859,2966,3075,3186,3299,3414,3531,3650,3771,3894,4019,4146,4275,4406,4539,4674,4811,4950,5091,5234,5379,5526,5675,5826,5979,6134,6291,6450,6611,6774,6939,7106,7275,7446,7619,7794,7971,8150,8331,8514,8699,8886,9075,9266,9459,9654,9851],\"type\":\"scatter\"},{\"mode\":\"lines\",\"x\":[1,2,3,4,5,6,7,8,9,10,11,12,13,14,15,16,17,18,19,20,21,22,23,24,25,26,27,28,29,30,31,32,33,34,35,36,37,38,39,40,41,42,43,44,45,46,47,48,49,50,51,52,53,54,55,56,57,58,59,60,61,62,63,64,65,66,67,68,69,70,71,72,73,74,75,76,77,78,79,80,81,82,83,84,85,86,87,88,89,90,91,92,93,94,95,96,97,98,99],\"y\":[7975,7950,7925,7900,7875,7850,7825,7800,7775,7750,7725,7700,7675,7650,7625,7600,7575,7550,7525,7500,7475,7450,7425,7400,7375,7350,7325,7300,7275,7250,7225,7200,7175,7150,7125,7100,7075,7050,7025,7000,6975,6950,6925,6900,6875,6850,6825,6800,6775,6750,6725,6700,6675,6650,6625,6600,6575,6550,6525,6500,6475,6450,6425,6400,6375,6350,6325,6300,6275,6250,6225,6200,6175,6150,6125,6100,6075,6050,6025,6000,5975,5950,5925,5900,5875,5850,5825,5800,5775,5750,5725,5700,5675,5650,5625,5600,5575,5550,5525],\"type\":\"scatter\"},{\"mode\":\"lines\",\"x\":[1,2,3,4,5,6,7,8,9,10,11,12,13,14,15,16,17,18,19,20,21,22,23,24,25,26,27,28,29,30,31,32,33,34,35,36,37,38,39,40,41,42,43,44,45,46,47,48,49,50,51,52,53,54,55,56,57,58,59,60,61,62,63,64,65,66,67,68,69,70,71,72,73,74,75,76,77,78,79,80,81,82,83,84,85,86,87,88,89,90,91,92,93,94,95,96,97,98,99],\"y\":[6968,6936,6904,6872,6840,6808,6776,6744,6712,6680,6648,6616,6584,6552,6520,6488,6456,6424,6392,6360,6328,6296,6264,6232,6200,6168,6136,6104,6072,6040,6008,5976,5944,5912,5880,5848,5816,5784,5752,5720,5688,5656,5624,5592,5560,5528,5496,5464,5432,5400,5368,5336,5304,5272,5240,5208,5176,5144,5112,5080,5048,5016,4984,4952,4920,4888,4856,4824,4792,4760,4728,4696,4664,4632,4600,4568,4536,4504,4472,4440,4408,4376,4344,4312,4280,4248,4216,4184,4152,4120,4088,4056,4024,3992,3960,3928,3896,3864,3832],\"type\":\"scatter\"},{\"mode\":\"lines\",\"x\":[1,2,3,4,5,6,7,8,9,10,11,12,13,14,15,16,17,18,19,20,21,22,23,24,25,26,27,28,29,30,31,32,33,34,35,36,37,38,39,40,41,42,43,44,45,46,47,48,49,50,51,52,53,54,55,56,57,58,59,60,61,62,63,64,65,66,67,68,69,70,71,72,73,74,75,76,77,78,79,80,81,82,83,84,85,86,87,88,89,90,91,92,93,94,95,96,97,98,99],\"y\":[0.25,1.25,6.25,15.25,28.25,45.25,66.25,91.25,120.25,153.25,190.25,231.25,276.25,325.25,378.25,435.25,496.25,561.25,630.25,703.25,780.25,861.25,946.25,1035.25,1128.25,1225.25,1326.25,1431.25,1540.25,1653.25,1770.25,1891.25,2016.25,2145.25,2278.25,2415.25,2556.25,2701.25,2850.25,3003.25,3160.25,3321.25,3486.25,3655.25,3828.25,4005.25,4186.25,4371.25,4560.25,4753.25,4950.25,5151.25,5356.25,5565.25,5778.25,5995.25,6216.25,6441.25,6670.25,6903.25,7140.25,7381.25,7626.25,7875.25,8128.25,8385.25,8646.25,8911.25,9180.25,9453.25,9730.25,10011.25,10296.25,10585.25,10878.25,11175.25,11476.25,11781.25,12090.25,12403.25,12720.25,13041.25,13366.25,13695.25,14028.25,14365.25,14706.25,15051.25,15400.25,15753.25,16110.25,16471.25,16836.25,17205.25,17578.25,17955.25,18336.25,18721.25,19110.25],\"type\":\"scatter\"}],                        {\"template\":{\"data\":{\"histogram2dcontour\":[{\"type\":\"histogram2dcontour\",\"colorbar\":{\"outlinewidth\":0,\"ticks\":\"\"},\"colorscale\":[[0.0,\"#0d0887\"],[0.1111111111111111,\"#46039f\"],[0.2222222222222222,\"#7201a8\"],[0.3333333333333333,\"#9c179e\"],[0.4444444444444444,\"#bd3786\"],[0.5555555555555556,\"#d8576b\"],[0.6666666666666666,\"#ed7953\"],[0.7777777777777778,\"#fb9f3a\"],[0.8888888888888888,\"#fdca26\"],[1.0,\"#f0f921\"]]}],\"choropleth\":[{\"type\":\"choropleth\",\"colorbar\":{\"outlinewidth\":0,\"ticks\":\"\"}}],\"histogram2d\":[{\"type\":\"histogram2d\",\"colorbar\":{\"outlinewidth\":0,\"ticks\":\"\"},\"colorscale\":[[0.0,\"#0d0887\"],[0.1111111111111111,\"#46039f\"],[0.2222222222222222,\"#7201a8\"],[0.3333333333333333,\"#9c179e\"],[0.4444444444444444,\"#bd3786\"],[0.5555555555555556,\"#d8576b\"],[0.6666666666666666,\"#ed7953\"],[0.7777777777777778,\"#fb9f3a\"],[0.8888888888888888,\"#fdca26\"],[1.0,\"#f0f921\"]]}],\"heatmap\":[{\"type\":\"heatmap\",\"colorbar\":{\"outlinewidth\":0,\"ticks\":\"\"},\"colorscale\":[[0.0,\"#0d0887\"],[0.1111111111111111,\"#46039f\"],[0.2222222222222222,\"#7201a8\"],[0.3333333333333333,\"#9c179e\"],[0.4444444444444444,\"#bd3786\"],[0.5555555555555556,\"#d8576b\"],[0.6666666666666666,\"#ed7953\"],[0.7777777777777778,\"#fb9f3a\"],[0.8888888888888888,\"#fdca26\"],[1.0,\"#f0f921\"]]}],\"heatmapgl\":[{\"type\":\"heatmapgl\",\"colorbar\":{\"outlinewidth\":0,\"ticks\":\"\"},\"colorscale\":[[0.0,\"#0d0887\"],[0.1111111111111111,\"#46039f\"],[0.2222222222222222,\"#7201a8\"],[0.3333333333333333,\"#9c179e\"],[0.4444444444444444,\"#bd3786\"],[0.5555555555555556,\"#d8576b\"],[0.6666666666666666,\"#ed7953\"],[0.7777777777777778,\"#fb9f3a\"],[0.8888888888888888,\"#fdca26\"],[1.0,\"#f0f921\"]]}],\"contourcarpet\":[{\"type\":\"contourcarpet\",\"colorbar\":{\"outlinewidth\":0,\"ticks\":\"\"}}],\"contour\":[{\"type\":\"contour\",\"colorbar\":{\"outlinewidth\":0,\"ticks\":\"\"},\"colorscale\":[[0.0,\"#0d0887\"],[0.1111111111111111,\"#46039f\"],[0.2222222222222222,\"#7201a8\"],[0.3333333333333333,\"#9c179e\"],[0.4444444444444444,\"#bd3786\"],[0.5555555555555556,\"#d8576b\"],[0.6666666666666666,\"#ed7953\"],[0.7777777777777778,\"#fb9f3a\"],[0.8888888888888888,\"#fdca26\"],[1.0,\"#f0f921\"]]}],\"surface\":[{\"type\":\"surface\",\"colorbar\":{\"outlinewidth\":0,\"ticks\":\"\"},\"colorscale\":[[0.0,\"#0d0887\"],[0.1111111111111111,\"#46039f\"],[0.2222222222222222,\"#7201a8\"],[0.3333333333333333,\"#9c179e\"],[0.4444444444444444,\"#bd3786\"],[0.5555555555555556,\"#d8576b\"],[0.6666666666666666,\"#ed7953\"],[0.7777777777777778,\"#fb9f3a\"],[0.8888888888888888,\"#fdca26\"],[1.0,\"#f0f921\"]]}],\"mesh3d\":[{\"type\":\"mesh3d\",\"colorbar\":{\"outlinewidth\":0,\"ticks\":\"\"}}],\"scatter\":[{\"fillpattern\":{\"fillmode\":\"overlay\",\"size\":10,\"solidity\":0.2},\"type\":\"scatter\"}],\"parcoords\":[{\"type\":\"parcoords\",\"line\":{\"colorbar\":{\"outlinewidth\":0,\"ticks\":\"\"}}}],\"scatterpolargl\":[{\"type\":\"scatterpolargl\",\"marker\":{\"colorbar\":{\"outlinewidth\":0,\"ticks\":\"\"}}}],\"bar\":[{\"error_x\":{\"color\":\"#2a3f5f\"},\"error_y\":{\"color\":\"#2a3f5f\"},\"marker\":{\"line\":{\"color\":\"#E5ECF6\",\"width\":0.5},\"pattern\":{\"fillmode\":\"overlay\",\"size\":10,\"solidity\":0.2}},\"type\":\"bar\"}],\"scattergeo\":[{\"type\":\"scattergeo\",\"marker\":{\"colorbar\":{\"outlinewidth\":0,\"ticks\":\"\"}}}],\"scatterpolar\":[{\"type\":\"scatterpolar\",\"marker\":{\"colorbar\":{\"outlinewidth\":0,\"ticks\":\"\"}}}],\"histogram\":[{\"marker\":{\"pattern\":{\"fillmode\":\"overlay\",\"size\":10,\"solidity\":0.2}},\"type\":\"histogram\"}],\"scattergl\":[{\"type\":\"scattergl\",\"marker\":{\"colorbar\":{\"outlinewidth\":0,\"ticks\":\"\"}}}],\"scatter3d\":[{\"type\":\"scatter3d\",\"line\":{\"colorbar\":{\"outlinewidth\":0,\"ticks\":\"\"}},\"marker\":{\"colorbar\":{\"outlinewidth\":0,\"ticks\":\"\"}}}],\"scattermapbox\":[{\"type\":\"scattermapbox\",\"marker\":{\"colorbar\":{\"outlinewidth\":0,\"ticks\":\"\"}}}],\"scatterternary\":[{\"type\":\"scatterternary\",\"marker\":{\"colorbar\":{\"outlinewidth\":0,\"ticks\":\"\"}}}],\"scattercarpet\":[{\"type\":\"scattercarpet\",\"marker\":{\"colorbar\":{\"outlinewidth\":0,\"ticks\":\"\"}}}],\"carpet\":[{\"aaxis\":{\"endlinecolor\":\"#2a3f5f\",\"gridcolor\":\"white\",\"linecolor\":\"white\",\"minorgridcolor\":\"white\",\"startlinecolor\":\"#2a3f5f\"},\"baxis\":{\"endlinecolor\":\"#2a3f5f\",\"gridcolor\":\"white\",\"linecolor\":\"white\",\"minorgridcolor\":\"white\",\"startlinecolor\":\"#2a3f5f\"},\"type\":\"carpet\"}],\"table\":[{\"cells\":{\"fill\":{\"color\":\"#EBF0F8\"},\"line\":{\"color\":\"white\"}},\"header\":{\"fill\":{\"color\":\"#C8D4E3\"},\"line\":{\"color\":\"white\"}},\"type\":\"table\"}],\"barpolar\":[{\"marker\":{\"line\":{\"color\":\"#E5ECF6\",\"width\":0.5},\"pattern\":{\"fillmode\":\"overlay\",\"size\":10,\"solidity\":0.2}},\"type\":\"barpolar\"}],\"pie\":[{\"automargin\":true,\"type\":\"pie\"}]},\"layout\":{\"autotypenumbers\":\"strict\",\"colorway\":[\"#636efa\",\"#EF553B\",\"#00cc96\",\"#ab63fa\",\"#FFA15A\",\"#19d3f3\",\"#FF6692\",\"#B6E880\",\"#FF97FF\",\"#FECB52\"],\"font\":{\"color\":\"#2a3f5f\"},\"hovermode\":\"closest\",\"hoverlabel\":{\"align\":\"left\"},\"paper_bgcolor\":\"white\",\"plot_bgcolor\":\"#E5ECF6\",\"polar\":{\"bgcolor\":\"#E5ECF6\",\"angularaxis\":{\"gridcolor\":\"white\",\"linecolor\":\"white\",\"ticks\":\"\"},\"radialaxis\":{\"gridcolor\":\"white\",\"linecolor\":\"white\",\"ticks\":\"\"}},\"ternary\":{\"bgcolor\":\"#E5ECF6\",\"aaxis\":{\"gridcolor\":\"white\",\"linecolor\":\"white\",\"ticks\":\"\"},\"baxis\":{\"gridcolor\":\"white\",\"linecolor\":\"white\",\"ticks\":\"\"},\"caxis\":{\"gridcolor\":\"white\",\"linecolor\":\"white\",\"ticks\":\"\"}},\"coloraxis\":{\"colorbar\":{\"outlinewidth\":0,\"ticks\":\"\"}},\"colorscale\":{\"sequential\":[[0.0,\"#0d0887\"],[0.1111111111111111,\"#46039f\"],[0.2222222222222222,\"#7201a8\"],[0.3333333333333333,\"#9c179e\"],[0.4444444444444444,\"#bd3786\"],[0.5555555555555556,\"#d8576b\"],[0.6666666666666666,\"#ed7953\"],[0.7777777777777778,\"#fb9f3a\"],[0.8888888888888888,\"#fdca26\"],[1.0,\"#f0f921\"]],\"sequentialminus\":[[0.0,\"#0d0887\"],[0.1111111111111111,\"#46039f\"],[0.2222222222222222,\"#7201a8\"],[0.3333333333333333,\"#9c179e\"],[0.4444444444444444,\"#bd3786\"],[0.5555555555555556,\"#d8576b\"],[0.6666666666666666,\"#ed7953\"],[0.7777777777777778,\"#fb9f3a\"],[0.8888888888888888,\"#fdca26\"],[1.0,\"#f0f921\"]],\"diverging\":[[0,\"#8e0152\"],[0.1,\"#c51b7d\"],[0.2,\"#de77ae\"],[0.3,\"#f1b6da\"],[0.4,\"#fde0ef\"],[0.5,\"#f7f7f7\"],[0.6,\"#e6f5d0\"],[0.7,\"#b8e186\"],[0.8,\"#7fbc41\"],[0.9,\"#4d9221\"],[1,\"#276419\"]]},\"xaxis\":{\"gridcolor\":\"white\",\"linecolor\":\"white\",\"ticks\":\"\",\"title\":{\"standoff\":15},\"zerolinecolor\":\"white\",\"automargin\":true,\"zerolinewidth\":2},\"yaxis\":{\"gridcolor\":\"white\",\"linecolor\":\"white\",\"ticks\":\"\",\"title\":{\"standoff\":15},\"zerolinecolor\":\"white\",\"automargin\":true,\"zerolinewidth\":2},\"scene\":{\"xaxis\":{\"backgroundcolor\":\"#E5ECF6\",\"gridcolor\":\"white\",\"linecolor\":\"white\",\"showbackground\":true,\"ticks\":\"\",\"zerolinecolor\":\"white\",\"gridwidth\":2},\"yaxis\":{\"backgroundcolor\":\"#E5ECF6\",\"gridcolor\":\"white\",\"linecolor\":\"white\",\"showbackground\":true,\"ticks\":\"\",\"zerolinecolor\":\"white\",\"gridwidth\":2},\"zaxis\":{\"backgroundcolor\":\"#E5ECF6\",\"gridcolor\":\"white\",\"linecolor\":\"white\",\"showbackground\":true,\"ticks\":\"\",\"zerolinecolor\":\"white\",\"gridwidth\":2}},\"shapedefaults\":{\"line\":{\"color\":\"#2a3f5f\"}},\"annotationdefaults\":{\"arrowcolor\":\"#2a3f5f\",\"arrowhead\":0,\"arrowwidth\":1},\"geo\":{\"bgcolor\":\"white\",\"landcolor\":\"#E5ECF6\",\"subunitcolor\":\"white\",\"showland\":true,\"showlakes\":true,\"lakecolor\":\"white\"},\"title\":{\"x\":0.05},\"mapbox\":{\"style\":\"light\"}}}},                        {\"responsive\": true}                    ).then(function(){\n",
       "                            \n",
       "var gd = document.getElementById('b453b85b-f794-4676-9add-7ff7d76af738');\n",
       "var x = new MutationObserver(function (mutations, observer) {{\n",
       "        var display = window.getComputedStyle(gd).display;\n",
       "        if (!display || display === 'none') {{\n",
       "            console.log([gd, 'removed!']);\n",
       "            Plotly.purge(gd);\n",
       "            observer.disconnect();\n",
       "        }}\n",
       "}});\n",
       "\n",
       "// Listen for the removal of the full notebook cells\n",
       "var notebookContainer = gd.closest('#notebook-container');\n",
       "if (notebookContainer) {{\n",
       "    x.observe(notebookContainer, {childList: true});\n",
       "}}\n",
       "\n",
       "// Listen for the clearing of the current output cell\n",
       "var outputEl = gd.closest('.output');\n",
       "if (outputEl) {{\n",
       "    x.observe(outputEl, {childList: true});\n",
       "}}\n",
       "\n",
       "                        })                };                });            </script>        </div>"
      ]
     },
     "metadata": {},
     "output_type": "display_data"
    }
   ],
   "source": [
    "fig = go.Figure()\n",
    "fig.add_trace(go.Scatter(x=x, y=c1, mode='lines'))\n",
    "fig.add_trace(go.Scatter(x=x, y=c2, mode='lines'))\n",
    "fig.add_trace(go.Scatter(x=x, y=c3, mode='lines'))\n",
    "fig.add_trace(go.Scatter(x=x, y=c4, mode='lines'))\n",
    "fig.show()"
   ]
  },
  {
   "cell_type": "markdown",
   "id": "dab6a7ec",
   "metadata": {},
   "source": [
    "### New"
   ]
  },
  {
   "cell_type": "code",
   "execution_count": 30,
   "id": "9e3fcae7",
   "metadata": {},
   "outputs": [],
   "source": [
    "# Define the objective function\n",
    "def objective(x):\n",
    "    return x**2 + x "
   ]
  },
  {
   "cell_type": "code",
   "execution_count": 31,
   "id": "ae01d73c",
   "metadata": {},
   "outputs": [],
   "source": [
    "y = []\n",
    "for i in x:\n",
    "    y.append(objective(i))\n",
    "y = np.array(y)"
   ]
  },
  {
   "cell_type": "code",
   "execution_count": 32,
   "id": "840ee9a1",
   "metadata": {},
   "outputs": [
    {
     "name": "stdout",
     "output_type": "stream",
     "text": [
      "x = 0.0, y = 0.0\n"
     ]
    }
   ],
   "source": [
    "# Define the objective function\n",
    "def objective(x):\n",
    "    return x[0]**2 + x[1]**2\n",
    "\n",
    "# Define the initial guess\n",
    "x0 = [1, 1]\n",
    "\n",
    "# Define the bounds of the variables\n",
    "bounds = [(None, None), (None, None)]\n",
    "\n",
    "# Solve the problem\n",
    "res = minimize(objective, x0, method=\"SLSQP\", bounds=bounds)\n",
    "\n",
    "# Print the solution\n",
    "print(f\"x = {res.x[0]}, y = {res.x[1]}\")"
   ]
  },
  {
   "cell_type": "code",
   "execution_count": 33,
   "id": "187afd4f",
   "metadata": {},
   "outputs": [
    {
     "data": {
      "text/plain": [
       "array([-1,  1])"
      ]
     },
     "execution_count": 33,
     "metadata": {},
     "output_type": "execute_result"
    }
   ],
   "source": [
    "x0 = np.array([-1, 1])\n",
    "x0"
   ]
  },
  {
   "cell_type": "code",
   "execution_count": 34,
   "id": "b709175f",
   "metadata": {},
   "outputs": [
    {
     "data": {
      "application/vnd.plotly.v1+json": {
       "config": {
        "plotlyServerURL": "https://plot.ly"
       },
       "data": [
        {
         "mode": "lines",
         "type": "scatter",
         "x": [
          0,
          1,
          2,
          3,
          4,
          5,
          6,
          7,
          8,
          9,
          10,
          11,
          12,
          13,
          14,
          15,
          16,
          17,
          18,
          19,
          20,
          21,
          22,
          23,
          24,
          25,
          26,
          27,
          28,
          29,
          30,
          31,
          32,
          33,
          34,
          35,
          36,
          37,
          38,
          39,
          40,
          41,
          42,
          43,
          44,
          45,
          46,
          47,
          48,
          49,
          50,
          51,
          52,
          53,
          54,
          55,
          56,
          57,
          58,
          59,
          60,
          61,
          62,
          63,
          64,
          65,
          66,
          67,
          68,
          69,
          70,
          71,
          72,
          73,
          74,
          75,
          76,
          77,
          78,
          79,
          80,
          81,
          82,
          83,
          84,
          85,
          86,
          87,
          88,
          89,
          90,
          91,
          92,
          93,
          94,
          95,
          96,
          97,
          98,
          99
         ],
         "y": [
          0,
          2,
          6,
          12,
          20,
          30,
          42,
          56,
          72,
          90,
          110,
          132,
          156,
          182,
          210,
          240,
          272,
          306,
          342,
          380,
          420,
          462,
          506,
          552,
          600,
          650,
          702,
          756,
          812,
          870,
          930,
          992,
          1056,
          1122,
          1190,
          1260,
          1332,
          1406,
          1482,
          1560,
          1640,
          1722,
          1806,
          1892,
          1980,
          2070,
          2162,
          2256,
          2352,
          2450,
          2550,
          2652,
          2756,
          2862,
          2970,
          3080,
          3192,
          3306,
          3422,
          3540,
          3660,
          3782,
          3906,
          4032,
          4160,
          4290,
          4422,
          4556,
          4692,
          4830,
          4970,
          5112,
          5256,
          5402,
          5550,
          5700,
          5852,
          6006,
          6162,
          6320,
          6480,
          6642,
          6806,
          6972,
          7140,
          7310,
          7482,
          7656,
          7832,
          8010,
          8190,
          8372,
          8556,
          8742,
          8930,
          9120,
          9312,
          9506,
          9702,
          9900
         ]
        }
       ],
       "layout": {
        "template": {
         "data": {
          "bar": [
           {
            "error_x": {
             "color": "#2a3f5f"
            },
            "error_y": {
             "color": "#2a3f5f"
            },
            "marker": {
             "line": {
              "color": "#E5ECF6",
              "width": 0.5
             },
             "pattern": {
              "fillmode": "overlay",
              "size": 10,
              "solidity": 0.2
             }
            },
            "type": "bar"
           }
          ],
          "barpolar": [
           {
            "marker": {
             "line": {
              "color": "#E5ECF6",
              "width": 0.5
             },
             "pattern": {
              "fillmode": "overlay",
              "size": 10,
              "solidity": 0.2
             }
            },
            "type": "barpolar"
           }
          ],
          "carpet": [
           {
            "aaxis": {
             "endlinecolor": "#2a3f5f",
             "gridcolor": "white",
             "linecolor": "white",
             "minorgridcolor": "white",
             "startlinecolor": "#2a3f5f"
            },
            "baxis": {
             "endlinecolor": "#2a3f5f",
             "gridcolor": "white",
             "linecolor": "white",
             "minorgridcolor": "white",
             "startlinecolor": "#2a3f5f"
            },
            "type": "carpet"
           }
          ],
          "choropleth": [
           {
            "colorbar": {
             "outlinewidth": 0,
             "ticks": ""
            },
            "type": "choropleth"
           }
          ],
          "contour": [
           {
            "colorbar": {
             "outlinewidth": 0,
             "ticks": ""
            },
            "colorscale": [
             [
              0,
              "#0d0887"
             ],
             [
              0.1111111111111111,
              "#46039f"
             ],
             [
              0.2222222222222222,
              "#7201a8"
             ],
             [
              0.3333333333333333,
              "#9c179e"
             ],
             [
              0.4444444444444444,
              "#bd3786"
             ],
             [
              0.5555555555555556,
              "#d8576b"
             ],
             [
              0.6666666666666666,
              "#ed7953"
             ],
             [
              0.7777777777777778,
              "#fb9f3a"
             ],
             [
              0.8888888888888888,
              "#fdca26"
             ],
             [
              1,
              "#f0f921"
             ]
            ],
            "type": "contour"
           }
          ],
          "contourcarpet": [
           {
            "colorbar": {
             "outlinewidth": 0,
             "ticks": ""
            },
            "type": "contourcarpet"
           }
          ],
          "heatmap": [
           {
            "colorbar": {
             "outlinewidth": 0,
             "ticks": ""
            },
            "colorscale": [
             [
              0,
              "#0d0887"
             ],
             [
              0.1111111111111111,
              "#46039f"
             ],
             [
              0.2222222222222222,
              "#7201a8"
             ],
             [
              0.3333333333333333,
              "#9c179e"
             ],
             [
              0.4444444444444444,
              "#bd3786"
             ],
             [
              0.5555555555555556,
              "#d8576b"
             ],
             [
              0.6666666666666666,
              "#ed7953"
             ],
             [
              0.7777777777777778,
              "#fb9f3a"
             ],
             [
              0.8888888888888888,
              "#fdca26"
             ],
             [
              1,
              "#f0f921"
             ]
            ],
            "type": "heatmap"
           }
          ],
          "heatmapgl": [
           {
            "colorbar": {
             "outlinewidth": 0,
             "ticks": ""
            },
            "colorscale": [
             [
              0,
              "#0d0887"
             ],
             [
              0.1111111111111111,
              "#46039f"
             ],
             [
              0.2222222222222222,
              "#7201a8"
             ],
             [
              0.3333333333333333,
              "#9c179e"
             ],
             [
              0.4444444444444444,
              "#bd3786"
             ],
             [
              0.5555555555555556,
              "#d8576b"
             ],
             [
              0.6666666666666666,
              "#ed7953"
             ],
             [
              0.7777777777777778,
              "#fb9f3a"
             ],
             [
              0.8888888888888888,
              "#fdca26"
             ],
             [
              1,
              "#f0f921"
             ]
            ],
            "type": "heatmapgl"
           }
          ],
          "histogram": [
           {
            "marker": {
             "pattern": {
              "fillmode": "overlay",
              "size": 10,
              "solidity": 0.2
             }
            },
            "type": "histogram"
           }
          ],
          "histogram2d": [
           {
            "colorbar": {
             "outlinewidth": 0,
             "ticks": ""
            },
            "colorscale": [
             [
              0,
              "#0d0887"
             ],
             [
              0.1111111111111111,
              "#46039f"
             ],
             [
              0.2222222222222222,
              "#7201a8"
             ],
             [
              0.3333333333333333,
              "#9c179e"
             ],
             [
              0.4444444444444444,
              "#bd3786"
             ],
             [
              0.5555555555555556,
              "#d8576b"
             ],
             [
              0.6666666666666666,
              "#ed7953"
             ],
             [
              0.7777777777777778,
              "#fb9f3a"
             ],
             [
              0.8888888888888888,
              "#fdca26"
             ],
             [
              1,
              "#f0f921"
             ]
            ],
            "type": "histogram2d"
           }
          ],
          "histogram2dcontour": [
           {
            "colorbar": {
             "outlinewidth": 0,
             "ticks": ""
            },
            "colorscale": [
             [
              0,
              "#0d0887"
             ],
             [
              0.1111111111111111,
              "#46039f"
             ],
             [
              0.2222222222222222,
              "#7201a8"
             ],
             [
              0.3333333333333333,
              "#9c179e"
             ],
             [
              0.4444444444444444,
              "#bd3786"
             ],
             [
              0.5555555555555556,
              "#d8576b"
             ],
             [
              0.6666666666666666,
              "#ed7953"
             ],
             [
              0.7777777777777778,
              "#fb9f3a"
             ],
             [
              0.8888888888888888,
              "#fdca26"
             ],
             [
              1,
              "#f0f921"
             ]
            ],
            "type": "histogram2dcontour"
           }
          ],
          "mesh3d": [
           {
            "colorbar": {
             "outlinewidth": 0,
             "ticks": ""
            },
            "type": "mesh3d"
           }
          ],
          "parcoords": [
           {
            "line": {
             "colorbar": {
              "outlinewidth": 0,
              "ticks": ""
             }
            },
            "type": "parcoords"
           }
          ],
          "pie": [
           {
            "automargin": true,
            "type": "pie"
           }
          ],
          "scatter": [
           {
            "fillpattern": {
             "fillmode": "overlay",
             "size": 10,
             "solidity": 0.2
            },
            "type": "scatter"
           }
          ],
          "scatter3d": [
           {
            "line": {
             "colorbar": {
              "outlinewidth": 0,
              "ticks": ""
             }
            },
            "marker": {
             "colorbar": {
              "outlinewidth": 0,
              "ticks": ""
             }
            },
            "type": "scatter3d"
           }
          ],
          "scattercarpet": [
           {
            "marker": {
             "colorbar": {
              "outlinewidth": 0,
              "ticks": ""
             }
            },
            "type": "scattercarpet"
           }
          ],
          "scattergeo": [
           {
            "marker": {
             "colorbar": {
              "outlinewidth": 0,
              "ticks": ""
             }
            },
            "type": "scattergeo"
           }
          ],
          "scattergl": [
           {
            "marker": {
             "colorbar": {
              "outlinewidth": 0,
              "ticks": ""
             }
            },
            "type": "scattergl"
           }
          ],
          "scattermapbox": [
           {
            "marker": {
             "colorbar": {
              "outlinewidth": 0,
              "ticks": ""
             }
            },
            "type": "scattermapbox"
           }
          ],
          "scatterpolar": [
           {
            "marker": {
             "colorbar": {
              "outlinewidth": 0,
              "ticks": ""
             }
            },
            "type": "scatterpolar"
           }
          ],
          "scatterpolargl": [
           {
            "marker": {
             "colorbar": {
              "outlinewidth": 0,
              "ticks": ""
             }
            },
            "type": "scatterpolargl"
           }
          ],
          "scatterternary": [
           {
            "marker": {
             "colorbar": {
              "outlinewidth": 0,
              "ticks": ""
             }
            },
            "type": "scatterternary"
           }
          ],
          "surface": [
           {
            "colorbar": {
             "outlinewidth": 0,
             "ticks": ""
            },
            "colorscale": [
             [
              0,
              "#0d0887"
             ],
             [
              0.1111111111111111,
              "#46039f"
             ],
             [
              0.2222222222222222,
              "#7201a8"
             ],
             [
              0.3333333333333333,
              "#9c179e"
             ],
             [
              0.4444444444444444,
              "#bd3786"
             ],
             [
              0.5555555555555556,
              "#d8576b"
             ],
             [
              0.6666666666666666,
              "#ed7953"
             ],
             [
              0.7777777777777778,
              "#fb9f3a"
             ],
             [
              0.8888888888888888,
              "#fdca26"
             ],
             [
              1,
              "#f0f921"
             ]
            ],
            "type": "surface"
           }
          ],
          "table": [
           {
            "cells": {
             "fill": {
              "color": "#EBF0F8"
             },
             "line": {
              "color": "white"
             }
            },
            "header": {
             "fill": {
              "color": "#C8D4E3"
             },
             "line": {
              "color": "white"
             }
            },
            "type": "table"
           }
          ]
         },
         "layout": {
          "annotationdefaults": {
           "arrowcolor": "#2a3f5f",
           "arrowhead": 0,
           "arrowwidth": 1
          },
          "autotypenumbers": "strict",
          "coloraxis": {
           "colorbar": {
            "outlinewidth": 0,
            "ticks": ""
           }
          },
          "colorscale": {
           "diverging": [
            [
             0,
             "#8e0152"
            ],
            [
             0.1,
             "#c51b7d"
            ],
            [
             0.2,
             "#de77ae"
            ],
            [
             0.3,
             "#f1b6da"
            ],
            [
             0.4,
             "#fde0ef"
            ],
            [
             0.5,
             "#f7f7f7"
            ],
            [
             0.6,
             "#e6f5d0"
            ],
            [
             0.7,
             "#b8e186"
            ],
            [
             0.8,
             "#7fbc41"
            ],
            [
             0.9,
             "#4d9221"
            ],
            [
             1,
             "#276419"
            ]
           ],
           "sequential": [
            [
             0,
             "#0d0887"
            ],
            [
             0.1111111111111111,
             "#46039f"
            ],
            [
             0.2222222222222222,
             "#7201a8"
            ],
            [
             0.3333333333333333,
             "#9c179e"
            ],
            [
             0.4444444444444444,
             "#bd3786"
            ],
            [
             0.5555555555555556,
             "#d8576b"
            ],
            [
             0.6666666666666666,
             "#ed7953"
            ],
            [
             0.7777777777777778,
             "#fb9f3a"
            ],
            [
             0.8888888888888888,
             "#fdca26"
            ],
            [
             1,
             "#f0f921"
            ]
           ],
           "sequentialminus": [
            [
             0,
             "#0d0887"
            ],
            [
             0.1111111111111111,
             "#46039f"
            ],
            [
             0.2222222222222222,
             "#7201a8"
            ],
            [
             0.3333333333333333,
             "#9c179e"
            ],
            [
             0.4444444444444444,
             "#bd3786"
            ],
            [
             0.5555555555555556,
             "#d8576b"
            ],
            [
             0.6666666666666666,
             "#ed7953"
            ],
            [
             0.7777777777777778,
             "#fb9f3a"
            ],
            [
             0.8888888888888888,
             "#fdca26"
            ],
            [
             1,
             "#f0f921"
            ]
           ]
          },
          "colorway": [
           "#636efa",
           "#EF553B",
           "#00cc96",
           "#ab63fa",
           "#FFA15A",
           "#19d3f3",
           "#FF6692",
           "#B6E880",
           "#FF97FF",
           "#FECB52"
          ],
          "font": {
           "color": "#2a3f5f"
          },
          "geo": {
           "bgcolor": "white",
           "lakecolor": "white",
           "landcolor": "#E5ECF6",
           "showlakes": true,
           "showland": true,
           "subunitcolor": "white"
          },
          "hoverlabel": {
           "align": "left"
          },
          "hovermode": "closest",
          "mapbox": {
           "style": "light"
          },
          "paper_bgcolor": "white",
          "plot_bgcolor": "#E5ECF6",
          "polar": {
           "angularaxis": {
            "gridcolor": "white",
            "linecolor": "white",
            "ticks": ""
           },
           "bgcolor": "#E5ECF6",
           "radialaxis": {
            "gridcolor": "white",
            "linecolor": "white",
            "ticks": ""
           }
          },
          "scene": {
           "xaxis": {
            "backgroundcolor": "#E5ECF6",
            "gridcolor": "white",
            "gridwidth": 2,
            "linecolor": "white",
            "showbackground": true,
            "ticks": "",
            "zerolinecolor": "white"
           },
           "yaxis": {
            "backgroundcolor": "#E5ECF6",
            "gridcolor": "white",
            "gridwidth": 2,
            "linecolor": "white",
            "showbackground": true,
            "ticks": "",
            "zerolinecolor": "white"
           },
           "zaxis": {
            "backgroundcolor": "#E5ECF6",
            "gridcolor": "white",
            "gridwidth": 2,
            "linecolor": "white",
            "showbackground": true,
            "ticks": "",
            "zerolinecolor": "white"
           }
          },
          "shapedefaults": {
           "line": {
            "color": "#2a3f5f"
           }
          },
          "ternary": {
           "aaxis": {
            "gridcolor": "white",
            "linecolor": "white",
            "ticks": ""
           },
           "baxis": {
            "gridcolor": "white",
            "linecolor": "white",
            "ticks": ""
           },
           "bgcolor": "#E5ECF6",
           "caxis": {
            "gridcolor": "white",
            "linecolor": "white",
            "ticks": ""
           }
          },
          "title": {
           "x": 0.05
          },
          "xaxis": {
           "automargin": true,
           "gridcolor": "white",
           "linecolor": "white",
           "ticks": "",
           "title": {
            "standoff": 15
           },
           "zerolinecolor": "white",
           "zerolinewidth": 2
          },
          "yaxis": {
           "automargin": true,
           "gridcolor": "white",
           "linecolor": "white",
           "ticks": "",
           "title": {
            "standoff": 15
           },
           "zerolinecolor": "white",
           "zerolinewidth": 2
          }
         }
        }
       }
      },
      "text/html": [
       "<div>                            <div id=\"fe0ddfed-9cb5-40d8-9554-e4bd03adecc3\" class=\"plotly-graph-div\" style=\"height:525px; width:100%;\"></div>            <script type=\"text/javascript\">                require([\"plotly\"], function(Plotly) {                    window.PLOTLYENV=window.PLOTLYENV || {};                                    if (document.getElementById(\"fe0ddfed-9cb5-40d8-9554-e4bd03adecc3\")) {                    Plotly.newPlot(                        \"fe0ddfed-9cb5-40d8-9554-e4bd03adecc3\",                        [{\"mode\":\"lines\",\"x\":[0,1,2,3,4,5,6,7,8,9,10,11,12,13,14,15,16,17,18,19,20,21,22,23,24,25,26,27,28,29,30,31,32,33,34,35,36,37,38,39,40,41,42,43,44,45,46,47,48,49,50,51,52,53,54,55,56,57,58,59,60,61,62,63,64,65,66,67,68,69,70,71,72,73,74,75,76,77,78,79,80,81,82,83,84,85,86,87,88,89,90,91,92,93,94,95,96,97,98,99],\"y\":[0,2,6,12,20,30,42,56,72,90,110,132,156,182,210,240,272,306,342,380,420,462,506,552,600,650,702,756,812,870,930,992,1056,1122,1190,1260,1332,1406,1482,1560,1640,1722,1806,1892,1980,2070,2162,2256,2352,2450,2550,2652,2756,2862,2970,3080,3192,3306,3422,3540,3660,3782,3906,4032,4160,4290,4422,4556,4692,4830,4970,5112,5256,5402,5550,5700,5852,6006,6162,6320,6480,6642,6806,6972,7140,7310,7482,7656,7832,8010,8190,8372,8556,8742,8930,9120,9312,9506,9702,9900],\"type\":\"scatter\"}],                        {\"template\":{\"data\":{\"histogram2dcontour\":[{\"type\":\"histogram2dcontour\",\"colorbar\":{\"outlinewidth\":0,\"ticks\":\"\"},\"colorscale\":[[0.0,\"#0d0887\"],[0.1111111111111111,\"#46039f\"],[0.2222222222222222,\"#7201a8\"],[0.3333333333333333,\"#9c179e\"],[0.4444444444444444,\"#bd3786\"],[0.5555555555555556,\"#d8576b\"],[0.6666666666666666,\"#ed7953\"],[0.7777777777777778,\"#fb9f3a\"],[0.8888888888888888,\"#fdca26\"],[1.0,\"#f0f921\"]]}],\"choropleth\":[{\"type\":\"choropleth\",\"colorbar\":{\"outlinewidth\":0,\"ticks\":\"\"}}],\"histogram2d\":[{\"type\":\"histogram2d\",\"colorbar\":{\"outlinewidth\":0,\"ticks\":\"\"},\"colorscale\":[[0.0,\"#0d0887\"],[0.1111111111111111,\"#46039f\"],[0.2222222222222222,\"#7201a8\"],[0.3333333333333333,\"#9c179e\"],[0.4444444444444444,\"#bd3786\"],[0.5555555555555556,\"#d8576b\"],[0.6666666666666666,\"#ed7953\"],[0.7777777777777778,\"#fb9f3a\"],[0.8888888888888888,\"#fdca26\"],[1.0,\"#f0f921\"]]}],\"heatmap\":[{\"type\":\"heatmap\",\"colorbar\":{\"outlinewidth\":0,\"ticks\":\"\"},\"colorscale\":[[0.0,\"#0d0887\"],[0.1111111111111111,\"#46039f\"],[0.2222222222222222,\"#7201a8\"],[0.3333333333333333,\"#9c179e\"],[0.4444444444444444,\"#bd3786\"],[0.5555555555555556,\"#d8576b\"],[0.6666666666666666,\"#ed7953\"],[0.7777777777777778,\"#fb9f3a\"],[0.8888888888888888,\"#fdca26\"],[1.0,\"#f0f921\"]]}],\"heatmapgl\":[{\"type\":\"heatmapgl\",\"colorbar\":{\"outlinewidth\":0,\"ticks\":\"\"},\"colorscale\":[[0.0,\"#0d0887\"],[0.1111111111111111,\"#46039f\"],[0.2222222222222222,\"#7201a8\"],[0.3333333333333333,\"#9c179e\"],[0.4444444444444444,\"#bd3786\"],[0.5555555555555556,\"#d8576b\"],[0.6666666666666666,\"#ed7953\"],[0.7777777777777778,\"#fb9f3a\"],[0.8888888888888888,\"#fdca26\"],[1.0,\"#f0f921\"]]}],\"contourcarpet\":[{\"type\":\"contourcarpet\",\"colorbar\":{\"outlinewidth\":0,\"ticks\":\"\"}}],\"contour\":[{\"type\":\"contour\",\"colorbar\":{\"outlinewidth\":0,\"ticks\":\"\"},\"colorscale\":[[0.0,\"#0d0887\"],[0.1111111111111111,\"#46039f\"],[0.2222222222222222,\"#7201a8\"],[0.3333333333333333,\"#9c179e\"],[0.4444444444444444,\"#bd3786\"],[0.5555555555555556,\"#d8576b\"],[0.6666666666666666,\"#ed7953\"],[0.7777777777777778,\"#fb9f3a\"],[0.8888888888888888,\"#fdca26\"],[1.0,\"#f0f921\"]]}],\"surface\":[{\"type\":\"surface\",\"colorbar\":{\"outlinewidth\":0,\"ticks\":\"\"},\"colorscale\":[[0.0,\"#0d0887\"],[0.1111111111111111,\"#46039f\"],[0.2222222222222222,\"#7201a8\"],[0.3333333333333333,\"#9c179e\"],[0.4444444444444444,\"#bd3786\"],[0.5555555555555556,\"#d8576b\"],[0.6666666666666666,\"#ed7953\"],[0.7777777777777778,\"#fb9f3a\"],[0.8888888888888888,\"#fdca26\"],[1.0,\"#f0f921\"]]}],\"mesh3d\":[{\"type\":\"mesh3d\",\"colorbar\":{\"outlinewidth\":0,\"ticks\":\"\"}}],\"scatter\":[{\"fillpattern\":{\"fillmode\":\"overlay\",\"size\":10,\"solidity\":0.2},\"type\":\"scatter\"}],\"parcoords\":[{\"type\":\"parcoords\",\"line\":{\"colorbar\":{\"outlinewidth\":0,\"ticks\":\"\"}}}],\"scatterpolargl\":[{\"type\":\"scatterpolargl\",\"marker\":{\"colorbar\":{\"outlinewidth\":0,\"ticks\":\"\"}}}],\"bar\":[{\"error_x\":{\"color\":\"#2a3f5f\"},\"error_y\":{\"color\":\"#2a3f5f\"},\"marker\":{\"line\":{\"color\":\"#E5ECF6\",\"width\":0.5},\"pattern\":{\"fillmode\":\"overlay\",\"size\":10,\"solidity\":0.2}},\"type\":\"bar\"}],\"scattergeo\":[{\"type\":\"scattergeo\",\"marker\":{\"colorbar\":{\"outlinewidth\":0,\"ticks\":\"\"}}}],\"scatterpolar\":[{\"type\":\"scatterpolar\",\"marker\":{\"colorbar\":{\"outlinewidth\":0,\"ticks\":\"\"}}}],\"histogram\":[{\"marker\":{\"pattern\":{\"fillmode\":\"overlay\",\"size\":10,\"solidity\":0.2}},\"type\":\"histogram\"}],\"scattergl\":[{\"type\":\"scattergl\",\"marker\":{\"colorbar\":{\"outlinewidth\":0,\"ticks\":\"\"}}}],\"scatter3d\":[{\"type\":\"scatter3d\",\"line\":{\"colorbar\":{\"outlinewidth\":0,\"ticks\":\"\"}},\"marker\":{\"colorbar\":{\"outlinewidth\":0,\"ticks\":\"\"}}}],\"scattermapbox\":[{\"type\":\"scattermapbox\",\"marker\":{\"colorbar\":{\"outlinewidth\":0,\"ticks\":\"\"}}}],\"scatterternary\":[{\"type\":\"scatterternary\",\"marker\":{\"colorbar\":{\"outlinewidth\":0,\"ticks\":\"\"}}}],\"scattercarpet\":[{\"type\":\"scattercarpet\",\"marker\":{\"colorbar\":{\"outlinewidth\":0,\"ticks\":\"\"}}}],\"carpet\":[{\"aaxis\":{\"endlinecolor\":\"#2a3f5f\",\"gridcolor\":\"white\",\"linecolor\":\"white\",\"minorgridcolor\":\"white\",\"startlinecolor\":\"#2a3f5f\"},\"baxis\":{\"endlinecolor\":\"#2a3f5f\",\"gridcolor\":\"white\",\"linecolor\":\"white\",\"minorgridcolor\":\"white\",\"startlinecolor\":\"#2a3f5f\"},\"type\":\"carpet\"}],\"table\":[{\"cells\":{\"fill\":{\"color\":\"#EBF0F8\"},\"line\":{\"color\":\"white\"}},\"header\":{\"fill\":{\"color\":\"#C8D4E3\"},\"line\":{\"color\":\"white\"}},\"type\":\"table\"}],\"barpolar\":[{\"marker\":{\"line\":{\"color\":\"#E5ECF6\",\"width\":0.5},\"pattern\":{\"fillmode\":\"overlay\",\"size\":10,\"solidity\":0.2}},\"type\":\"barpolar\"}],\"pie\":[{\"automargin\":true,\"type\":\"pie\"}]},\"layout\":{\"autotypenumbers\":\"strict\",\"colorway\":[\"#636efa\",\"#EF553B\",\"#00cc96\",\"#ab63fa\",\"#FFA15A\",\"#19d3f3\",\"#FF6692\",\"#B6E880\",\"#FF97FF\",\"#FECB52\"],\"font\":{\"color\":\"#2a3f5f\"},\"hovermode\":\"closest\",\"hoverlabel\":{\"align\":\"left\"},\"paper_bgcolor\":\"white\",\"plot_bgcolor\":\"#E5ECF6\",\"polar\":{\"bgcolor\":\"#E5ECF6\",\"angularaxis\":{\"gridcolor\":\"white\",\"linecolor\":\"white\",\"ticks\":\"\"},\"radialaxis\":{\"gridcolor\":\"white\",\"linecolor\":\"white\",\"ticks\":\"\"}},\"ternary\":{\"bgcolor\":\"#E5ECF6\",\"aaxis\":{\"gridcolor\":\"white\",\"linecolor\":\"white\",\"ticks\":\"\"},\"baxis\":{\"gridcolor\":\"white\",\"linecolor\":\"white\",\"ticks\":\"\"},\"caxis\":{\"gridcolor\":\"white\",\"linecolor\":\"white\",\"ticks\":\"\"}},\"coloraxis\":{\"colorbar\":{\"outlinewidth\":0,\"ticks\":\"\"}},\"colorscale\":{\"sequential\":[[0.0,\"#0d0887\"],[0.1111111111111111,\"#46039f\"],[0.2222222222222222,\"#7201a8\"],[0.3333333333333333,\"#9c179e\"],[0.4444444444444444,\"#bd3786\"],[0.5555555555555556,\"#d8576b\"],[0.6666666666666666,\"#ed7953\"],[0.7777777777777778,\"#fb9f3a\"],[0.8888888888888888,\"#fdca26\"],[1.0,\"#f0f921\"]],\"sequentialminus\":[[0.0,\"#0d0887\"],[0.1111111111111111,\"#46039f\"],[0.2222222222222222,\"#7201a8\"],[0.3333333333333333,\"#9c179e\"],[0.4444444444444444,\"#bd3786\"],[0.5555555555555556,\"#d8576b\"],[0.6666666666666666,\"#ed7953\"],[0.7777777777777778,\"#fb9f3a\"],[0.8888888888888888,\"#fdca26\"],[1.0,\"#f0f921\"]],\"diverging\":[[0,\"#8e0152\"],[0.1,\"#c51b7d\"],[0.2,\"#de77ae\"],[0.3,\"#f1b6da\"],[0.4,\"#fde0ef\"],[0.5,\"#f7f7f7\"],[0.6,\"#e6f5d0\"],[0.7,\"#b8e186\"],[0.8,\"#7fbc41\"],[0.9,\"#4d9221\"],[1,\"#276419\"]]},\"xaxis\":{\"gridcolor\":\"white\",\"linecolor\":\"white\",\"ticks\":\"\",\"title\":{\"standoff\":15},\"zerolinecolor\":\"white\",\"automargin\":true,\"zerolinewidth\":2},\"yaxis\":{\"gridcolor\":\"white\",\"linecolor\":\"white\",\"ticks\":\"\",\"title\":{\"standoff\":15},\"zerolinecolor\":\"white\",\"automargin\":true,\"zerolinewidth\":2},\"scene\":{\"xaxis\":{\"backgroundcolor\":\"#E5ECF6\",\"gridcolor\":\"white\",\"linecolor\":\"white\",\"showbackground\":true,\"ticks\":\"\",\"zerolinecolor\":\"white\",\"gridwidth\":2},\"yaxis\":{\"backgroundcolor\":\"#E5ECF6\",\"gridcolor\":\"white\",\"linecolor\":\"white\",\"showbackground\":true,\"ticks\":\"\",\"zerolinecolor\":\"white\",\"gridwidth\":2},\"zaxis\":{\"backgroundcolor\":\"#E5ECF6\",\"gridcolor\":\"white\",\"linecolor\":\"white\",\"showbackground\":true,\"ticks\":\"\",\"zerolinecolor\":\"white\",\"gridwidth\":2}},\"shapedefaults\":{\"line\":{\"color\":\"#2a3f5f\"}},\"annotationdefaults\":{\"arrowcolor\":\"#2a3f5f\",\"arrowhead\":0,\"arrowwidth\":1},\"geo\":{\"bgcolor\":\"white\",\"landcolor\":\"#E5ECF6\",\"subunitcolor\":\"white\",\"showland\":true,\"showlakes\":true,\"lakecolor\":\"white\"},\"title\":{\"x\":0.05},\"mapbox\":{\"style\":\"light\"}}}},                        {\"responsive\": true}                    ).then(function(){\n",
       "                            \n",
       "var gd = document.getElementById('fe0ddfed-9cb5-40d8-9554-e4bd03adecc3');\n",
       "var x = new MutationObserver(function (mutations, observer) {{\n",
       "        var display = window.getComputedStyle(gd).display;\n",
       "        if (!display || display === 'none') {{\n",
       "            console.log([gd, 'removed!']);\n",
       "            Plotly.purge(gd);\n",
       "            observer.disconnect();\n",
       "        }}\n",
       "}});\n",
       "\n",
       "// Listen for the removal of the full notebook cells\n",
       "var notebookContainer = gd.closest('#notebook-container');\n",
       "if (notebookContainer) {{\n",
       "    x.observe(notebookContainer, {childList: true});\n",
       "}}\n",
       "\n",
       "// Listen for the clearing of the current output cell\n",
       "var outputEl = gd.closest('.output');\n",
       "if (outputEl) {{\n",
       "    x.observe(outputEl, {childList: true});\n",
       "}}\n",
       "\n",
       "                        })                };                });            </script>        </div>"
      ]
     },
     "metadata": {},
     "output_type": "display_data"
    }
   ],
   "source": [
    "fig = go.Figure(data=go.Scatter(x=x, y=y, mode='lines'))\n",
    "fig.show()"
   ]
  },
  {
   "cell_type": "markdown",
   "id": "50c0c15a",
   "metadata": {},
   "source": [
    "### Flow Example"
   ]
  },
  {
   "cell_type": "code",
   "execution_count": 227,
   "id": "04defcae",
   "metadata": {},
   "outputs": [],
   "source": [
    "import networkx as nx"
   ]
  },
  {
   "cell_type": "code",
   "execution_count": 255,
   "id": "ea628746",
   "metadata": {},
   "outputs": [
    {
     "data": {
      "text/plain": [
       "<networkx.classes.graph.Graph at 0x164552650>"
      ]
     },
     "execution_count": 255,
     "metadata": {},
     "output_type": "execute_result"
    }
   ],
   "source": [
    "G = nx.Graph()\n",
    "G.add_edge(1, 2)\n",
    "G.add_edge(1, 3)\n",
    "G.add_edge(1, 5)\n",
    "G.add_edge(2, 3)\n",
    "G.add_edge(3, 4)\n",
    "G.add_edge(4, 5)\n",
    "\n",
    "pos = {1: (0, 0), 2: (-1, 0.3), 3: (2, 0.17), 4: (4, 0.255), 5: (5, 0.03)}\n",
    "G"
   ]
  },
  {
   "cell_type": "code",
   "execution_count": 254,
   "id": "44bfe15f",
   "metadata": {},
   "outputs": [
    {
     "ename": "KeyError",
     "evalue": "'pos'",
     "output_type": "error",
     "traceback": [
      "\u001b[0;31m---------------------------------------------------------------------------\u001b[0m",
      "\u001b[0;31mKeyError\u001b[0m                                  Traceback (most recent call last)",
      "Cell \u001b[0;32mIn[254], line 4\u001b[0m\n\u001b[1;32m      2\u001b[0m edge_y \u001b[38;5;241m=\u001b[39m []\n\u001b[1;32m      3\u001b[0m \u001b[38;5;28;01mfor\u001b[39;00m edge \u001b[38;5;129;01min\u001b[39;00m G\u001b[38;5;241m.\u001b[39medges():\n\u001b[0;32m----> 4\u001b[0m     x0, y0 \u001b[38;5;241m=\u001b[39m G\u001b[38;5;241m.\u001b[39mnodes[edge[\u001b[38;5;241m0\u001b[39m]][\u001b[38;5;124m'\u001b[39m\u001b[38;5;124mpos\u001b[39m\u001b[38;5;124m'\u001b[39m]\n\u001b[1;32m      5\u001b[0m     x1, y1 \u001b[38;5;241m=\u001b[39m G\u001b[38;5;241m.\u001b[39mnodes[edge[\u001b[38;5;241m1\u001b[39m]][\u001b[38;5;124m'\u001b[39m\u001b[38;5;124mpos\u001b[39m\u001b[38;5;124m'\u001b[39m]\n\u001b[1;32m      6\u001b[0m     edge_x\u001b[38;5;241m.\u001b[39mappend(x0)\n",
      "\u001b[0;31mKeyError\u001b[0m: 'pos'"
     ]
    }
   ],
   "source": [
    "edge_x = []\n",
    "edge_y = []\n",
    "for edge in G.edges():\n",
    "    x0, y0 = G.nodes[edge[0]]['pos']\n",
    "    x1, y1 = G.nodes[edge[1]]['pos']\n",
    "    edge_x.append(x0)\n",
    "    edge_x.append(x1)\n",
    "    edge_x.append(None)\n",
    "    edge_y.append(y0)\n",
    "    edge_y.append(y1)\n",
    "    edge_y.append(None)\n",
    "\n",
    "edge_trace = go.Scatter(\n",
    "    x=edge_x, y=edge_y,\n",
    "    line=dict(width=0.5, color='#888'),\n",
    "    hoverinfo='none',\n",
    "    mode='lines')\n",
    "\n",
    "node_x = []\n",
    "node_y = []\n",
    "for node in G.nodes():\n",
    "    x, y = G.nodes[node]['pos']\n",
    "    node_x.append(x)\n",
    "    node_y.append(y)\n",
    "\n",
    "node_trace = go.Scatter(\n",
    "    x=node_x, y=node_y,\n",
    "    mode='markers',\n",
    "    hoverinfo='text',\n",
    "    marker=dict(\n",
    "        showscale=True,\n",
    "        # colorscale options\n",
    "        #'Greys' | 'YlGnBu' | 'Greens' | 'YlOrRd' | 'Bluered' | 'RdBu' |\n",
    "        #'Reds' | 'Blues' | 'Picnic' | 'Rainbow' | 'Portland' | 'Jet' |\n",
    "        #'Hot' | 'Blackbody' | 'Earth' | 'Electric' | 'Viridis' |\n",
    "        colorscale='YlGnBu',\n",
    "        reversescale=True,\n",
    "        color=[],\n",
    "        size=10,\n",
    "        colorbar=dict(\n",
    "            thickness=15,\n",
    "            title=dict(\n",
    "              text='Node Connections',\n",
    "              side='right'\n",
    "            ),\n",
    "            xanchor='left',\n",
    "        ),\n",
    "        line_width=2))"
   ]
  },
  {
   "cell_type": "code",
   "execution_count": 250,
   "id": "cfefa235",
   "metadata": {},
   "outputs": [
    {
     "data": {
      "text/plain": [
       "Scatter({\n",
       "    'hoverinfo': 'text',\n",
       "    'marker': {'color': [4, 6, 7, 5, 4, 4, 2, 3, 2, 3, 3, 6, 6, 2, 0, 2, 2, 7],\n",
       "               'colorbar': {'thickness': 15, 'title': {'side': 'right', 'text': 'Node Connections'}, 'xanchor': 'left'},\n",
       "               'colorscale': [[0.0, 'rgb(255,255,217)'], [0.125,\n",
       "                              'rgb(237,248,177)'], [0.25, 'rgb(199,233,180)'],\n",
       "                              [0.375, 'rgb(127,205,187)'], [0.5,\n",
       "                              'rgb(65,182,196)'], [0.625, 'rgb(29,145,192)'],\n",
       "                              [0.75, 'rgb(34,94,168)'], [0.875, 'rgb(37,52,148)'],\n",
       "                              [1.0, 'rgb(8,29,88)']],\n",
       "               'line': {'width': 2},\n",
       "               'reversescale': True,\n",
       "               'showscale': True,\n",
       "               'size': 10},\n",
       "    'mode': 'markers',\n",
       "    'text': [# of connections: 4, # of connections: 6, # of connections: 7, # of\n",
       "             connections: 5, # of connections: 4, # of connections: 4, # of\n",
       "             connections: 2, # of connections: 3, # of connections: 2, # of\n",
       "             connections: 3, # of connections: 3, # of connections: 6, # of\n",
       "             connections: 6, # of connections: 2, # of connections: 0, # of\n",
       "             connections: 2, # of connections: 2, # of connections: 7],\n",
       "    'x': [0.20873560919369216, 0.34049628266657506, 0.2395665799009875,\n",
       "          0.3017774518078177, 0.5846251276683516, 0.651514479719079,\n",
       "          0.3660668266298428, 0.037045027328589386, 0.9081321540870607,\n",
       "          0.13964950506348772, 0.6912706902278681, 0.10246417982295009,\n",
       "          0.47359681654598607, 0.8602426002366002, 0.8123579198540448,\n",
       "          0.47208165860284146, 0.0371891278572648, 0.38921426203367715],\n",
       "    'y': [0.2022404506527713, 0.5168054817660743, 0.42941532737261057,\n",
       "          0.7717931942110885, 0.5385425698732859, 0.49095914052542833,\n",
       "          0.9378778288635133, 0.5430192421188302, 0.07737308980372992,\n",
       "          0.23245568024425722, 0.24310614933416652, 0.34879134729583483,\n",
       "          0.5407594083446028, 0.010431328190805167, 0.8171736748664922,\n",
       "          0.967623450891434, 0.8216246554915526, 0.41866924499974356]\n",
       "})"
      ]
     },
     "execution_count": 250,
     "metadata": {},
     "output_type": "execute_result"
    }
   ],
   "source": [
    "node_trace"
   ]
  },
  {
   "cell_type": "code",
   "execution_count": 248,
   "id": "144d797b",
   "metadata": {},
   "outputs": [],
   "source": [
    "node_adjacencies = []\n",
    "node_text = []\n",
    "for node, adjacencies in enumerate(G.adjacency()):\n",
    "    node_adjacencies.append(len(adjacencies[1]))\n",
    "    node_text.append('# of connections: '+str(len(adjacencies[1])))\n",
    "\n",
    "node_trace.marker.color = node_adjacencies\n",
    "node_trace.text = node_text"
   ]
  },
  {
   "cell_type": "code",
   "execution_count": 249,
   "id": "d7e9715e",
   "metadata": {},
   "outputs": [
    {
     "data": {
      "application/vnd.plotly.v1+json": {
       "config": {
        "plotlyServerURL": "https://plot.ly"
       },
       "data": [
        {
         "hoverinfo": "none",
         "line": {
          "color": "#888",
          "width": 0.5
         },
         "mode": "lines",
         "type": "scatter",
         "x": [
          0.20873560919369216,
          0.2395665799009875,
          null,
          0.20873560919369216,
          0.13964950506348772,
          null,
          0.20873560919369216,
          0.10246417982295009,
          null,
          0.20873560919369216,
          0.38921426203367715,
          null,
          0.34049628266657506,
          0.2395665799009875,
          null,
          0.34049628266657506,
          0.3017774518078177,
          null,
          0.34049628266657506,
          0.5846251276683516,
          null,
          0.34049628266657506,
          0.10246417982295009,
          null,
          0.34049628266657506,
          0.47359681654598607,
          null,
          0.34049628266657506,
          0.38921426203367715,
          null,
          0.2395665799009875,
          0.037045027328589386,
          null,
          0.2395665799009875,
          0.13964950506348772,
          null,
          0.2395665799009875,
          0.10246417982295009,
          null,
          0.2395665799009875,
          0.47359681654598607,
          null,
          0.2395665799009875,
          0.38921426203367715,
          null,
          0.3017774518078177,
          0.3660668266298428,
          null,
          0.3017774518078177,
          0.47359681654598607,
          null,
          0.3017774518078177,
          0.47208165860284146,
          null,
          0.3017774518078177,
          0.0371891278572648,
          null,
          0.5846251276683516,
          0.651514479719079,
          null,
          0.5846251276683516,
          0.47359681654598607,
          null,
          0.5846251276683516,
          0.38921426203367715,
          null,
          0.651514479719079,
          0.6912706902278681,
          null,
          0.651514479719079,
          0.47359681654598607,
          null,
          0.651514479719079,
          0.38921426203367715,
          null,
          0.3660668266298428,
          0.47208165860284146,
          null,
          0.037045027328589386,
          0.10246417982295009,
          null,
          0.037045027328589386,
          0.0371891278572648,
          null,
          0.9081321540870607,
          0.6912706902278681,
          null,
          0.9081321540870607,
          0.8602426002366002,
          null,
          0.13964950506348772,
          0.10246417982295009,
          null,
          0.6912706902278681,
          0.8602426002366002,
          null,
          0.10246417982295009,
          0.38921426203367715,
          null,
          0.47359681654598607,
          0.38921426203367715,
          null
         ],
         "y": [
          0.2022404506527713,
          0.42941532737261057,
          null,
          0.2022404506527713,
          0.23245568024425722,
          null,
          0.2022404506527713,
          0.34879134729583483,
          null,
          0.2022404506527713,
          0.41866924499974356,
          null,
          0.5168054817660743,
          0.42941532737261057,
          null,
          0.5168054817660743,
          0.7717931942110885,
          null,
          0.5168054817660743,
          0.5385425698732859,
          null,
          0.5168054817660743,
          0.34879134729583483,
          null,
          0.5168054817660743,
          0.5407594083446028,
          null,
          0.5168054817660743,
          0.41866924499974356,
          null,
          0.42941532737261057,
          0.5430192421188302,
          null,
          0.42941532737261057,
          0.23245568024425722,
          null,
          0.42941532737261057,
          0.34879134729583483,
          null,
          0.42941532737261057,
          0.5407594083446028,
          null,
          0.42941532737261057,
          0.41866924499974356,
          null,
          0.7717931942110885,
          0.9378778288635133,
          null,
          0.7717931942110885,
          0.5407594083446028,
          null,
          0.7717931942110885,
          0.967623450891434,
          null,
          0.7717931942110885,
          0.8216246554915526,
          null,
          0.5385425698732859,
          0.49095914052542833,
          null,
          0.5385425698732859,
          0.5407594083446028,
          null,
          0.5385425698732859,
          0.41866924499974356,
          null,
          0.49095914052542833,
          0.24310614933416652,
          null,
          0.49095914052542833,
          0.5407594083446028,
          null,
          0.49095914052542833,
          0.41866924499974356,
          null,
          0.9378778288635133,
          0.967623450891434,
          null,
          0.5430192421188302,
          0.34879134729583483,
          null,
          0.5430192421188302,
          0.8216246554915526,
          null,
          0.07737308980372992,
          0.24310614933416652,
          null,
          0.07737308980372992,
          0.010431328190805167,
          null,
          0.23245568024425722,
          0.34879134729583483,
          null,
          0.24310614933416652,
          0.010431328190805167,
          null,
          0.34879134729583483,
          0.41866924499974356,
          null,
          0.5407594083446028,
          0.41866924499974356,
          null
         ]
        },
        {
         "hoverinfo": "text",
         "marker": {
          "color": [
           4,
           6,
           7,
           5,
           4,
           4,
           2,
           3,
           2,
           3,
           3,
           6,
           6,
           2,
           0,
           2,
           2,
           7
          ],
          "colorbar": {
           "thickness": 15,
           "title": {
            "side": "right",
            "text": "Node Connections"
           },
           "xanchor": "left"
          },
          "colorscale": [
           [
            0,
            "rgb(255,255,217)"
           ],
           [
            0.125,
            "rgb(237,248,177)"
           ],
           [
            0.25,
            "rgb(199,233,180)"
           ],
           [
            0.375,
            "rgb(127,205,187)"
           ],
           [
            0.5,
            "rgb(65,182,196)"
           ],
           [
            0.625,
            "rgb(29,145,192)"
           ],
           [
            0.75,
            "rgb(34,94,168)"
           ],
           [
            0.875,
            "rgb(37,52,148)"
           ],
           [
            1,
            "rgb(8,29,88)"
           ]
          ],
          "line": {
           "width": 2
          },
          "reversescale": true,
          "showscale": true,
          "size": 10
         },
         "mode": "markers",
         "text": [
          "# of connections: 4",
          "# of connections: 6",
          "# of connections: 7",
          "# of connections: 5",
          "# of connections: 4",
          "# of connections: 4",
          "# of connections: 2",
          "# of connections: 3",
          "# of connections: 2",
          "# of connections: 3",
          "# of connections: 3",
          "# of connections: 6",
          "# of connections: 6",
          "# of connections: 2",
          "# of connections: 0",
          "# of connections: 2",
          "# of connections: 2",
          "# of connections: 7"
         ],
         "type": "scatter",
         "x": [
          0.20873560919369216,
          0.34049628266657506,
          0.2395665799009875,
          0.3017774518078177,
          0.5846251276683516,
          0.651514479719079,
          0.3660668266298428,
          0.037045027328589386,
          0.9081321540870607,
          0.13964950506348772,
          0.6912706902278681,
          0.10246417982295009,
          0.47359681654598607,
          0.8602426002366002,
          0.8123579198540448,
          0.47208165860284146,
          0.0371891278572648,
          0.38921426203367715
         ],
         "y": [
          0.2022404506527713,
          0.5168054817660743,
          0.42941532737261057,
          0.7717931942110885,
          0.5385425698732859,
          0.49095914052542833,
          0.9378778288635133,
          0.5430192421188302,
          0.07737308980372992,
          0.23245568024425722,
          0.24310614933416652,
          0.34879134729583483,
          0.5407594083446028,
          0.010431328190805167,
          0.8171736748664922,
          0.967623450891434,
          0.8216246554915526,
          0.41866924499974356
         ]
        }
       ],
       "layout": {
        "hovermode": "closest",
        "margin": {
         "b": 20,
         "l": 5,
         "r": 5,
         "t": 40
        },
        "showlegend": false,
        "template": {
         "data": {
          "bar": [
           {
            "error_x": {
             "color": "#2a3f5f"
            },
            "error_y": {
             "color": "#2a3f5f"
            },
            "marker": {
             "line": {
              "color": "#E5ECF6",
              "width": 0.5
             },
             "pattern": {
              "fillmode": "overlay",
              "size": 10,
              "solidity": 0.2
             }
            },
            "type": "bar"
           }
          ],
          "barpolar": [
           {
            "marker": {
             "line": {
              "color": "#E5ECF6",
              "width": 0.5
             },
             "pattern": {
              "fillmode": "overlay",
              "size": 10,
              "solidity": 0.2
             }
            },
            "type": "barpolar"
           }
          ],
          "carpet": [
           {
            "aaxis": {
             "endlinecolor": "#2a3f5f",
             "gridcolor": "white",
             "linecolor": "white",
             "minorgridcolor": "white",
             "startlinecolor": "#2a3f5f"
            },
            "baxis": {
             "endlinecolor": "#2a3f5f",
             "gridcolor": "white",
             "linecolor": "white",
             "minorgridcolor": "white",
             "startlinecolor": "#2a3f5f"
            },
            "type": "carpet"
           }
          ],
          "choropleth": [
           {
            "colorbar": {
             "outlinewidth": 0,
             "ticks": ""
            },
            "type": "choropleth"
           }
          ],
          "contour": [
           {
            "colorbar": {
             "outlinewidth": 0,
             "ticks": ""
            },
            "colorscale": [
             [
              0,
              "#0d0887"
             ],
             [
              0.1111111111111111,
              "#46039f"
             ],
             [
              0.2222222222222222,
              "#7201a8"
             ],
             [
              0.3333333333333333,
              "#9c179e"
             ],
             [
              0.4444444444444444,
              "#bd3786"
             ],
             [
              0.5555555555555556,
              "#d8576b"
             ],
             [
              0.6666666666666666,
              "#ed7953"
             ],
             [
              0.7777777777777778,
              "#fb9f3a"
             ],
             [
              0.8888888888888888,
              "#fdca26"
             ],
             [
              1,
              "#f0f921"
             ]
            ],
            "type": "contour"
           }
          ],
          "contourcarpet": [
           {
            "colorbar": {
             "outlinewidth": 0,
             "ticks": ""
            },
            "type": "contourcarpet"
           }
          ],
          "heatmap": [
           {
            "colorbar": {
             "outlinewidth": 0,
             "ticks": ""
            },
            "colorscale": [
             [
              0,
              "#0d0887"
             ],
             [
              0.1111111111111111,
              "#46039f"
             ],
             [
              0.2222222222222222,
              "#7201a8"
             ],
             [
              0.3333333333333333,
              "#9c179e"
             ],
             [
              0.4444444444444444,
              "#bd3786"
             ],
             [
              0.5555555555555556,
              "#d8576b"
             ],
             [
              0.6666666666666666,
              "#ed7953"
             ],
             [
              0.7777777777777778,
              "#fb9f3a"
             ],
             [
              0.8888888888888888,
              "#fdca26"
             ],
             [
              1,
              "#f0f921"
             ]
            ],
            "type": "heatmap"
           }
          ],
          "heatmapgl": [
           {
            "colorbar": {
             "outlinewidth": 0,
             "ticks": ""
            },
            "colorscale": [
             [
              0,
              "#0d0887"
             ],
             [
              0.1111111111111111,
              "#46039f"
             ],
             [
              0.2222222222222222,
              "#7201a8"
             ],
             [
              0.3333333333333333,
              "#9c179e"
             ],
             [
              0.4444444444444444,
              "#bd3786"
             ],
             [
              0.5555555555555556,
              "#d8576b"
             ],
             [
              0.6666666666666666,
              "#ed7953"
             ],
             [
              0.7777777777777778,
              "#fb9f3a"
             ],
             [
              0.8888888888888888,
              "#fdca26"
             ],
             [
              1,
              "#f0f921"
             ]
            ],
            "type": "heatmapgl"
           }
          ],
          "histogram": [
           {
            "marker": {
             "pattern": {
              "fillmode": "overlay",
              "size": 10,
              "solidity": 0.2
             }
            },
            "type": "histogram"
           }
          ],
          "histogram2d": [
           {
            "colorbar": {
             "outlinewidth": 0,
             "ticks": ""
            },
            "colorscale": [
             [
              0,
              "#0d0887"
             ],
             [
              0.1111111111111111,
              "#46039f"
             ],
             [
              0.2222222222222222,
              "#7201a8"
             ],
             [
              0.3333333333333333,
              "#9c179e"
             ],
             [
              0.4444444444444444,
              "#bd3786"
             ],
             [
              0.5555555555555556,
              "#d8576b"
             ],
             [
              0.6666666666666666,
              "#ed7953"
             ],
             [
              0.7777777777777778,
              "#fb9f3a"
             ],
             [
              0.8888888888888888,
              "#fdca26"
             ],
             [
              1,
              "#f0f921"
             ]
            ],
            "type": "histogram2d"
           }
          ],
          "histogram2dcontour": [
           {
            "colorbar": {
             "outlinewidth": 0,
             "ticks": ""
            },
            "colorscale": [
             [
              0,
              "#0d0887"
             ],
             [
              0.1111111111111111,
              "#46039f"
             ],
             [
              0.2222222222222222,
              "#7201a8"
             ],
             [
              0.3333333333333333,
              "#9c179e"
             ],
             [
              0.4444444444444444,
              "#bd3786"
             ],
             [
              0.5555555555555556,
              "#d8576b"
             ],
             [
              0.6666666666666666,
              "#ed7953"
             ],
             [
              0.7777777777777778,
              "#fb9f3a"
             ],
             [
              0.8888888888888888,
              "#fdca26"
             ],
             [
              1,
              "#f0f921"
             ]
            ],
            "type": "histogram2dcontour"
           }
          ],
          "mesh3d": [
           {
            "colorbar": {
             "outlinewidth": 0,
             "ticks": ""
            },
            "type": "mesh3d"
           }
          ],
          "parcoords": [
           {
            "line": {
             "colorbar": {
              "outlinewidth": 0,
              "ticks": ""
             }
            },
            "type": "parcoords"
           }
          ],
          "pie": [
           {
            "automargin": true,
            "type": "pie"
           }
          ],
          "scatter": [
           {
            "fillpattern": {
             "fillmode": "overlay",
             "size": 10,
             "solidity": 0.2
            },
            "type": "scatter"
           }
          ],
          "scatter3d": [
           {
            "line": {
             "colorbar": {
              "outlinewidth": 0,
              "ticks": ""
             }
            },
            "marker": {
             "colorbar": {
              "outlinewidth": 0,
              "ticks": ""
             }
            },
            "type": "scatter3d"
           }
          ],
          "scattercarpet": [
           {
            "marker": {
             "colorbar": {
              "outlinewidth": 0,
              "ticks": ""
             }
            },
            "type": "scattercarpet"
           }
          ],
          "scattergeo": [
           {
            "marker": {
             "colorbar": {
              "outlinewidth": 0,
              "ticks": ""
             }
            },
            "type": "scattergeo"
           }
          ],
          "scattergl": [
           {
            "marker": {
             "colorbar": {
              "outlinewidth": 0,
              "ticks": ""
             }
            },
            "type": "scattergl"
           }
          ],
          "scattermapbox": [
           {
            "marker": {
             "colorbar": {
              "outlinewidth": 0,
              "ticks": ""
             }
            },
            "type": "scattermapbox"
           }
          ],
          "scatterpolar": [
           {
            "marker": {
             "colorbar": {
              "outlinewidth": 0,
              "ticks": ""
             }
            },
            "type": "scatterpolar"
           }
          ],
          "scatterpolargl": [
           {
            "marker": {
             "colorbar": {
              "outlinewidth": 0,
              "ticks": ""
             }
            },
            "type": "scatterpolargl"
           }
          ],
          "scatterternary": [
           {
            "marker": {
             "colorbar": {
              "outlinewidth": 0,
              "ticks": ""
             }
            },
            "type": "scatterternary"
           }
          ],
          "surface": [
           {
            "colorbar": {
             "outlinewidth": 0,
             "ticks": ""
            },
            "colorscale": [
             [
              0,
              "#0d0887"
             ],
             [
              0.1111111111111111,
              "#46039f"
             ],
             [
              0.2222222222222222,
              "#7201a8"
             ],
             [
              0.3333333333333333,
              "#9c179e"
             ],
             [
              0.4444444444444444,
              "#bd3786"
             ],
             [
              0.5555555555555556,
              "#d8576b"
             ],
             [
              0.6666666666666666,
              "#ed7953"
             ],
             [
              0.7777777777777778,
              "#fb9f3a"
             ],
             [
              0.8888888888888888,
              "#fdca26"
             ],
             [
              1,
              "#f0f921"
             ]
            ],
            "type": "surface"
           }
          ],
          "table": [
           {
            "cells": {
             "fill": {
              "color": "#EBF0F8"
             },
             "line": {
              "color": "white"
             }
            },
            "header": {
             "fill": {
              "color": "#C8D4E3"
             },
             "line": {
              "color": "white"
             }
            },
            "type": "table"
           }
          ]
         },
         "layout": {
          "annotationdefaults": {
           "arrowcolor": "#2a3f5f",
           "arrowhead": 0,
           "arrowwidth": 1
          },
          "autotypenumbers": "strict",
          "coloraxis": {
           "colorbar": {
            "outlinewidth": 0,
            "ticks": ""
           }
          },
          "colorscale": {
           "diverging": [
            [
             0,
             "#8e0152"
            ],
            [
             0.1,
             "#c51b7d"
            ],
            [
             0.2,
             "#de77ae"
            ],
            [
             0.3,
             "#f1b6da"
            ],
            [
             0.4,
             "#fde0ef"
            ],
            [
             0.5,
             "#f7f7f7"
            ],
            [
             0.6,
             "#e6f5d0"
            ],
            [
             0.7,
             "#b8e186"
            ],
            [
             0.8,
             "#7fbc41"
            ],
            [
             0.9,
             "#4d9221"
            ],
            [
             1,
             "#276419"
            ]
           ],
           "sequential": [
            [
             0,
             "#0d0887"
            ],
            [
             0.1111111111111111,
             "#46039f"
            ],
            [
             0.2222222222222222,
             "#7201a8"
            ],
            [
             0.3333333333333333,
             "#9c179e"
            ],
            [
             0.4444444444444444,
             "#bd3786"
            ],
            [
             0.5555555555555556,
             "#d8576b"
            ],
            [
             0.6666666666666666,
             "#ed7953"
            ],
            [
             0.7777777777777778,
             "#fb9f3a"
            ],
            [
             0.8888888888888888,
             "#fdca26"
            ],
            [
             1,
             "#f0f921"
            ]
           ],
           "sequentialminus": [
            [
             0,
             "#0d0887"
            ],
            [
             0.1111111111111111,
             "#46039f"
            ],
            [
             0.2222222222222222,
             "#7201a8"
            ],
            [
             0.3333333333333333,
             "#9c179e"
            ],
            [
             0.4444444444444444,
             "#bd3786"
            ],
            [
             0.5555555555555556,
             "#d8576b"
            ],
            [
             0.6666666666666666,
             "#ed7953"
            ],
            [
             0.7777777777777778,
             "#fb9f3a"
            ],
            [
             0.8888888888888888,
             "#fdca26"
            ],
            [
             1,
             "#f0f921"
            ]
           ]
          },
          "colorway": [
           "#636efa",
           "#EF553B",
           "#00cc96",
           "#ab63fa",
           "#FFA15A",
           "#19d3f3",
           "#FF6692",
           "#B6E880",
           "#FF97FF",
           "#FECB52"
          ],
          "font": {
           "color": "#2a3f5f"
          },
          "geo": {
           "bgcolor": "white",
           "lakecolor": "white",
           "landcolor": "#E5ECF6",
           "showlakes": true,
           "showland": true,
           "subunitcolor": "white"
          },
          "hoverlabel": {
           "align": "left"
          },
          "hovermode": "closest",
          "mapbox": {
           "style": "light"
          },
          "paper_bgcolor": "white",
          "plot_bgcolor": "#E5ECF6",
          "polar": {
           "angularaxis": {
            "gridcolor": "white",
            "linecolor": "white",
            "ticks": ""
           },
           "bgcolor": "#E5ECF6",
           "radialaxis": {
            "gridcolor": "white",
            "linecolor": "white",
            "ticks": ""
           }
          },
          "scene": {
           "xaxis": {
            "backgroundcolor": "#E5ECF6",
            "gridcolor": "white",
            "gridwidth": 2,
            "linecolor": "white",
            "showbackground": true,
            "ticks": "",
            "zerolinecolor": "white"
           },
           "yaxis": {
            "backgroundcolor": "#E5ECF6",
            "gridcolor": "white",
            "gridwidth": 2,
            "linecolor": "white",
            "showbackground": true,
            "ticks": "",
            "zerolinecolor": "white"
           },
           "zaxis": {
            "backgroundcolor": "#E5ECF6",
            "gridcolor": "white",
            "gridwidth": 2,
            "linecolor": "white",
            "showbackground": true,
            "ticks": "",
            "zerolinecolor": "white"
           }
          },
          "shapedefaults": {
           "line": {
            "color": "#2a3f5f"
           }
          },
          "ternary": {
           "aaxis": {
            "gridcolor": "white",
            "linecolor": "white",
            "ticks": ""
           },
           "baxis": {
            "gridcolor": "white",
            "linecolor": "white",
            "ticks": ""
           },
           "bgcolor": "#E5ECF6",
           "caxis": {
            "gridcolor": "white",
            "linecolor": "white",
            "ticks": ""
           }
          },
          "title": {
           "x": 0.05
          },
          "xaxis": {
           "automargin": true,
           "gridcolor": "white",
           "linecolor": "white",
           "ticks": "",
           "title": {
            "standoff": 15
           },
           "zerolinecolor": "white",
           "zerolinewidth": 2
          },
          "yaxis": {
           "automargin": true,
           "gridcolor": "white",
           "linecolor": "white",
           "ticks": "",
           "title": {
            "standoff": 15
           },
           "zerolinecolor": "white",
           "zerolinewidth": 2
          }
         }
        },
        "title": {
         "font": {
          "size": 16
         },
         "text": "<br>Network graph made with Python"
        },
        "xaxis": {
         "showgrid": false,
         "showticklabels": false,
         "zeroline": false
        },
        "yaxis": {
         "showgrid": false,
         "showticklabels": false,
         "zeroline": false
        }
       }
      },
      "text/html": [
       "<div>                            <div id=\"e7a26d15-e228-4c64-8e1c-26db7ddd23a0\" class=\"plotly-graph-div\" style=\"height:525px; width:100%;\"></div>            <script type=\"text/javascript\">                require([\"plotly\"], function(Plotly) {                    window.PLOTLYENV=window.PLOTLYENV || {};                                    if (document.getElementById(\"e7a26d15-e228-4c64-8e1c-26db7ddd23a0\")) {                    Plotly.newPlot(                        \"e7a26d15-e228-4c64-8e1c-26db7ddd23a0\",                        [{\"hoverinfo\":\"none\",\"line\":{\"color\":\"#888\",\"width\":0.5},\"mode\":\"lines\",\"x\":[0.20873560919369216,0.2395665799009875,null,0.20873560919369216,0.13964950506348772,null,0.20873560919369216,0.10246417982295009,null,0.20873560919369216,0.38921426203367715,null,0.34049628266657506,0.2395665799009875,null,0.34049628266657506,0.3017774518078177,null,0.34049628266657506,0.5846251276683516,null,0.34049628266657506,0.10246417982295009,null,0.34049628266657506,0.47359681654598607,null,0.34049628266657506,0.38921426203367715,null,0.2395665799009875,0.037045027328589386,null,0.2395665799009875,0.13964950506348772,null,0.2395665799009875,0.10246417982295009,null,0.2395665799009875,0.47359681654598607,null,0.2395665799009875,0.38921426203367715,null,0.3017774518078177,0.3660668266298428,null,0.3017774518078177,0.47359681654598607,null,0.3017774518078177,0.47208165860284146,null,0.3017774518078177,0.0371891278572648,null,0.5846251276683516,0.651514479719079,null,0.5846251276683516,0.47359681654598607,null,0.5846251276683516,0.38921426203367715,null,0.651514479719079,0.6912706902278681,null,0.651514479719079,0.47359681654598607,null,0.651514479719079,0.38921426203367715,null,0.3660668266298428,0.47208165860284146,null,0.037045027328589386,0.10246417982295009,null,0.037045027328589386,0.0371891278572648,null,0.9081321540870607,0.6912706902278681,null,0.9081321540870607,0.8602426002366002,null,0.13964950506348772,0.10246417982295009,null,0.6912706902278681,0.8602426002366002,null,0.10246417982295009,0.38921426203367715,null,0.47359681654598607,0.38921426203367715,null],\"y\":[0.2022404506527713,0.42941532737261057,null,0.2022404506527713,0.23245568024425722,null,0.2022404506527713,0.34879134729583483,null,0.2022404506527713,0.41866924499974356,null,0.5168054817660743,0.42941532737261057,null,0.5168054817660743,0.7717931942110885,null,0.5168054817660743,0.5385425698732859,null,0.5168054817660743,0.34879134729583483,null,0.5168054817660743,0.5407594083446028,null,0.5168054817660743,0.41866924499974356,null,0.42941532737261057,0.5430192421188302,null,0.42941532737261057,0.23245568024425722,null,0.42941532737261057,0.34879134729583483,null,0.42941532737261057,0.5407594083446028,null,0.42941532737261057,0.41866924499974356,null,0.7717931942110885,0.9378778288635133,null,0.7717931942110885,0.5407594083446028,null,0.7717931942110885,0.967623450891434,null,0.7717931942110885,0.8216246554915526,null,0.5385425698732859,0.49095914052542833,null,0.5385425698732859,0.5407594083446028,null,0.5385425698732859,0.41866924499974356,null,0.49095914052542833,0.24310614933416652,null,0.49095914052542833,0.5407594083446028,null,0.49095914052542833,0.41866924499974356,null,0.9378778288635133,0.967623450891434,null,0.5430192421188302,0.34879134729583483,null,0.5430192421188302,0.8216246554915526,null,0.07737308980372992,0.24310614933416652,null,0.07737308980372992,0.010431328190805167,null,0.23245568024425722,0.34879134729583483,null,0.24310614933416652,0.010431328190805167,null,0.34879134729583483,0.41866924499974356,null,0.5407594083446028,0.41866924499974356,null],\"type\":\"scatter\"},{\"hoverinfo\":\"text\",\"marker\":{\"color\":[4,6,7,5,4,4,2,3,2,3,3,6,6,2,0,2,2,7],\"colorbar\":{\"thickness\":15,\"title\":{\"side\":\"right\",\"text\":\"Node Connections\"},\"xanchor\":\"left\"},\"colorscale\":[[0.0,\"rgb(255,255,217)\"],[0.125,\"rgb(237,248,177)\"],[0.25,\"rgb(199,233,180)\"],[0.375,\"rgb(127,205,187)\"],[0.5,\"rgb(65,182,196)\"],[0.625,\"rgb(29,145,192)\"],[0.75,\"rgb(34,94,168)\"],[0.875,\"rgb(37,52,148)\"],[1.0,\"rgb(8,29,88)\"]],\"line\":{\"width\":2},\"reversescale\":true,\"showscale\":true,\"size\":10},\"mode\":\"markers\",\"text\":[\"# of connections: 4\",\"# of connections: 6\",\"# of connections: 7\",\"# of connections: 5\",\"# of connections: 4\",\"# of connections: 4\",\"# of connections: 2\",\"# of connections: 3\",\"# of connections: 2\",\"# of connections: 3\",\"# of connections: 3\",\"# of connections: 6\",\"# of connections: 6\",\"# of connections: 2\",\"# of connections: 0\",\"# of connections: 2\",\"# of connections: 2\",\"# of connections: 7\"],\"x\":[0.20873560919369216,0.34049628266657506,0.2395665799009875,0.3017774518078177,0.5846251276683516,0.651514479719079,0.3660668266298428,0.037045027328589386,0.9081321540870607,0.13964950506348772,0.6912706902278681,0.10246417982295009,0.47359681654598607,0.8602426002366002,0.8123579198540448,0.47208165860284146,0.0371891278572648,0.38921426203367715],\"y\":[0.2022404506527713,0.5168054817660743,0.42941532737261057,0.7717931942110885,0.5385425698732859,0.49095914052542833,0.9378778288635133,0.5430192421188302,0.07737308980372992,0.23245568024425722,0.24310614933416652,0.34879134729583483,0.5407594083446028,0.010431328190805167,0.8171736748664922,0.967623450891434,0.8216246554915526,0.41866924499974356],\"type\":\"scatter\"}],                        {\"hovermode\":\"closest\",\"margin\":{\"b\":20,\"l\":5,\"r\":5,\"t\":40},\"showlegend\":false,\"title\":{\"font\":{\"size\":16},\"text\":\"\\u003cbr\\u003eNetwork graph made with Python\"},\"xaxis\":{\"showgrid\":false,\"showticklabels\":false,\"zeroline\":false},\"yaxis\":{\"showgrid\":false,\"showticklabels\":false,\"zeroline\":false},\"template\":{\"data\":{\"histogram2dcontour\":[{\"type\":\"histogram2dcontour\",\"colorbar\":{\"outlinewidth\":0,\"ticks\":\"\"},\"colorscale\":[[0.0,\"#0d0887\"],[0.1111111111111111,\"#46039f\"],[0.2222222222222222,\"#7201a8\"],[0.3333333333333333,\"#9c179e\"],[0.4444444444444444,\"#bd3786\"],[0.5555555555555556,\"#d8576b\"],[0.6666666666666666,\"#ed7953\"],[0.7777777777777778,\"#fb9f3a\"],[0.8888888888888888,\"#fdca26\"],[1.0,\"#f0f921\"]]}],\"choropleth\":[{\"type\":\"choropleth\",\"colorbar\":{\"outlinewidth\":0,\"ticks\":\"\"}}],\"histogram2d\":[{\"type\":\"histogram2d\",\"colorbar\":{\"outlinewidth\":0,\"ticks\":\"\"},\"colorscale\":[[0.0,\"#0d0887\"],[0.1111111111111111,\"#46039f\"],[0.2222222222222222,\"#7201a8\"],[0.3333333333333333,\"#9c179e\"],[0.4444444444444444,\"#bd3786\"],[0.5555555555555556,\"#d8576b\"],[0.6666666666666666,\"#ed7953\"],[0.7777777777777778,\"#fb9f3a\"],[0.8888888888888888,\"#fdca26\"],[1.0,\"#f0f921\"]]}],\"heatmap\":[{\"type\":\"heatmap\",\"colorbar\":{\"outlinewidth\":0,\"ticks\":\"\"},\"colorscale\":[[0.0,\"#0d0887\"],[0.1111111111111111,\"#46039f\"],[0.2222222222222222,\"#7201a8\"],[0.3333333333333333,\"#9c179e\"],[0.4444444444444444,\"#bd3786\"],[0.5555555555555556,\"#d8576b\"],[0.6666666666666666,\"#ed7953\"],[0.7777777777777778,\"#fb9f3a\"],[0.8888888888888888,\"#fdca26\"],[1.0,\"#f0f921\"]]}],\"heatmapgl\":[{\"type\":\"heatmapgl\",\"colorbar\":{\"outlinewidth\":0,\"ticks\":\"\"},\"colorscale\":[[0.0,\"#0d0887\"],[0.1111111111111111,\"#46039f\"],[0.2222222222222222,\"#7201a8\"],[0.3333333333333333,\"#9c179e\"],[0.4444444444444444,\"#bd3786\"],[0.5555555555555556,\"#d8576b\"],[0.6666666666666666,\"#ed7953\"],[0.7777777777777778,\"#fb9f3a\"],[0.8888888888888888,\"#fdca26\"],[1.0,\"#f0f921\"]]}],\"contourcarpet\":[{\"type\":\"contourcarpet\",\"colorbar\":{\"outlinewidth\":0,\"ticks\":\"\"}}],\"contour\":[{\"type\":\"contour\",\"colorbar\":{\"outlinewidth\":0,\"ticks\":\"\"},\"colorscale\":[[0.0,\"#0d0887\"],[0.1111111111111111,\"#46039f\"],[0.2222222222222222,\"#7201a8\"],[0.3333333333333333,\"#9c179e\"],[0.4444444444444444,\"#bd3786\"],[0.5555555555555556,\"#d8576b\"],[0.6666666666666666,\"#ed7953\"],[0.7777777777777778,\"#fb9f3a\"],[0.8888888888888888,\"#fdca26\"],[1.0,\"#f0f921\"]]}],\"surface\":[{\"type\":\"surface\",\"colorbar\":{\"outlinewidth\":0,\"ticks\":\"\"},\"colorscale\":[[0.0,\"#0d0887\"],[0.1111111111111111,\"#46039f\"],[0.2222222222222222,\"#7201a8\"],[0.3333333333333333,\"#9c179e\"],[0.4444444444444444,\"#bd3786\"],[0.5555555555555556,\"#d8576b\"],[0.6666666666666666,\"#ed7953\"],[0.7777777777777778,\"#fb9f3a\"],[0.8888888888888888,\"#fdca26\"],[1.0,\"#f0f921\"]]}],\"mesh3d\":[{\"type\":\"mesh3d\",\"colorbar\":{\"outlinewidth\":0,\"ticks\":\"\"}}],\"scatter\":[{\"fillpattern\":{\"fillmode\":\"overlay\",\"size\":10,\"solidity\":0.2},\"type\":\"scatter\"}],\"parcoords\":[{\"type\":\"parcoords\",\"line\":{\"colorbar\":{\"outlinewidth\":0,\"ticks\":\"\"}}}],\"scatterpolargl\":[{\"type\":\"scatterpolargl\",\"marker\":{\"colorbar\":{\"outlinewidth\":0,\"ticks\":\"\"}}}],\"bar\":[{\"error_x\":{\"color\":\"#2a3f5f\"},\"error_y\":{\"color\":\"#2a3f5f\"},\"marker\":{\"line\":{\"color\":\"#E5ECF6\",\"width\":0.5},\"pattern\":{\"fillmode\":\"overlay\",\"size\":10,\"solidity\":0.2}},\"type\":\"bar\"}],\"scattergeo\":[{\"type\":\"scattergeo\",\"marker\":{\"colorbar\":{\"outlinewidth\":0,\"ticks\":\"\"}}}],\"scatterpolar\":[{\"type\":\"scatterpolar\",\"marker\":{\"colorbar\":{\"outlinewidth\":0,\"ticks\":\"\"}}}],\"histogram\":[{\"marker\":{\"pattern\":{\"fillmode\":\"overlay\",\"size\":10,\"solidity\":0.2}},\"type\":\"histogram\"}],\"scattergl\":[{\"type\":\"scattergl\",\"marker\":{\"colorbar\":{\"outlinewidth\":0,\"ticks\":\"\"}}}],\"scatter3d\":[{\"type\":\"scatter3d\",\"line\":{\"colorbar\":{\"outlinewidth\":0,\"ticks\":\"\"}},\"marker\":{\"colorbar\":{\"outlinewidth\":0,\"ticks\":\"\"}}}],\"scattermapbox\":[{\"type\":\"scattermapbox\",\"marker\":{\"colorbar\":{\"outlinewidth\":0,\"ticks\":\"\"}}}],\"scatterternary\":[{\"type\":\"scatterternary\",\"marker\":{\"colorbar\":{\"outlinewidth\":0,\"ticks\":\"\"}}}],\"scattercarpet\":[{\"type\":\"scattercarpet\",\"marker\":{\"colorbar\":{\"outlinewidth\":0,\"ticks\":\"\"}}}],\"carpet\":[{\"aaxis\":{\"endlinecolor\":\"#2a3f5f\",\"gridcolor\":\"white\",\"linecolor\":\"white\",\"minorgridcolor\":\"white\",\"startlinecolor\":\"#2a3f5f\"},\"baxis\":{\"endlinecolor\":\"#2a3f5f\",\"gridcolor\":\"white\",\"linecolor\":\"white\",\"minorgridcolor\":\"white\",\"startlinecolor\":\"#2a3f5f\"},\"type\":\"carpet\"}],\"table\":[{\"cells\":{\"fill\":{\"color\":\"#EBF0F8\"},\"line\":{\"color\":\"white\"}},\"header\":{\"fill\":{\"color\":\"#C8D4E3\"},\"line\":{\"color\":\"white\"}},\"type\":\"table\"}],\"barpolar\":[{\"marker\":{\"line\":{\"color\":\"#E5ECF6\",\"width\":0.5},\"pattern\":{\"fillmode\":\"overlay\",\"size\":10,\"solidity\":0.2}},\"type\":\"barpolar\"}],\"pie\":[{\"automargin\":true,\"type\":\"pie\"}]},\"layout\":{\"autotypenumbers\":\"strict\",\"colorway\":[\"#636efa\",\"#EF553B\",\"#00cc96\",\"#ab63fa\",\"#FFA15A\",\"#19d3f3\",\"#FF6692\",\"#B6E880\",\"#FF97FF\",\"#FECB52\"],\"font\":{\"color\":\"#2a3f5f\"},\"hovermode\":\"closest\",\"hoverlabel\":{\"align\":\"left\"},\"paper_bgcolor\":\"white\",\"plot_bgcolor\":\"#E5ECF6\",\"polar\":{\"bgcolor\":\"#E5ECF6\",\"angularaxis\":{\"gridcolor\":\"white\",\"linecolor\":\"white\",\"ticks\":\"\"},\"radialaxis\":{\"gridcolor\":\"white\",\"linecolor\":\"white\",\"ticks\":\"\"}},\"ternary\":{\"bgcolor\":\"#E5ECF6\",\"aaxis\":{\"gridcolor\":\"white\",\"linecolor\":\"white\",\"ticks\":\"\"},\"baxis\":{\"gridcolor\":\"white\",\"linecolor\":\"white\",\"ticks\":\"\"},\"caxis\":{\"gridcolor\":\"white\",\"linecolor\":\"white\",\"ticks\":\"\"}},\"coloraxis\":{\"colorbar\":{\"outlinewidth\":0,\"ticks\":\"\"}},\"colorscale\":{\"sequential\":[[0.0,\"#0d0887\"],[0.1111111111111111,\"#46039f\"],[0.2222222222222222,\"#7201a8\"],[0.3333333333333333,\"#9c179e\"],[0.4444444444444444,\"#bd3786\"],[0.5555555555555556,\"#d8576b\"],[0.6666666666666666,\"#ed7953\"],[0.7777777777777778,\"#fb9f3a\"],[0.8888888888888888,\"#fdca26\"],[1.0,\"#f0f921\"]],\"sequentialminus\":[[0.0,\"#0d0887\"],[0.1111111111111111,\"#46039f\"],[0.2222222222222222,\"#7201a8\"],[0.3333333333333333,\"#9c179e\"],[0.4444444444444444,\"#bd3786\"],[0.5555555555555556,\"#d8576b\"],[0.6666666666666666,\"#ed7953\"],[0.7777777777777778,\"#fb9f3a\"],[0.8888888888888888,\"#fdca26\"],[1.0,\"#f0f921\"]],\"diverging\":[[0,\"#8e0152\"],[0.1,\"#c51b7d\"],[0.2,\"#de77ae\"],[0.3,\"#f1b6da\"],[0.4,\"#fde0ef\"],[0.5,\"#f7f7f7\"],[0.6,\"#e6f5d0\"],[0.7,\"#b8e186\"],[0.8,\"#7fbc41\"],[0.9,\"#4d9221\"],[1,\"#276419\"]]},\"xaxis\":{\"gridcolor\":\"white\",\"linecolor\":\"white\",\"ticks\":\"\",\"title\":{\"standoff\":15},\"zerolinecolor\":\"white\",\"automargin\":true,\"zerolinewidth\":2},\"yaxis\":{\"gridcolor\":\"white\",\"linecolor\":\"white\",\"ticks\":\"\",\"title\":{\"standoff\":15},\"zerolinecolor\":\"white\",\"automargin\":true,\"zerolinewidth\":2},\"scene\":{\"xaxis\":{\"backgroundcolor\":\"#E5ECF6\",\"gridcolor\":\"white\",\"linecolor\":\"white\",\"showbackground\":true,\"ticks\":\"\",\"zerolinecolor\":\"white\",\"gridwidth\":2},\"yaxis\":{\"backgroundcolor\":\"#E5ECF6\",\"gridcolor\":\"white\",\"linecolor\":\"white\",\"showbackground\":true,\"ticks\":\"\",\"zerolinecolor\":\"white\",\"gridwidth\":2},\"zaxis\":{\"backgroundcolor\":\"#E5ECF6\",\"gridcolor\":\"white\",\"linecolor\":\"white\",\"showbackground\":true,\"ticks\":\"\",\"zerolinecolor\":\"white\",\"gridwidth\":2}},\"shapedefaults\":{\"line\":{\"color\":\"#2a3f5f\"}},\"annotationdefaults\":{\"arrowcolor\":\"#2a3f5f\",\"arrowhead\":0,\"arrowwidth\":1},\"geo\":{\"bgcolor\":\"white\",\"landcolor\":\"#E5ECF6\",\"subunitcolor\":\"white\",\"showland\":true,\"showlakes\":true,\"lakecolor\":\"white\"},\"title\":{\"x\":0.05},\"mapbox\":{\"style\":\"light\"}}}},                        {\"responsive\": true}                    ).then(function(){\n",
       "                            \n",
       "var gd = document.getElementById('e7a26d15-e228-4c64-8e1c-26db7ddd23a0');\n",
       "var x = new MutationObserver(function (mutations, observer) {{\n",
       "        var display = window.getComputedStyle(gd).display;\n",
       "        if (!display || display === 'none') {{\n",
       "            console.log([gd, 'removed!']);\n",
       "            Plotly.purge(gd);\n",
       "            observer.disconnect();\n",
       "        }}\n",
       "}});\n",
       "\n",
       "// Listen for the removal of the full notebook cells\n",
       "var notebookContainer = gd.closest('#notebook-container');\n",
       "if (notebookContainer) {{\n",
       "    x.observe(notebookContainer, {childList: true});\n",
       "}}\n",
       "\n",
       "// Listen for the clearing of the current output cell\n",
       "var outputEl = gd.closest('.output');\n",
       "if (outputEl) {{\n",
       "    x.observe(outputEl, {childList: true});\n",
       "}}\n",
       "\n",
       "                        })                };                });            </script>        </div>"
      ]
     },
     "metadata": {},
     "output_type": "display_data"
    }
   ],
   "source": [
    "fig = go.Figure(data=[edge_trace, node_trace],\n",
    "             layout=go.Layout(\n",
    "                title=dict(\n",
    "                    text=\"<br>Network graph made with Python\",\n",
    "                    font=dict(\n",
    "                        size=16\n",
    "                    )\n",
    "                ),\n",
    "                showlegend=False,\n",
    "                hovermode='closest',\n",
    "                margin=dict(b=20,l=5,r=5,t=40),\n",
    "#                 annotations=[ dict(\n",
    "#                     #text=\"Python code: <a href='https://plotly.com/python/network-graphs/'> https://plotly.com/python/network-graphs/</a>\",\n",
    "#                     showarrow=False,\n",
    "#                     xref=\"paper\", yref=\"paper\",\n",
    "#                     x=0.005, y=-0.002 ) ],\n",
    "                xaxis=dict(showgrid=False, zeroline=False, showticklabels=False),\n",
    "                yaxis=dict(showgrid=False, zeroline=False, showticklabels=False))\n",
    "                )\n",
    "fig.show()"
   ]
  },
  {
   "cell_type": "code",
   "execution_count": null,
   "id": "9a085e43",
   "metadata": {},
   "outputs": [],
   "source": []
  },
  {
   "cell_type": "code",
   "execution_count": null,
   "id": "1a057023",
   "metadata": {},
   "outputs": [],
   "source": []
  }
 ],
 "metadata": {
  "kernelspec": {
   "display_name": "Python 3 (ipykernel)",
   "language": "python",
   "name": "python3"
  },
  "language_info": {
   "codemirror_mode": {
    "name": "ipython",
    "version": 3
   },
   "file_extension": ".py",
   "mimetype": "text/x-python",
   "name": "python",
   "nbconvert_exporter": "python",
   "pygments_lexer": "ipython3",
   "version": "3.11.5"
  }
 },
 "nbformat": 4,
 "nbformat_minor": 5
}
