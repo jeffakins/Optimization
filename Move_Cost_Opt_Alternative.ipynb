{
 "cells": [
  {
   "cell_type": "markdown",
   "id": "c1b1ad2f",
   "metadata": {},
   "source": [
    "### Optimization Algorithms"
   ]
  },
  {
   "cell_type": "markdown",
   "id": "1a24e6ab",
   "metadata": {},
   "source": [
    "#### Scenario\n",
    "Suppose that I have a business with three job categories of engineer, baker, and accountant. Each category has five promotion levels of 1 through 5. There are also four city locations where each of these categories of employees can work from. The company allows workers to change locations about every three years and will pay for it, but a level and position must be available. How can I use python with either scipy optimize or pytorch optimize to optimize the number of moves each year by maximizing the available moves while minimizing the total cost to staying within a certain budget?"
   ]
  },
  {
   "cell_type": "code",
   "execution_count": 1,
   "id": "85770ffa",
   "metadata": {},
   "outputs": [],
   "source": [
    "import pandas as pd\n",
    "import numpy as np\n",
    "import itertools\n",
    "from itertools import product\n",
    "from scipy.optimize import milp, LinearConstraint, Bounds, linprog"
   ]
  },
  {
   "cell_type": "code",
   "execution_count": 5,
   "id": "ef620f42",
   "metadata": {},
   "outputs": [
    {
     "data": {
      "text/html": [
       "<div>\n",
       "<style scoped>\n",
       "    .dataframe tbody tr th:only-of-type {\n",
       "        vertical-align: middle;\n",
       "    }\n",
       "\n",
       "    .dataframe tbody tr th {\n",
       "        vertical-align: top;\n",
       "    }\n",
       "\n",
       "    .dataframe thead th {\n",
       "        text-align: right;\n",
       "    }\n",
       "</style>\n",
       "<table border=\"1\" class=\"dataframe\">\n",
       "  <thead>\n",
       "    <tr style=\"text-align: right;\">\n",
       "      <th></th>\n",
       "      <th>City</th>\n",
       "      <th>Position</th>\n",
       "      <th>Level</th>\n",
       "      <th>Level_Category</th>\n",
       "      <th>City_in_US</th>\n",
       "      <th>Cost_per_Move</th>\n",
       "    </tr>\n",
       "  </thead>\n",
       "  <tbody>\n",
       "    <tr>\n",
       "      <th>0</th>\n",
       "      <td>Seattle</td>\n",
       "      <td>Engineer</td>\n",
       "      <td>1</td>\n",
       "      <td>Junior</td>\n",
       "      <td>True</td>\n",
       "      <td>8000</td>\n",
       "    </tr>\n",
       "    <tr>\n",
       "      <th>1</th>\n",
       "      <td>Seattle</td>\n",
       "      <td>Engineer</td>\n",
       "      <td>1</td>\n",
       "      <td>Junior</td>\n",
       "      <td>True</td>\n",
       "      <td>8000</td>\n",
       "    </tr>\n",
       "    <tr>\n",
       "      <th>2</th>\n",
       "      <td>Seattle</td>\n",
       "      <td>Engineer</td>\n",
       "      <td>1</td>\n",
       "      <td>Junior</td>\n",
       "      <td>True</td>\n",
       "      <td>8000</td>\n",
       "    </tr>\n",
       "    <tr>\n",
       "      <th>3</th>\n",
       "      <td>Seattle</td>\n",
       "      <td>Engineer</td>\n",
       "      <td>1</td>\n",
       "      <td>Junior</td>\n",
       "      <td>True</td>\n",
       "      <td>8000</td>\n",
       "    </tr>\n",
       "    <tr>\n",
       "      <th>4</th>\n",
       "      <td>Seattle</td>\n",
       "      <td>Engineer</td>\n",
       "      <td>1</td>\n",
       "      <td>Junior</td>\n",
       "      <td>True</td>\n",
       "      <td>8000</td>\n",
       "    </tr>\n",
       "    <tr>\n",
       "      <th>...</th>\n",
       "      <td>...</td>\n",
       "      <td>...</td>\n",
       "      <td>...</td>\n",
       "      <td>...</td>\n",
       "      <td>...</td>\n",
       "      <td>...</td>\n",
       "    </tr>\n",
       "    <tr>\n",
       "      <th>3482</th>\n",
       "      <td>London</td>\n",
       "      <td>Accountant</td>\n",
       "      <td>3</td>\n",
       "      <td>Junior</td>\n",
       "      <td>False</td>\n",
       "      <td>10000</td>\n",
       "    </tr>\n",
       "    <tr>\n",
       "      <th>3483</th>\n",
       "      <td>London</td>\n",
       "      <td>Accountant</td>\n",
       "      <td>3</td>\n",
       "      <td>Junior</td>\n",
       "      <td>False</td>\n",
       "      <td>10000</td>\n",
       "    </tr>\n",
       "    <tr>\n",
       "      <th>3484</th>\n",
       "      <td>London</td>\n",
       "      <td>Accountant</td>\n",
       "      <td>4</td>\n",
       "      <td>Senior</td>\n",
       "      <td>False</td>\n",
       "      <td>12000</td>\n",
       "    </tr>\n",
       "    <tr>\n",
       "      <th>3485</th>\n",
       "      <td>London</td>\n",
       "      <td>Accountant</td>\n",
       "      <td>4</td>\n",
       "      <td>Senior</td>\n",
       "      <td>False</td>\n",
       "      <td>12000</td>\n",
       "    </tr>\n",
       "    <tr>\n",
       "      <th>3486</th>\n",
       "      <td>London</td>\n",
       "      <td>Accountant</td>\n",
       "      <td>5</td>\n",
       "      <td>Senior</td>\n",
       "      <td>False</td>\n",
       "      <td>12000</td>\n",
       "    </tr>\n",
       "  </tbody>\n",
       "</table>\n",
       "<p>3487 rows × 6 columns</p>\n",
       "</div>"
      ],
      "text/plain": [
       "         City    Position  Level Level_Category  City_in_US  Cost_per_Move\n",
       "0     Seattle    Engineer      1         Junior        True           8000\n",
       "1     Seattle    Engineer      1         Junior        True           8000\n",
       "2     Seattle    Engineer      1         Junior        True           8000\n",
       "3     Seattle    Engineer      1         Junior        True           8000\n",
       "4     Seattle    Engineer      1         Junior        True           8000\n",
       "...       ...         ...    ...            ...         ...            ...\n",
       "3482   London  Accountant      3         Junior       False          10000\n",
       "3483   London  Accountant      3         Junior       False          10000\n",
       "3484   London  Accountant      4         Senior       False          12000\n",
       "3485   London  Accountant      4         Senior       False          12000\n",
       "3486   London  Accountant      5         Senior       False          12000\n",
       "\n",
       "[3487 rows x 6 columns]"
      ]
     },
     "execution_count": 5,
     "metadata": {},
     "output_type": "execute_result"
    }
   ],
   "source": [
    "# Categories\n",
    "cities = ['Seattle', 'Los Angeles', 'Denver', 'Austin', 'Tokyo', 'London']\n",
    "job_categories = ['Engineer', 'Scientist', 'Accountant']\n",
    "levels = [1, 2, 3, 4, 5]\n",
    "\n",
    "# Combining categories and adding people per category\n",
    "combinations = list(itertools.product(cities, job_categories, levels))\n",
    "df = pd.DataFrame(combinations, columns=['City', 'Position', 'Level'])\n",
    "df['People'] = [100, 200, 200, 50, 5,\n",
    "               25, 45, 55, 15, 3,\n",
    "               3, 4, 5, 2, 1,\n",
    "               200, 300, 350, 150, 15,\n",
    "               50, 80, 95, 30, 6,\n",
    "               9, 12, 9, 4, 2,\n",
    "               80, 150, 150, 50, 5,\n",
    "               30, 45, 55, 15, 3,\n",
    "               3, 4, 5, 2, 1,\n",
    "               120, 130, 140, 80, 10,\n",
    "               60, 50, 50, 30, 5,\n",
    "               6, 10, 9, 4, 2,\n",
    "               12, 13, 14, 8, 1,\n",
    "               6, 5, 5, 3, 1,\n",
    "               3, 3, 3, 2, 1,\n",
    "               10, 10, 10, 3, 1,\n",
    "               10, 10, 10, 3, 1,\n",
    "               2, 3, 2, 2, 1]\n",
    "\n",
    "# Functions to apply additional categories \n",
    "def level_cat(level):\n",
    "    '''Returns Senior if the level is 4 or above; else the level is junior'''\n",
    "    if level >= 4:\n",
    "        return 'Senior'\n",
    "    else:\n",
    "        return 'Junior'\n",
    "        \n",
    "def us_city(city):\n",
    "    '''Returns True is the city is in the United States; else False'''\n",
    "    if city in ['Seattle', 'Los Angeles', 'Denver', 'Austin']:\n",
    "        return True\n",
    "    else:\n",
    "        return False\n",
    "\n",
    "def cost_per_move(df):\n",
    "    '''Returns the cost per move based on conditions'''\n",
    "    if df.City_in_US == True and df.Level_Category == 'Junior':\n",
    "        return 8000\n",
    "    elif df.City_in_US == True and df.Level_Category == 'Senior':\n",
    "        return 9500\n",
    "    elif df.City_in_US == False and df.Level_Category == 'Junior':\n",
    "        return 10000\n",
    "    else:\n",
    "        return 12000\n",
    "\n",
    "# Applying functions\n",
    "df['Level_Category'] = df.Level.apply(level_cat)\n",
    "df['City_in_US'] = df.City.apply(us_city)\n",
    "df['Cost_per_Move'] = df.apply(cost_per_move, axis=1)\n",
    "\n",
    "# Final DataFrame\n",
    "df\n",
    "\n",
    "# Expanded rows of dataframe by number of people\n",
    "expanded_df = df.reindex(df.index.repeat(df['People']))\n",
    "\n",
    "# Reset the index if desired\n",
    "expanded_df = expanded_df.reset_index(drop=True)\n",
    "\n",
    "# Drop people\n",
    "expanded_df = expanded_df.drop(columns='People')\n",
    "\n",
    "expanded_df"
   ]
  },
  {
   "cell_type": "code",
   "execution_count": 12,
   "id": "09a91ae4",
   "metadata": {},
   "outputs": [
    {
     "name": "stdout",
     "output_type": "stream",
     "text": [
      "Total Number of Positions: 3,487; Total Cost: $29,001,000\n"
     ]
    }
   ],
   "source": [
    "print(f'Total Number of Positions: {len(expanded_df):,}; Total Cost: ${expanded_df.Cost_per_Move.sum():,}') "
   ]
  },
  {
   "cell_type": "code",
   "execution_count": 14,
   "id": "d4c37a8b",
   "metadata": {},
   "outputs": [
    {
     "name": "stdout",
     "output_type": "stream",
     "text": [
      "Total Number of Positions: 872; Total Cost: $7,242,000\n"
     ]
    }
   ],
   "source": [
    "sample_df = expanded_df.sample(frac=0.25)\n",
    "print(f'Total Number of Positions: {len(sample_df):,}; Total Cost: ${sample_df.Cost_per_Move.sum():,}') "
   ]
  },
  {
   "cell_type": "code",
   "execution_count": 30,
   "id": "ae97c50b",
   "metadata": {},
   "outputs": [
    {
     "name": "stdout",
     "output_type": "stream",
     "text": [
      "Out of 100 iterations\n",
      "Min Cost: $7,194,000; Max Cost: $7,311,500; Avg Cost: $7,252,458; STDev Cost: $18,129\n"
     ]
    }
   ],
   "source": [
    "# Cost of 25% Sample size each iteration\n",
    "cost_list = []\n",
    "for n in range(0, 1000):\n",
    "    sample_df = expanded_df.sample(frac=0.25)\n",
    "    cost_list.append(sample_df.Cost_per_Move.sum()) \n",
    "\n",
    "cost_df = pd.DataFrame(cost_list, columns=['cost'])\n",
    "\n",
    "print('Out of 100 iterations')\n",
    "print(f'Min Cost: ${cost_df.cost.min():,}; Max Cost: ${cost_df.cost.max():,}; Avg Cost: ${cost_df.cost.mean():,.0f}; STDev Cost: ${cost_df.cost.std():,.0f}') "
   ]
  },
  {
   "cell_type": "code",
   "execution_count": 33,
   "id": "77273f3d",
   "metadata": {},
   "outputs": [
    {
     "name": "stdout",
     "output_type": "stream",
     "text": [
      "Out of 100 iterations\n",
      "Min Cost: $5,796,500; Max Cost: $8,701,500; Avg Cost: $7,256,860; STDev Cost: $843,654\n"
     ]
    }
   ],
   "source": [
    "# Cost of between 20% and 30% Sample size each iteration\n",
    "cost_list = []\n",
    "for n in range(0, 1000):\n",
    "    # Random percentage of movers\n",
    "    random_mover_percentage = np.random.uniform(low=0.2, high=0.3)\n",
    "    sample_df = expanded_df.sample(frac=random_mover_percentage)\n",
    "    cost_list.append(sample_df.Cost_per_Move.sum()) \n",
    "\n",
    "cost_df = pd.DataFrame(cost_list, columns=['cost'])\n",
    "\n",
    "print('Out of 100 iterations')\n",
    "print(f'Min Cost: ${cost_df.cost.min():,}; Max Cost: ${cost_df.cost.max():,}; Avg Cost: ${cost_df.cost.mean():,.0f}; STDev Cost: ${cost_df.cost.std():,.0f}')"
   ]
  },
  {
   "cell_type": "code",
   "execution_count": null,
   "id": "acdf75fe",
   "metadata": {},
   "outputs": [],
   "source": []
  }
 ],
 "metadata": {
  "kernelspec": {
   "display_name": "Python 3 (ipykernel)",
   "language": "python",
   "name": "python3"
  },
  "language_info": {
   "codemirror_mode": {
    "name": "ipython",
    "version": 3
   },
   "file_extension": ".py",
   "mimetype": "text/x-python",
   "name": "python",
   "nbconvert_exporter": "python",
   "pygments_lexer": "ipython3",
   "version": "3.11.5"
  }
 },
 "nbformat": 4,
 "nbformat_minor": 5
}
